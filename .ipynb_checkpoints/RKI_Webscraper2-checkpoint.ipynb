{
 "cells": [
  {
   "cell_type": "code",
   "execution_count": 1,
   "metadata": {
    "ExecuteTime": {
     "end_time": "2020-03-21T18:07:30.417486Z",
     "start_time": "2020-03-21T18:07:29.434874Z"
    }
   },
   "outputs": [],
   "source": [
    "import requests\n",
    "import pandas as pd\n",
    "import re\n",
    "from bs4 import BeautifulSoup\n",
    "from datetime import date"
   ]
  },
  {
   "cell_type": "code",
   "execution_count": 2,
   "metadata": {
    "ExecuteTime": {
     "end_time": "2020-03-21T18:07:30.512922Z",
     "start_time": "2020-03-21T18:07:30.499915Z"
    }
   },
   "outputs": [],
   "source": [
    "df_old = pd.read_csv(\"brd_covid_19.csv\",parse_dates=[7])"
   ]
  },
  {
   "cell_type": "code",
   "execution_count": 3,
   "metadata": {
    "ExecuteTime": {
     "end_time": "2020-03-21T18:07:30.635326Z",
     "start_time": "2020-03-21T18:07:30.620514Z"
    }
   },
   "outputs": [],
   "source": [
    "df_old = df_old.sort_values([\"bundesland\", \"datum\"])\n",
    "\n",
    "df_old.drop_duplicates(inplace=True)\n",
    "\n",
    "df_old = df_old.reset_index().drop(\"index\",axis = 1)"
   ]
  },
  {
   "cell_type": "code",
   "execution_count": 4,
   "metadata": {
    "ExecuteTime": {
     "end_time": "2020-03-21T18:07:31.165573Z",
     "start_time": "2020-03-21T18:07:31.161798Z"
    }
   },
   "outputs": [],
   "source": [
    "today = date.today()"
   ]
  },
  {
   "cell_type": "code",
   "execution_count": 5,
   "metadata": {
    "ExecuteTime": {
     "end_time": "2020-03-21T18:07:31.806318Z",
     "start_time": "2020-03-21T18:07:31.802282Z"
    }
   },
   "outputs": [],
   "source": [
    "URL = \"https://www.rki.de/DE/Content/InfAZ/N/Neuartiges_Coronavirus/Fallzahlen.html\""
   ]
  },
  {
   "cell_type": "code",
   "execution_count": 6,
   "metadata": {
    "ExecuteTime": {
     "end_time": "2020-03-21T18:07:33.566764Z",
     "start_time": "2020-03-21T18:07:32.289705Z"
    }
   },
   "outputs": [],
   "source": [
    "page = requests.get(URL)"
   ]
  },
  {
   "cell_type": "code",
   "execution_count": 7,
   "metadata": {
    "ExecuteTime": {
     "end_time": "2020-03-21T18:07:33.772151Z",
     "start_time": "2020-03-21T18:07:33.720155Z"
    }
   },
   "outputs": [],
   "source": [
    "soup = BeautifulSoup(page.content, 'html.parser')"
   ]
  },
  {
   "cell_type": "code",
   "execution_count": 8,
   "metadata": {
    "ExecuteTime": {
     "end_time": "2020-03-21T18:07:34.047626Z",
     "start_time": "2020-03-21T18:07:34.043918Z"
    }
   },
   "outputs": [],
   "source": [
    "results = soup.find_all(\"tr\")"
   ]
  },
  {
   "cell_type": "code",
   "execution_count": 9,
   "metadata": {
    "ExecuteTime": {
     "end_time": "2020-03-21T18:07:34.360796Z",
     "start_time": "2020-03-21T18:07:34.351378Z"
    }
   },
   "outputs": [],
   "source": [
    "bundesland = []\n",
    "faelle = []\n",
    "tod = []\n",
    "neue_faelle=[]\n",
    "faelle_per_capita=[]\n",
    "for idx,elm in enumerate(results):\n",
    "    if idx > 1:\n",
    "        bundesland.append(re.sub('<[^<]+?>', '', str(elm.find_all(\"td\")[0])))\n",
    "        faelle.append(re.sub('<[^<]+?>', '', str(elm.find_all(\"td\")[1])))\n",
    "        neue_faelle.append(re.sub('<[^<]+?>', '', str(elm.find_all(\"td\")[2])))\n",
    "        faelle_per_capita.append(re.sub('<[^<]+?>', '', str(elm.find_all(\"td\")[3])))\n",
    "        tod.append(re.sub('<[^<]+?>', '', str(elm.find_all(\"td\")[4])))\n",
    "    else:\n",
    "        pass"
   ]
  },
  {
   "cell_type": "code",
   "execution_count": 10,
   "metadata": {
    "ExecuteTime": {
     "end_time": "2020-03-21T18:07:34.688811Z",
     "start_time": "2020-03-21T18:07:34.684776Z"
    }
   },
   "outputs": [],
   "source": [
    "bundesland =  [elm.replace(\"\\xad\",\"\") for elm in bundesland]\n",
    "faelle = [int(elm.replace(\".\",\"\")) for elm in faelle]\n",
    "tod = [int(elm.replace(\".\",\"\")) for elm in tod]\n",
    "neue_faelle = [int(elm.strip(\"+\").replace(\".\",\"\")) for elm in neue_faelle]\n",
    "faelle_per_capita = [float(elm.replace(\",\",\".\")) for elm in faelle_per_capita]"
   ]
  },
  {
   "cell_type": "code",
   "execution_count": 12,
   "metadata": {
    "ExecuteTime": {
     "end_time": "2020-03-21T18:07:41.637316Z",
     "start_time": "2020-03-21T18:07:41.629895Z"
    }
   },
   "outputs": [],
   "source": [
    "lat={\"Baden-Württemberg\":48.5, \"Bayern\":48.9, \"Berlin\":52.5, \"Brandenburg\":52, \"Bremen\":53.1, \"Hamburg\":53.5, \n",
    "     \"Hessen\":50.7, \"Mecklenburg-Vorpommern\":53.8, \"Niedersachsen\":52.57, \"Nordrhein-Westfalen\":51.6,\"Rheinland-Pfalz\":50, \n",
    "     \"Saarland\":49.4, \"Sachsen\":51.05, \"Sachsen-Anhalt\":52, \"Schleswig-Holstein\":54.2, \"Thüringen\":50.85, \"Gesamt\":51.06}\n",
    "long={\"Baden-Württemberg\":9, \"Bayern\":11.4, \"Berlin\":13.4, \"Brandenburg\":13.87, \"Bremen\":8.8, \"Hamburg\":10, \n",
    "      \"Hessen\":9, \"Mecklenburg-Vorpommern\":12.5,\"Niedersachsen\":10, \"Nordrhein-Westfalen\":7.5,\"Rheinland-Pfalz\":7.3,\n",
    "      \"Saarland\":6.97,\"Sachsen\":13.5, \"Sachsen-Anhalt\":11.65,\"Schleswig-Holstein\":9.9, \"Thüringen\":11.13,\"Gesamt\":10}\n"
   ]
  },
  {
   "cell_type": "code",
   "execution_count": 13,
   "metadata": {
    "ExecuteTime": {
     "end_time": "2020-03-21T18:07:41.996277Z",
     "start_time": "2020-03-21T18:07:41.984604Z"
    }
   },
   "outputs": [],
   "source": [
    "df=pd.DataFrame(data=[bundesland,faelle,tod,neue_faelle,faelle_per_capita]).T\n",
    "    "
   ]
  },
  {
   "cell_type": "code",
   "execution_count": 16,
   "metadata": {
    "ExecuteTime": {
     "end_time": "2020-03-21T18:07:57.622612Z",
     "start_time": "2020-03-21T18:07:57.616800Z"
    }
   },
   "outputs": [],
   "source": [
    "df[\"lat\"]=\"NaN\"\n",
    "df[\"long\"]=\"NaN\"\n",
    "df[\"date\"] = today"
   ]
  },
  {
   "cell_type": "code",
   "execution_count": 17,
   "metadata": {
    "ExecuteTime": {
     "end_time": "2020-03-21T18:07:58.108438Z",
     "start_time": "2020-03-21T18:07:58.103758Z"
    }
   },
   "outputs": [],
   "source": [
    "df.columns = [\"bundesland\",\"faelle\",\"tod\",\"neue_faelle\",\"faelle_per_capita\",\"lat\",\"long\",\"datum\"]"
   ]
  },
  {
   "cell_type": "code",
   "execution_count": 18,
   "metadata": {
    "ExecuteTime": {
     "end_time": "2020-03-21T18:07:58.807446Z",
     "start_time": "2020-03-21T18:07:58.803893Z"
    }
   },
   "outputs": [],
   "source": [
    "#df.tod = df.tod.replace(to_replace = \"\", value = \"0\", regex = True)"
   ]
  },
  {
   "cell_type": "code",
   "execution_count": 19,
   "metadata": {
    "ExecuteTime": {
     "end_time": "2020-03-21T18:07:59.253710Z",
     "start_time": "2020-03-21T18:07:59.246188Z"
    }
   },
   "outputs": [],
   "source": [
    "df.datum = pd.to_datetime(df.datum)"
   ]
  },
  {
   "cell_type": "code",
   "execution_count": 20,
   "metadata": {
    "ExecuteTime": {
     "end_time": "2020-03-21T18:07:59.799283Z",
     "start_time": "2020-03-21T18:07:59.792449Z"
    }
   },
   "outputs": [
    {
     "data": {
      "text/plain": [
       "array(['Baden-Württemberg', 'Bayern', 'Berlin', 'Brandenburg', 'Bremen',\n",
       "       'Hamburg', 'Hessen', 'Mecklenburg-Vorpommern', 'Niedersachsen',\n",
       "       'Nordrhein-Westfalen', 'Rheinland-Pfalz', 'Saarland', 'Sachsen',\n",
       "       'Sachsen-Anhalt', 'Schleswig-Holstein', 'Thüringen', 'Gesamt'],\n",
       "      dtype=object)"
      ]
     },
     "execution_count": 20,
     "metadata": {},
     "output_type": "execute_result"
    }
   ],
   "source": [
    "df.bundesland.values"
   ]
  },
  {
   "cell_type": "code",
   "execution_count": 21,
   "metadata": {
    "ExecuteTime": {
     "end_time": "2020-03-21T18:08:02.355454Z",
     "start_time": "2020-03-21T18:08:02.347470Z"
    }
   },
   "outputs": [],
   "source": [
    "df.bundesland.replace(\"Schleswig Holstein\",\"Schleswig-Holstein\", inplace=True)\n",
    "lat2=[]\n",
    "long2=[]\n",
    "for elm in df.bundesland.values:\n",
    "    lat2.append(lat[elm])\n",
    "    long2.append(long[elm])"
   ]
  },
  {
   "cell_type": "code",
   "execution_count": 22,
   "metadata": {
    "ExecuteTime": {
     "end_time": "2020-03-21T18:08:03.730750Z",
     "start_time": "2020-03-21T18:08:03.724421Z"
    }
   },
   "outputs": [],
   "source": [
    "df[\"lat\"] = lat2\n",
    "df[\"long\"] = long2"
   ]
  },
  {
   "cell_type": "code",
   "execution_count": 23,
   "metadata": {
    "ExecuteTime": {
     "end_time": "2020-03-21T18:08:04.558672Z",
     "start_time": "2020-03-21T18:08:04.542967Z"
    }
   },
   "outputs": [
    {
     "data": {
      "text/html": [
       "<div>\n",
       "<style scoped>\n",
       "    .dataframe tbody tr th:only-of-type {\n",
       "        vertical-align: middle;\n",
       "    }\n",
       "\n",
       "    .dataframe tbody tr th {\n",
       "        vertical-align: top;\n",
       "    }\n",
       "\n",
       "    .dataframe thead th {\n",
       "        text-align: right;\n",
       "    }\n",
       "</style>\n",
       "<table border=\"1\" class=\"dataframe\">\n",
       "  <thead>\n",
       "    <tr style=\"text-align: right;\">\n",
       "      <th></th>\n",
       "      <th>bundesland</th>\n",
       "      <th>faelle</th>\n",
       "      <th>tod</th>\n",
       "      <th>neue_faelle</th>\n",
       "      <th>faelle_per_capita</th>\n",
       "      <th>lat</th>\n",
       "      <th>long</th>\n",
       "      <th>datum</th>\n",
       "    </tr>\n",
       "  </thead>\n",
       "  <tbody>\n",
       "    <tr>\n",
       "      <td>0</td>\n",
       "      <td>Baden-Württemberg</td>\n",
       "      <td>3668</td>\n",
       "      <td>16</td>\n",
       "      <td>922</td>\n",
       "      <td>33</td>\n",
       "      <td>48.50</td>\n",
       "      <td>9.00</td>\n",
       "      <td>2020-03-21</td>\n",
       "    </tr>\n",
       "    <tr>\n",
       "      <td>1</td>\n",
       "      <td>Bayern</td>\n",
       "      <td>2960</td>\n",
       "      <td>19</td>\n",
       "      <td>559</td>\n",
       "      <td>23</td>\n",
       "      <td>48.90</td>\n",
       "      <td>11.40</td>\n",
       "      <td>2020-03-21</td>\n",
       "    </tr>\n",
       "    <tr>\n",
       "      <td>2</td>\n",
       "      <td>Berlin</td>\n",
       "      <td>866</td>\n",
       "      <td>1</td>\n",
       "      <td>135</td>\n",
       "      <td>23</td>\n",
       "      <td>52.50</td>\n",
       "      <td>13.40</td>\n",
       "      <td>2020-03-21</td>\n",
       "    </tr>\n",
       "    <tr>\n",
       "      <td>3</td>\n",
       "      <td>Brandenburg</td>\n",
       "      <td>254</td>\n",
       "      <td>0</td>\n",
       "      <td>62</td>\n",
       "      <td>10</td>\n",
       "      <td>52.00</td>\n",
       "      <td>13.87</td>\n",
       "      <td>2020-03-21</td>\n",
       "    </tr>\n",
       "    <tr>\n",
       "      <td>4</td>\n",
       "      <td>Bremen</td>\n",
       "      <td>142</td>\n",
       "      <td>0</td>\n",
       "      <td>21</td>\n",
       "      <td>21</td>\n",
       "      <td>53.10</td>\n",
       "      <td>8.80</td>\n",
       "      <td>2020-03-21</td>\n",
       "    </tr>\n",
       "    <tr>\n",
       "      <td>5</td>\n",
       "      <td>Hamburg</td>\n",
       "      <td>587</td>\n",
       "      <td>0</td>\n",
       "      <td>1</td>\n",
       "      <td>32</td>\n",
       "      <td>53.50</td>\n",
       "      <td>10.00</td>\n",
       "      <td>2020-03-21</td>\n",
       "    </tr>\n",
       "    <tr>\n",
       "      <td>6</td>\n",
       "      <td>Hessen</td>\n",
       "      <td>1080</td>\n",
       "      <td>2</td>\n",
       "      <td>267</td>\n",
       "      <td>17</td>\n",
       "      <td>50.70</td>\n",
       "      <td>9.00</td>\n",
       "      <td>2020-03-21</td>\n",
       "    </tr>\n",
       "    <tr>\n",
       "      <td>7</td>\n",
       "      <td>Mecklenburg-Vorpommern</td>\n",
       "      <td>165</td>\n",
       "      <td>0</td>\n",
       "      <td>34</td>\n",
       "      <td>10</td>\n",
       "      <td>53.80</td>\n",
       "      <td>12.50</td>\n",
       "      <td>2020-03-21</td>\n",
       "    </tr>\n",
       "    <tr>\n",
       "      <td>8</td>\n",
       "      <td>Niedersachsen</td>\n",
       "      <td>1023</td>\n",
       "      <td>0</td>\n",
       "      <td>220</td>\n",
       "      <td>13</td>\n",
       "      <td>52.57</td>\n",
       "      <td>10.00</td>\n",
       "      <td>2020-03-21</td>\n",
       "    </tr>\n",
       "    <tr>\n",
       "      <td>9</td>\n",
       "      <td>Nordrhein-Westfalen</td>\n",
       "      <td>3542</td>\n",
       "      <td>6</td>\n",
       "      <td>45</td>\n",
       "      <td>20</td>\n",
       "      <td>51.60</td>\n",
       "      <td>7.50</td>\n",
       "      <td>2020-03-21</td>\n",
       "    </tr>\n",
       "    <tr>\n",
       "      <td>10</td>\n",
       "      <td>Rheinland-Pfalz</td>\n",
       "      <td>938</td>\n",
       "      <td>1</td>\n",
       "      <td>137</td>\n",
       "      <td>23</td>\n",
       "      <td>50.00</td>\n",
       "      <td>7.30</td>\n",
       "      <td>2020-03-21</td>\n",
       "    </tr>\n",
       "    <tr>\n",
       "      <td>11</td>\n",
       "      <td>Saarland</td>\n",
       "      <td>187</td>\n",
       "      <td>0</td>\n",
       "      <td>41</td>\n",
       "      <td>19</td>\n",
       "      <td>49.40</td>\n",
       "      <td>6.97</td>\n",
       "      <td>2020-03-21</td>\n",
       "    </tr>\n",
       "    <tr>\n",
       "      <td>12</td>\n",
       "      <td>Sachsen</td>\n",
       "      <td>567</td>\n",
       "      <td>0</td>\n",
       "      <td>173</td>\n",
       "      <td>14</td>\n",
       "      <td>51.05</td>\n",
       "      <td>13.50</td>\n",
       "      <td>2020-03-21</td>\n",
       "    </tr>\n",
       "    <tr>\n",
       "      <td>13</td>\n",
       "      <td>Sachsen-Anhalt</td>\n",
       "      <td>188</td>\n",
       "      <td>0</td>\n",
       "      <td>8</td>\n",
       "      <td>9</td>\n",
       "      <td>52.00</td>\n",
       "      <td>11.65</td>\n",
       "      <td>2020-03-21</td>\n",
       "    </tr>\n",
       "    <tr>\n",
       "      <td>14</td>\n",
       "      <td>Schleswig-Holstein</td>\n",
       "      <td>308</td>\n",
       "      <td>1</td>\n",
       "      <td>42</td>\n",
       "      <td>11</td>\n",
       "      <td>54.20</td>\n",
       "      <td>9.90</td>\n",
       "      <td>2020-03-21</td>\n",
       "    </tr>\n",
       "    <tr>\n",
       "      <td>15</td>\n",
       "      <td>Thüringen</td>\n",
       "      <td>187</td>\n",
       "      <td>0</td>\n",
       "      <td>38</td>\n",
       "      <td>9</td>\n",
       "      <td>50.85</td>\n",
       "      <td>11.13</td>\n",
       "      <td>2020-03-21</td>\n",
       "    </tr>\n",
       "    <tr>\n",
       "      <td>16</td>\n",
       "      <td>Gesamt</td>\n",
       "      <td>16662</td>\n",
       "      <td>46</td>\n",
       "      <td>2705</td>\n",
       "      <td>20</td>\n",
       "      <td>51.06</td>\n",
       "      <td>10.00</td>\n",
       "      <td>2020-03-21</td>\n",
       "    </tr>\n",
       "  </tbody>\n",
       "</table>\n",
       "</div>"
      ],
      "text/plain": [
       "                bundesland faelle tod neue_faelle faelle_per_capita    lat  \\\n",
       "0        Baden-Württemberg   3668  16         922                33  48.50   \n",
       "1                   Bayern   2960  19         559                23  48.90   \n",
       "2                   Berlin    866   1         135                23  52.50   \n",
       "3              Brandenburg    254   0          62                10  52.00   \n",
       "4                   Bremen    142   0          21                21  53.10   \n",
       "5                  Hamburg    587   0           1                32  53.50   \n",
       "6                   Hessen   1080   2         267                17  50.70   \n",
       "7   Mecklenburg-Vorpommern    165   0          34                10  53.80   \n",
       "8            Niedersachsen   1023   0         220                13  52.57   \n",
       "9      Nordrhein-Westfalen   3542   6          45                20  51.60   \n",
       "10         Rheinland-Pfalz    938   1         137                23  50.00   \n",
       "11                Saarland    187   0          41                19  49.40   \n",
       "12                 Sachsen    567   0         173                14  51.05   \n",
       "13          Sachsen-Anhalt    188   0           8                 9  52.00   \n",
       "14      Schleswig-Holstein    308   1          42                11  54.20   \n",
       "15               Thüringen    187   0          38                 9  50.85   \n",
       "16                  Gesamt  16662  46        2705                20  51.06   \n",
       "\n",
       "     long      datum  \n",
       "0    9.00 2020-03-21  \n",
       "1   11.40 2020-03-21  \n",
       "2   13.40 2020-03-21  \n",
       "3   13.87 2020-03-21  \n",
       "4    8.80 2020-03-21  \n",
       "5   10.00 2020-03-21  \n",
       "6    9.00 2020-03-21  \n",
       "7   12.50 2020-03-21  \n",
       "8   10.00 2020-03-21  \n",
       "9    7.50 2020-03-21  \n",
       "10   7.30 2020-03-21  \n",
       "11   6.97 2020-03-21  \n",
       "12  13.50 2020-03-21  \n",
       "13  11.65 2020-03-21  \n",
       "14   9.90 2020-03-21  \n",
       "15  11.13 2020-03-21  \n",
       "16  10.00 2020-03-21  "
      ]
     },
     "execution_count": 23,
     "metadata": {},
     "output_type": "execute_result"
    }
   ],
   "source": [
    "df"
   ]
  },
  {
   "cell_type": "code",
   "execution_count": 24,
   "metadata": {
    "ExecuteTime": {
     "end_time": "2020-03-21T18:08:13.529368Z",
     "start_time": "2020-03-21T18:08:13.521101Z"
    }
   },
   "outputs": [],
   "source": [
    "#df.lat = df.lat.astype(\"float\")\n",
    "#df.long = df.long.astype(\"float\")\n",
    "df.tod = df.tod.astype(\"int64\")\n",
    "df.faelle = df.faelle.astype(\"int64\")\n",
    "df.neue_faelle = df.neue_faelle.astype(\"int64\")\n",
    "df.faelle_per_capita = df.faelle_per_capita.astype(\"float64\")"
   ]
  },
  {
   "cell_type": "code",
   "execution_count": 25,
   "metadata": {
    "ExecuteTime": {
     "end_time": "2020-03-21T18:08:14.067634Z",
     "start_time": "2020-03-21T18:08:14.046422Z"
    }
   },
   "outputs": [
    {
     "data": {
      "text/html": [
       "<div>\n",
       "<style scoped>\n",
       "    .dataframe tbody tr th:only-of-type {\n",
       "        vertical-align: middle;\n",
       "    }\n",
       "\n",
       "    .dataframe tbody tr th {\n",
       "        vertical-align: top;\n",
       "    }\n",
       "\n",
       "    .dataframe thead th {\n",
       "        text-align: right;\n",
       "    }\n",
       "</style>\n",
       "<table border=\"1\" class=\"dataframe\">\n",
       "  <thead>\n",
       "    <tr style=\"text-align: right;\">\n",
       "      <th></th>\n",
       "      <th>bundesland</th>\n",
       "      <th>faelle</th>\n",
       "      <th>tod</th>\n",
       "      <th>neue_faelle</th>\n",
       "      <th>faelle_per_capita</th>\n",
       "      <th>lat</th>\n",
       "      <th>long</th>\n",
       "      <th>datum</th>\n",
       "    </tr>\n",
       "  </thead>\n",
       "  <tbody>\n",
       "    <tr>\n",
       "      <td>0</td>\n",
       "      <td>Baden-Württemberg</td>\n",
       "      <td>10</td>\n",
       "      <td>0</td>\n",
       "      <td>0</td>\n",
       "      <td>0.1</td>\n",
       "      <td>48.50</td>\n",
       "      <td>9.00</td>\n",
       "      <td>2020-02-28</td>\n",
       "    </tr>\n",
       "    <tr>\n",
       "      <td>1</td>\n",
       "      <td>Baden-Württemberg</td>\n",
       "      <td>14</td>\n",
       "      <td>0</td>\n",
       "      <td>4</td>\n",
       "      <td>0.1</td>\n",
       "      <td>48.50</td>\n",
       "      <td>9.00</td>\n",
       "      <td>2020-02-29</td>\n",
       "    </tr>\n",
       "    <tr>\n",
       "      <td>2</td>\n",
       "      <td>Baden-Württemberg</td>\n",
       "      <td>15</td>\n",
       "      <td>0</td>\n",
       "      <td>1</td>\n",
       "      <td>0.1</td>\n",
       "      <td>48.50</td>\n",
       "      <td>9.00</td>\n",
       "      <td>2020-03-01</td>\n",
       "    </tr>\n",
       "    <tr>\n",
       "      <td>3</td>\n",
       "      <td>Baden-Württemberg</td>\n",
       "      <td>19</td>\n",
       "      <td>0</td>\n",
       "      <td>4</td>\n",
       "      <td>0.2</td>\n",
       "      <td>48.50</td>\n",
       "      <td>9.00</td>\n",
       "      <td>2020-03-02</td>\n",
       "    </tr>\n",
       "    <tr>\n",
       "      <td>4</td>\n",
       "      <td>Baden-Württemberg</td>\n",
       "      <td>26</td>\n",
       "      <td>0</td>\n",
       "      <td>7</td>\n",
       "      <td>0.2</td>\n",
       "      <td>48.50</td>\n",
       "      <td>9.00</td>\n",
       "      <td>2020-03-03</td>\n",
       "    </tr>\n",
       "    <tr>\n",
       "      <td>...</td>\n",
       "      <td>...</td>\n",
       "      <td>...</td>\n",
       "      <td>...</td>\n",
       "      <td>...</td>\n",
       "      <td>...</td>\n",
       "      <td>...</td>\n",
       "      <td>...</td>\n",
       "      <td>...</td>\n",
       "    </tr>\n",
       "    <tr>\n",
       "      <td>342</td>\n",
       "      <td>Sachsen</td>\n",
       "      <td>567</td>\n",
       "      <td>0</td>\n",
       "      <td>173</td>\n",
       "      <td>14.0</td>\n",
       "      <td>51.05</td>\n",
       "      <td>13.50</td>\n",
       "      <td>2020-03-21</td>\n",
       "    </tr>\n",
       "    <tr>\n",
       "      <td>343</td>\n",
       "      <td>Sachsen-Anhalt</td>\n",
       "      <td>188</td>\n",
       "      <td>0</td>\n",
       "      <td>8</td>\n",
       "      <td>9.0</td>\n",
       "      <td>52.00</td>\n",
       "      <td>11.65</td>\n",
       "      <td>2020-03-21</td>\n",
       "    </tr>\n",
       "    <tr>\n",
       "      <td>344</td>\n",
       "      <td>Schleswig-Holstein</td>\n",
       "      <td>308</td>\n",
       "      <td>1</td>\n",
       "      <td>42</td>\n",
       "      <td>11.0</td>\n",
       "      <td>54.20</td>\n",
       "      <td>9.90</td>\n",
       "      <td>2020-03-21</td>\n",
       "    </tr>\n",
       "    <tr>\n",
       "      <td>345</td>\n",
       "      <td>Thüringen</td>\n",
       "      <td>187</td>\n",
       "      <td>0</td>\n",
       "      <td>38</td>\n",
       "      <td>9.0</td>\n",
       "      <td>50.85</td>\n",
       "      <td>11.13</td>\n",
       "      <td>2020-03-21</td>\n",
       "    </tr>\n",
       "    <tr>\n",
       "      <td>346</td>\n",
       "      <td>Gesamt</td>\n",
       "      <td>16662</td>\n",
       "      <td>46</td>\n",
       "      <td>2705</td>\n",
       "      <td>20.0</td>\n",
       "      <td>51.06</td>\n",
       "      <td>10.00</td>\n",
       "      <td>2020-03-21</td>\n",
       "    </tr>\n",
       "  </tbody>\n",
       "</table>\n",
       "<p>347 rows × 8 columns</p>\n",
       "</div>"
      ],
      "text/plain": [
       "             bundesland  faelle  tod  neue_faelle  faelle_per_capita    lat  \\\n",
       "0     Baden-Württemberg      10    0            0                0.1  48.50   \n",
       "1     Baden-Württemberg      14    0            4                0.1  48.50   \n",
       "2     Baden-Württemberg      15    0            1                0.1  48.50   \n",
       "3     Baden-Württemberg      19    0            4                0.2  48.50   \n",
       "4     Baden-Württemberg      26    0            7                0.2  48.50   \n",
       "..                  ...     ...  ...          ...                ...    ...   \n",
       "342             Sachsen     567    0          173               14.0  51.05   \n",
       "343      Sachsen-Anhalt     188    0            8                9.0  52.00   \n",
       "344  Schleswig-Holstein     308    1           42               11.0  54.20   \n",
       "345           Thüringen     187    0           38                9.0  50.85   \n",
       "346              Gesamt   16662   46         2705               20.0  51.06   \n",
       "\n",
       "      long      datum  \n",
       "0     9.00 2020-02-28  \n",
       "1     9.00 2020-02-29  \n",
       "2     9.00 2020-03-01  \n",
       "3     9.00 2020-03-02  \n",
       "4     9.00 2020-03-03  \n",
       "..     ...        ...  \n",
       "342  13.50 2020-03-21  \n",
       "343  11.65 2020-03-21  \n",
       "344   9.90 2020-03-21  \n",
       "345  11.13 2020-03-21  \n",
       "346  10.00 2020-03-21  \n",
       "\n",
       "[347 rows x 8 columns]"
      ]
     },
     "execution_count": 25,
     "metadata": {},
     "output_type": "execute_result"
    }
   ],
   "source": [
    "pd.concat([df_old,df]).reset_index().drop(\"index\",axis=1)"
   ]
  },
  {
   "cell_type": "code",
   "execution_count": 26,
   "metadata": {
    "ExecuteTime": {
     "end_time": "2020-03-21T18:08:23.199316Z",
     "start_time": "2020-03-21T18:08:23.191747Z"
    }
   },
   "outputs": [],
   "source": [
    "df=pd.concat([df_old,df]).reset_index().drop(\"index\",axis=1)"
   ]
  },
  {
   "cell_type": "code",
   "execution_count": 27,
   "metadata": {
    "ExecuteTime": {
     "end_time": "2020-03-21T18:08:23.870272Z",
     "start_time": "2020-03-21T18:08:23.852182Z"
    }
   },
   "outputs": [
    {
     "data": {
      "text/html": [
       "<div>\n",
       "<style scoped>\n",
       "    .dataframe tbody tr th:only-of-type {\n",
       "        vertical-align: middle;\n",
       "    }\n",
       "\n",
       "    .dataframe tbody tr th {\n",
       "        vertical-align: top;\n",
       "    }\n",
       "\n",
       "    .dataframe thead th {\n",
       "        text-align: right;\n",
       "    }\n",
       "</style>\n",
       "<table border=\"1\" class=\"dataframe\">\n",
       "  <thead>\n",
       "    <tr style=\"text-align: right;\">\n",
       "      <th></th>\n",
       "      <th>bundesland</th>\n",
       "      <th>faelle</th>\n",
       "      <th>tod</th>\n",
       "      <th>neue_faelle</th>\n",
       "      <th>faelle_per_capita</th>\n",
       "      <th>lat</th>\n",
       "      <th>long</th>\n",
       "      <th>datum</th>\n",
       "    </tr>\n",
       "  </thead>\n",
       "  <tbody>\n",
       "    <tr>\n",
       "      <td>22</td>\n",
       "      <td>Bayern</td>\n",
       "      <td>15</td>\n",
       "      <td>0</td>\n",
       "      <td>0</td>\n",
       "      <td>0.10</td>\n",
       "      <td>48.9</td>\n",
       "      <td>11.4</td>\n",
       "      <td>2020-02-28</td>\n",
       "    </tr>\n",
       "    <tr>\n",
       "      <td>23</td>\n",
       "      <td>Bayern</td>\n",
       "      <td>15</td>\n",
       "      <td>0</td>\n",
       "      <td>0</td>\n",
       "      <td>0.10</td>\n",
       "      <td>48.9</td>\n",
       "      <td>11.4</td>\n",
       "      <td>2020-02-29</td>\n",
       "    </tr>\n",
       "    <tr>\n",
       "      <td>24</td>\n",
       "      <td>Bayern</td>\n",
       "      <td>19</td>\n",
       "      <td>0</td>\n",
       "      <td>4</td>\n",
       "      <td>0.10</td>\n",
       "      <td>48.9</td>\n",
       "      <td>11.4</td>\n",
       "      <td>2020-03-01</td>\n",
       "    </tr>\n",
       "    <tr>\n",
       "      <td>25</td>\n",
       "      <td>Bayern</td>\n",
       "      <td>25</td>\n",
       "      <td>0</td>\n",
       "      <td>6</td>\n",
       "      <td>0.20</td>\n",
       "      <td>48.9</td>\n",
       "      <td>11.4</td>\n",
       "      <td>2020-03-02</td>\n",
       "    </tr>\n",
       "    <tr>\n",
       "      <td>26</td>\n",
       "      <td>Bayern</td>\n",
       "      <td>35</td>\n",
       "      <td>0</td>\n",
       "      <td>10</td>\n",
       "      <td>0.30</td>\n",
       "      <td>48.9</td>\n",
       "      <td>11.4</td>\n",
       "      <td>2020-03-03</td>\n",
       "    </tr>\n",
       "    <tr>\n",
       "      <td>27</td>\n",
       "      <td>Bayern</td>\n",
       "      <td>48</td>\n",
       "      <td>0</td>\n",
       "      <td>13</td>\n",
       "      <td>0.40</td>\n",
       "      <td>48.9</td>\n",
       "      <td>11.4</td>\n",
       "      <td>2020-03-04</td>\n",
       "    </tr>\n",
       "    <tr>\n",
       "      <td>28</td>\n",
       "      <td>Bayern</td>\n",
       "      <td>52</td>\n",
       "      <td>0</td>\n",
       "      <td>4</td>\n",
       "      <td>0.40</td>\n",
       "      <td>48.9</td>\n",
       "      <td>11.4</td>\n",
       "      <td>2020-03-05</td>\n",
       "    </tr>\n",
       "    <tr>\n",
       "      <td>29</td>\n",
       "      <td>Bayern</td>\n",
       "      <td>79</td>\n",
       "      <td>0</td>\n",
       "      <td>27</td>\n",
       "      <td>0.60</td>\n",
       "      <td>48.9</td>\n",
       "      <td>11.4</td>\n",
       "      <td>2020-03-06</td>\n",
       "    </tr>\n",
       "    <tr>\n",
       "      <td>30</td>\n",
       "      <td>Bayern</td>\n",
       "      <td>117</td>\n",
       "      <td>0</td>\n",
       "      <td>38</td>\n",
       "      <td>0.90</td>\n",
       "      <td>48.9</td>\n",
       "      <td>11.4</td>\n",
       "      <td>2020-03-07</td>\n",
       "    </tr>\n",
       "    <tr>\n",
       "      <td>31</td>\n",
       "      <td>Bayern</td>\n",
       "      <td>148</td>\n",
       "      <td>0</td>\n",
       "      <td>31</td>\n",
       "      <td>1.10</td>\n",
       "      <td>48.9</td>\n",
       "      <td>11.4</td>\n",
       "      <td>2020-03-08</td>\n",
       "    </tr>\n",
       "    <tr>\n",
       "      <td>32</td>\n",
       "      <td>Bayern</td>\n",
       "      <td>256</td>\n",
       "      <td>0</td>\n",
       "      <td>108</td>\n",
       "      <td>2.00</td>\n",
       "      <td>48.9</td>\n",
       "      <td>11.4</td>\n",
       "      <td>2020-03-09</td>\n",
       "    </tr>\n",
       "    <tr>\n",
       "      <td>33</td>\n",
       "      <td>Bayern</td>\n",
       "      <td>314</td>\n",
       "      <td>0</td>\n",
       "      <td>58</td>\n",
       "      <td>2.40</td>\n",
       "      <td>48.9</td>\n",
       "      <td>11.4</td>\n",
       "      <td>2020-03-10</td>\n",
       "    </tr>\n",
       "    <tr>\n",
       "      <td>34</td>\n",
       "      <td>Bayern</td>\n",
       "      <td>366</td>\n",
       "      <td>0</td>\n",
       "      <td>52</td>\n",
       "      <td>2.80</td>\n",
       "      <td>48.9</td>\n",
       "      <td>11.4</td>\n",
       "      <td>2020-03-11</td>\n",
       "    </tr>\n",
       "    <tr>\n",
       "      <td>35</td>\n",
       "      <td>Bayern</td>\n",
       "      <td>500</td>\n",
       "      <td>1</td>\n",
       "      <td>134</td>\n",
       "      <td>3.80</td>\n",
       "      <td>48.9</td>\n",
       "      <td>11.4</td>\n",
       "      <td>2020-03-12</td>\n",
       "    </tr>\n",
       "    <tr>\n",
       "      <td>36</td>\n",
       "      <td>Bayern</td>\n",
       "      <td>558</td>\n",
       "      <td>1</td>\n",
       "      <td>58</td>\n",
       "      <td>4.30</td>\n",
       "      <td>48.9</td>\n",
       "      <td>11.4</td>\n",
       "      <td>2020-03-13</td>\n",
       "    </tr>\n",
       "    <tr>\n",
       "      <td>37</td>\n",
       "      <td>Bayern</td>\n",
       "      <td>681</td>\n",
       "      <td>1</td>\n",
       "      <td>123</td>\n",
       "      <td>5.20</td>\n",
       "      <td>48.9</td>\n",
       "      <td>11.4</td>\n",
       "      <td>2020-03-14</td>\n",
       "    </tr>\n",
       "    <tr>\n",
       "      <td>38</td>\n",
       "      <td>Bayern</td>\n",
       "      <td>886</td>\n",
       "      <td>4</td>\n",
       "      <td>205</td>\n",
       "      <td>6.80</td>\n",
       "      <td>48.9</td>\n",
       "      <td>11.4</td>\n",
       "      <td>2020-03-15</td>\n",
       "    </tr>\n",
       "    <tr>\n",
       "      <td>39</td>\n",
       "      <td>Bayern</td>\n",
       "      <td>1067</td>\n",
       "      <td>5</td>\n",
       "      <td>181</td>\n",
       "      <td>8.20</td>\n",
       "      <td>48.9</td>\n",
       "      <td>11.4</td>\n",
       "      <td>2020-03-16</td>\n",
       "    </tr>\n",
       "    <tr>\n",
       "      <td>40</td>\n",
       "      <td>Bayern</td>\n",
       "      <td>1109</td>\n",
       "      <td>4</td>\n",
       "      <td>144</td>\n",
       "      <td>8.50</td>\n",
       "      <td>48.9</td>\n",
       "      <td>11.4</td>\n",
       "      <td>2020-03-17</td>\n",
       "    </tr>\n",
       "    <tr>\n",
       "      <td>41</td>\n",
       "      <td>Bayern</td>\n",
       "      <td>1243</td>\n",
       "      <td>4</td>\n",
       "      <td>134</td>\n",
       "      <td>9.50</td>\n",
       "      <td>48.9</td>\n",
       "      <td>11.4</td>\n",
       "      <td>2020-03-18</td>\n",
       "    </tr>\n",
       "    <tr>\n",
       "      <td>42</td>\n",
       "      <td>Bayern</td>\n",
       "      <td>1692</td>\n",
       "      <td>8</td>\n",
       "      <td>449</td>\n",
       "      <td>12.94</td>\n",
       "      <td>48.9</td>\n",
       "      <td>11.4</td>\n",
       "      <td>2020-03-19</td>\n",
       "    </tr>\n",
       "    <tr>\n",
       "      <td>43</td>\n",
       "      <td>Bayern</td>\n",
       "      <td>2401</td>\n",
       "      <td>12</td>\n",
       "      <td>709</td>\n",
       "      <td>18.00</td>\n",
       "      <td>48.9</td>\n",
       "      <td>11.4</td>\n",
       "      <td>2020-03-20</td>\n",
       "    </tr>\n",
       "    <tr>\n",
       "      <td>331</td>\n",
       "      <td>Bayern</td>\n",
       "      <td>2960</td>\n",
       "      <td>19</td>\n",
       "      <td>559</td>\n",
       "      <td>23.00</td>\n",
       "      <td>48.9</td>\n",
       "      <td>11.4</td>\n",
       "      <td>2020-03-21</td>\n",
       "    </tr>\n",
       "  </tbody>\n",
       "</table>\n",
       "</div>"
      ],
      "text/plain": [
       "    bundesland  faelle  tod  neue_faelle  faelle_per_capita   lat  long  \\\n",
       "22      Bayern      15    0            0               0.10  48.9  11.4   \n",
       "23      Bayern      15    0            0               0.10  48.9  11.4   \n",
       "24      Bayern      19    0            4               0.10  48.9  11.4   \n",
       "25      Bayern      25    0            6               0.20  48.9  11.4   \n",
       "26      Bayern      35    0           10               0.30  48.9  11.4   \n",
       "27      Bayern      48    0           13               0.40  48.9  11.4   \n",
       "28      Bayern      52    0            4               0.40  48.9  11.4   \n",
       "29      Bayern      79    0           27               0.60  48.9  11.4   \n",
       "30      Bayern     117    0           38               0.90  48.9  11.4   \n",
       "31      Bayern     148    0           31               1.10  48.9  11.4   \n",
       "32      Bayern     256    0          108               2.00  48.9  11.4   \n",
       "33      Bayern     314    0           58               2.40  48.9  11.4   \n",
       "34      Bayern     366    0           52               2.80  48.9  11.4   \n",
       "35      Bayern     500    1          134               3.80  48.9  11.4   \n",
       "36      Bayern     558    1           58               4.30  48.9  11.4   \n",
       "37      Bayern     681    1          123               5.20  48.9  11.4   \n",
       "38      Bayern     886    4          205               6.80  48.9  11.4   \n",
       "39      Bayern    1067    5          181               8.20  48.9  11.4   \n",
       "40      Bayern    1109    4          144               8.50  48.9  11.4   \n",
       "41      Bayern    1243    4          134               9.50  48.9  11.4   \n",
       "42      Bayern    1692    8          449              12.94  48.9  11.4   \n",
       "43      Bayern    2401   12          709              18.00  48.9  11.4   \n",
       "331     Bayern    2960   19          559              23.00  48.9  11.4   \n",
       "\n",
       "         datum  \n",
       "22  2020-02-28  \n",
       "23  2020-02-29  \n",
       "24  2020-03-01  \n",
       "25  2020-03-02  \n",
       "26  2020-03-03  \n",
       "27  2020-03-04  \n",
       "28  2020-03-05  \n",
       "29  2020-03-06  \n",
       "30  2020-03-07  \n",
       "31  2020-03-08  \n",
       "32  2020-03-09  \n",
       "33  2020-03-10  \n",
       "34  2020-03-11  \n",
       "35  2020-03-12  \n",
       "36  2020-03-13  \n",
       "37  2020-03-14  \n",
       "38  2020-03-15  \n",
       "39  2020-03-16  \n",
       "40  2020-03-17  \n",
       "41  2020-03-18  \n",
       "42  2020-03-19  \n",
       "43  2020-03-20  \n",
       "331 2020-03-21  "
      ]
     },
     "execution_count": 27,
     "metadata": {},
     "output_type": "execute_result"
    }
   ],
   "source": [
    "df[df[\"bundesland\"]==\"Bayern\"]"
   ]
  },
  {
   "cell_type": "code",
   "execution_count": 28,
   "metadata": {
    "ExecuteTime": {
     "end_time": "2020-03-21T18:08:33.233166Z",
     "start_time": "2020-03-21T18:08:33.219480Z"
    }
   },
   "outputs": [],
   "source": [
    "df_old.to_csv ('old_data/brd_covid_19'+str(today)+\".csv\", index = False, header=True)"
   ]
  },
  {
   "cell_type": "code",
   "execution_count": 29,
   "metadata": {
    "ExecuteTime": {
     "end_time": "2020-03-21T18:08:33.609570Z",
     "start_time": "2020-03-21T18:08:33.598699Z"
    }
   },
   "outputs": [],
   "source": [
    "df.to_csv ('brd_covid_19.csv', index = False, header=True)"
   ]
  },
  {
   "cell_type": "code",
   "execution_count": null,
   "metadata": {},
   "outputs": [],
   "source": []
  }
 ],
 "metadata": {
  "kernelspec": {
   "display_name": "Python 3",
   "language": "python",
   "name": "python3"
  },
  "language_info": {
   "codemirror_mode": {
    "name": "ipython",
    "version": 3
   },
   "file_extension": ".py",
   "mimetype": "text/x-python",
   "name": "python",
   "nbconvert_exporter": "python",
   "pygments_lexer": "ipython3",
   "version": "3.7.4"
  },
  "toc": {
   "base_numbering": 1,
   "nav_menu": {},
   "number_sections": true,
   "sideBar": true,
   "skip_h1_title": false,
   "title_cell": "Table of Contents",
   "title_sidebar": "Contents",
   "toc_cell": false,
   "toc_position": {},
   "toc_section_display": true,
   "toc_window_display": true
  },
  "varInspector": {
   "cols": {
    "lenName": 16,
    "lenType": 16,
    "lenVar": 40
   },
   "kernels_config": {
    "python": {
     "delete_cmd_postfix": "",
     "delete_cmd_prefix": "del ",
     "library": "var_list.py",
     "varRefreshCmd": "print(var_dic_list())"
    },
    "r": {
     "delete_cmd_postfix": ") ",
     "delete_cmd_prefix": "rm(",
     "library": "var_list.r",
     "varRefreshCmd": "cat(var_dic_list()) "
    }
   },
   "types_to_exclude": [
    "module",
    "function",
    "builtin_function_or_method",
    "instance",
    "_Feature"
   ],
   "window_display": false
  }
 },
 "nbformat": 4,
 "nbformat_minor": 4
}
