{
 "cells": [
  {
   "cell_type": "code",
   "execution_count": 2,
   "metadata": {
    "ExecuteTime": {
     "end_time": "2020-03-13T07:59:10.823588Z",
     "start_time": "2020-03-13T07:59:10.355045Z"
    }
   },
   "outputs": [],
   "source": [
    "import requests\n",
    "import pandas as pd\n",
    "import re\n",
    "from bs4 import BeautifulSoup\n",
    "from datetime import date"
   ]
  },
  {
   "cell_type": "code",
   "execution_count": 3,
   "metadata": {
    "ExecuteTime": {
     "end_time": "2020-03-13T07:59:10.867414Z",
     "start_time": "2020-03-13T07:59:10.854360Z"
    }
   },
   "outputs": [],
   "source": [
    "df_old = pd.read_csv(\"brd_covid_19.csv\",parse_dates=[5])"
   ]
  },
  {
   "cell_type": "code",
   "execution_count": 4,
   "metadata": {
    "ExecuteTime": {
     "end_time": "2020-03-13T07:59:11.927300Z",
     "start_time": "2020-03-13T07:59:11.903148Z"
    }
   },
   "outputs": [
    {
     "data": {
      "text/html": [
       "<div>\n",
       "<style scoped>\n",
       "    .dataframe tbody tr th:only-of-type {\n",
       "        vertical-align: middle;\n",
       "    }\n",
       "\n",
       "    .dataframe tbody tr th {\n",
       "        vertical-align: top;\n",
       "    }\n",
       "\n",
       "    .dataframe thead th {\n",
       "        text-align: right;\n",
       "    }\n",
       "</style>\n",
       "<table border=\"1\" class=\"dataframe\">\n",
       "  <thead>\n",
       "    <tr style=\"text-align: right;\">\n",
       "      <th></th>\n",
       "      <th>bundesland</th>\n",
       "      <th>faelle</th>\n",
       "      <th>tod</th>\n",
       "      <th>lat</th>\n",
       "      <th>long</th>\n",
       "      <th>datum</th>\n",
       "    </tr>\n",
       "  </thead>\n",
       "  <tbody>\n",
       "    <tr>\n",
       "      <th>34</th>\n",
       "      <td>Baden-Württemberg</td>\n",
       "      <td>14</td>\n",
       "      <td>0</td>\n",
       "      <td>48.5</td>\n",
       "      <td>9.0</td>\n",
       "      <td>2020-02-29</td>\n",
       "    </tr>\n",
       "    <tr>\n",
       "      <th>41</th>\n",
       "      <td>Baden-Württemberg</td>\n",
       "      <td>15</td>\n",
       "      <td>0</td>\n",
       "      <td>48.5</td>\n",
       "      <td>9.0</td>\n",
       "      <td>2020-03-01</td>\n",
       "    </tr>\n",
       "    <tr>\n",
       "      <th>51</th>\n",
       "      <td>Baden-Württemberg</td>\n",
       "      <td>19</td>\n",
       "      <td>0</td>\n",
       "      <td>48.5</td>\n",
       "      <td>9.0</td>\n",
       "      <td>2020-03-02</td>\n",
       "    </tr>\n",
       "    <tr>\n",
       "      <th>62</th>\n",
       "      <td>Baden-Württemberg</td>\n",
       "      <td>26</td>\n",
       "      <td>0</td>\n",
       "      <td>48.5</td>\n",
       "      <td>9.0</td>\n",
       "      <td>2020-03-03</td>\n",
       "    </tr>\n",
       "    <tr>\n",
       "      <th>76</th>\n",
       "      <td>Baden-Württemberg</td>\n",
       "      <td>44</td>\n",
       "      <td>0</td>\n",
       "      <td>48.5</td>\n",
       "      <td>9.0</td>\n",
       "      <td>2020-03-04</td>\n",
       "    </tr>\n",
       "    <tr>\n",
       "      <th>92</th>\n",
       "      <td>Baden-Württemberg</td>\n",
       "      <td>65</td>\n",
       "      <td>0</td>\n",
       "      <td>48.5</td>\n",
       "      <td>9.0</td>\n",
       "      <td>2020-03-05</td>\n",
       "    </tr>\n",
       "    <tr>\n",
       "      <th>108</th>\n",
       "      <td>Baden-Württemberg</td>\n",
       "      <td>91</td>\n",
       "      <td>0</td>\n",
       "      <td>48.5</td>\n",
       "      <td>9.0</td>\n",
       "      <td>2020-03-06</td>\n",
       "    </tr>\n",
       "    <tr>\n",
       "      <th>124</th>\n",
       "      <td>Baden-Württemberg</td>\n",
       "      <td>116</td>\n",
       "      <td>0</td>\n",
       "      <td>48.5</td>\n",
       "      <td>9.0</td>\n",
       "      <td>2020-03-07</td>\n",
       "    </tr>\n",
       "    <tr>\n",
       "      <th>140</th>\n",
       "      <td>Baden-Württemberg</td>\n",
       "      <td>182</td>\n",
       "      <td>0</td>\n",
       "      <td>48.5</td>\n",
       "      <td>9.0</td>\n",
       "      <td>2020-03-08</td>\n",
       "    </tr>\n",
       "    <tr>\n",
       "      <th>156</th>\n",
       "      <td>Baden-Württemberg</td>\n",
       "      <td>199</td>\n",
       "      <td>0</td>\n",
       "      <td>48.5</td>\n",
       "      <td>9.0</td>\n",
       "      <td>2020-03-09</td>\n",
       "    </tr>\n",
       "    <tr>\n",
       "      <th>172</th>\n",
       "      <td>Baden-Württemberg</td>\n",
       "      <td>204</td>\n",
       "      <td>0</td>\n",
       "      <td>48.5</td>\n",
       "      <td>9.0</td>\n",
       "      <td>2020-03-10</td>\n",
       "    </tr>\n",
       "    <tr>\n",
       "      <th>188</th>\n",
       "      <td>Baden-Württemberg</td>\n",
       "      <td>277</td>\n",
       "      <td>0</td>\n",
       "      <td>48.5</td>\n",
       "      <td>9.0</td>\n",
       "      <td>2020-03-11</td>\n",
       "    </tr>\n",
       "    <tr>\n",
       "      <th>0</th>\n",
       "      <td>Baden-Württemberg</td>\n",
       "      <td>277</td>\n",
       "      <td>0</td>\n",
       "      <td>48.5</td>\n",
       "      <td>9.0</td>\n",
       "      <td>2020-03-12</td>\n",
       "    </tr>\n",
       "    <tr>\n",
       "      <th>17</th>\n",
       "      <td>Baden-Württemberg</td>\n",
       "      <td>454</td>\n",
       "      <td>1</td>\n",
       "      <td>48.5</td>\n",
       "      <td>9.0</td>\n",
       "      <td>2020-03-13</td>\n",
       "    </tr>\n",
       "    <tr>\n",
       "      <th>35</th>\n",
       "      <td>Bayern</td>\n",
       "      <td>15</td>\n",
       "      <td>0</td>\n",
       "      <td>48.9</td>\n",
       "      <td>11.4</td>\n",
       "      <td>2020-02-29</td>\n",
       "    </tr>\n",
       "  </tbody>\n",
       "</table>\n",
       "</div>"
      ],
      "text/plain": [
       "            bundesland  faelle  tod   lat  long      datum\n",
       "34   Baden-Württemberg      14    0  48.5   9.0 2020-02-29\n",
       "41   Baden-Württemberg      15    0  48.5   9.0 2020-03-01\n",
       "51   Baden-Württemberg      19    0  48.5   9.0 2020-03-02\n",
       "62   Baden-Württemberg      26    0  48.5   9.0 2020-03-03\n",
       "76   Baden-Württemberg      44    0  48.5   9.0 2020-03-04\n",
       "92   Baden-Württemberg      65    0  48.5   9.0 2020-03-05\n",
       "108  Baden-Württemberg      91    0  48.5   9.0 2020-03-06\n",
       "124  Baden-Württemberg     116    0  48.5   9.0 2020-03-07\n",
       "140  Baden-Württemberg     182    0  48.5   9.0 2020-03-08\n",
       "156  Baden-Württemberg     199    0  48.5   9.0 2020-03-09\n",
       "172  Baden-Württemberg     204    0  48.5   9.0 2020-03-10\n",
       "188  Baden-Württemberg     277    0  48.5   9.0 2020-03-11\n",
       "0    Baden-Württemberg     277    0  48.5   9.0 2020-03-12\n",
       "17   Baden-Württemberg     454    1  48.5   9.0 2020-03-13\n",
       "35              Bayern      15    0  48.9  11.4 2020-02-29"
      ]
     },
     "execution_count": 4,
     "metadata": {},
     "output_type": "execute_result"
    }
   ],
   "source": [
    "df_old.sort_values([\"bundesland\",\"datum\"]).head(15)"
   ]
  },
  {
   "cell_type": "code",
   "execution_count": 101,
   "metadata": {
    "ExecuteTime": {
     "end_time": "2020-03-13T07:58:46.764704Z",
     "start_time": "2020-03-13T07:58:46.754318Z"
    }
   },
   "outputs": [],
   "source": [
    "df_old.to_csv ('brd_covid_19.csv', index = False, header=True)"
   ]
  },
  {
   "cell_type": "code",
   "execution_count": 124,
   "metadata": {
    "ExecuteTime": {
     "end_time": "2020-03-13T06:04:28.456151Z",
     "start_time": "2020-03-13T06:04:28.451241Z"
    }
   },
   "outputs": [],
   "source": [
    "today = date.today()"
   ]
  },
  {
   "cell_type": "code",
   "execution_count": 125,
   "metadata": {
    "ExecuteTime": {
     "end_time": "2020-03-13T06:04:29.017013Z",
     "start_time": "2020-03-13T06:04:29.014403Z"
    }
   },
   "outputs": [],
   "source": [
    "URL = \"https://www.rki.de/DE/Content/InfAZ/N/Neuartiges_Coronavirus/Fallzahlen.html\""
   ]
  },
  {
   "cell_type": "code",
   "execution_count": 126,
   "metadata": {
    "ExecuteTime": {
     "end_time": "2020-03-13T06:04:29.751749Z",
     "start_time": "2020-03-13T06:04:29.587716Z"
    }
   },
   "outputs": [],
   "source": [
    "page = requests.get(URL)"
   ]
  },
  {
   "cell_type": "code",
   "execution_count": 127,
   "metadata": {
    "ExecuteTime": {
     "end_time": "2020-03-13T06:04:30.806421Z",
     "start_time": "2020-03-13T06:04:30.434023Z"
    }
   },
   "outputs": [],
   "source": [
    "soup = BeautifulSoup(page.content, 'html.parser')"
   ]
  },
  {
   "cell_type": "code",
   "execution_count": 128,
   "metadata": {
    "ExecuteTime": {
     "end_time": "2020-03-13T06:04:31.426140Z",
     "start_time": "2020-03-13T06:04:31.420731Z"
    }
   },
   "outputs": [],
   "source": [
    "results = soup.find_all(\"tr\")"
   ]
  },
  {
   "cell_type": "code",
   "execution_count": 129,
   "metadata": {
    "ExecuteTime": {
     "end_time": "2020-03-13T06:04:32.031890Z",
     "start_time": "2020-03-13T06:04:32.021255Z"
    }
   },
   "outputs": [],
   "source": [
    "bundesland = []\n",
    "faelle = []\n",
    "tod = []\n",
    "for idx,elm in enumerate(results):\n",
    "    if idx > 0:\n",
    "        bundesland.append(re.sub('<[^<]+?>', '', str(elm.find_all(\"td\")[0])))\n",
    "        faelle.append(re.sub('<[^<]+?>', '', str(elm.find_all(\"td\")[1])).split()[0])\n",
    "        if len(re.sub('<[^<]+?>', '', str(elm.find_all(\"td\")[1])).split()) > 1:\n",
    "            tod.append(re.sub('<[^<]+?>', '', str(elm.find_all(\"td\")[1])).split()[1].strip(\"(\").strip(\")\"))\n",
    "        else:\n",
    "            tod.append(\"0\")\n",
    "    else:\n",
    "        pass"
   ]
  },
  {
   "cell_type": "code",
   "execution_count": 130,
   "metadata": {
    "ExecuteTime": {
     "end_time": "2020-03-13T06:04:34.182788Z",
     "start_time": "2020-03-13T06:04:34.177654Z"
    }
   },
   "outputs": [],
   "source": [
    "lat=[48.5, 48.9, 53.4, 52.4, 53.1, 53.5, 50.7, 53.8, 53.87, 51.6,50, 49.4, 51.05, 52, 54.2, 50.85, 51.06]\n",
    "long=[9, 11.4, 13.2, 13, 8.8, 10, 9, 12.5,9.5, 7.5,7.3, 6.97,13.5, 11.65,9.9, 11.13,10]\n"
   ]
  },
  {
   "cell_type": "code",
   "execution_count": 131,
   "metadata": {
    "ExecuteTime": {
     "end_time": "2020-03-13T06:04:35.078953Z",
     "start_time": "2020-03-13T06:04:35.056830Z"
    }
   },
   "outputs": [],
   "source": [
    "df=pd.DataFrame(data=[bundesland,faelle,tod,lat,long]).T\n",
    "    "
   ]
  },
  {
   "cell_type": "code",
   "execution_count": 132,
   "metadata": {
    "ExecuteTime": {
     "end_time": "2020-03-13T06:04:35.902580Z",
     "start_time": "2020-03-13T06:04:35.897909Z"
    }
   },
   "outputs": [],
   "source": [
    "df[\"date\"] = today"
   ]
  },
  {
   "cell_type": "code",
   "execution_count": 133,
   "metadata": {
    "ExecuteTime": {
     "end_time": "2020-03-13T06:04:36.631489Z",
     "start_time": "2020-03-13T06:04:36.625526Z"
    }
   },
   "outputs": [],
   "source": [
    "df.columns = [\"bundesland\",\"faelle\",\"tod\",\"lat\",\"long\",\"datum\"]"
   ]
  },
  {
   "cell_type": "code",
   "execution_count": 134,
   "metadata": {
    "ExecuteTime": {
     "end_time": "2020-03-13T06:04:38.309578Z",
     "start_time": "2020-03-13T06:04:38.301877Z"
    }
   },
   "outputs": [],
   "source": [
    "df.tod = df.tod.replace(to_replace = \"\", value = \"0\", regex = True)"
   ]
  },
  {
   "cell_type": "code",
   "execution_count": 135,
   "metadata": {
    "ExecuteTime": {
     "end_time": "2020-03-13T06:04:38.903331Z",
     "start_time": "2020-03-13T06:04:38.897135Z"
    }
   },
   "outputs": [],
   "source": [
    "df.datum = pd.to_datetime(df.datum)"
   ]
  },
  {
   "cell_type": "code",
   "execution_count": 136,
   "metadata": {
    "ExecuteTime": {
     "end_time": "2020-03-13T06:04:44.060975Z",
     "start_time": "2020-03-13T06:04:39.774285Z"
    }
   },
   "outputs": [
    {
     "name": "stderr",
     "output_type": "stream",
     "text": [
      "/Users/karstenyan/opt/anaconda3/envs/nf/lib/python3.6/site-packages/ipykernel_launcher.py:2: SettingWithCopyWarning: \n",
      "A value is trying to be set on a copy of a slice from a DataFrame\n",
      "\n",
      "See the caveats in the documentation: http://pandas.pydata.org/pandas-docs/stable/indexing.html#indexing-view-versus-copy\n",
      "  \n",
      "/Users/karstenyan/opt/anaconda3/envs/nf/lib/python3.6/site-packages/ipykernel_launcher.py:5: SettingWithCopyWarning: \n",
      "A value is trying to be set on a copy of a slice from a DataFrame\n",
      "\n",
      "See the caveats in the documentation: http://pandas.pydata.org/pandas-docs/stable/indexing.html#indexing-view-versus-copy\n",
      "  \"\"\"\n"
     ]
    }
   ],
   "source": [
    "for idx,elm in enumerate(df.faelle):\n",
    "    df.faelle[idx] = elm.replace(\".\",\"\")\n",
    "\n",
    "for idx,elm in enumerate(df.tod):\n",
    "    df.tod[idx] = elm.replace(\".\",\"\")"
   ]
  },
  {
   "cell_type": "code",
   "execution_count": 137,
   "metadata": {
    "ExecuteTime": {
     "end_time": "2020-03-13T06:04:45.894419Z",
     "start_time": "2020-03-13T06:04:45.882327Z"
    }
   },
   "outputs": [],
   "source": [
    "df.lat = df.lat.astype(\"float\")\n",
    "df.long = df.long.astype(\"float\")\n",
    "df.tod = df.tod.astype(\"int64\")\n",
    "df.faelle = df.faelle.astype(\"int64\")"
   ]
  },
  {
   "cell_type": "code",
   "execution_count": 138,
   "metadata": {
    "ExecuteTime": {
     "end_time": "2020-03-13T06:04:51.043472Z",
     "start_time": "2020-03-13T06:04:51.029794Z"
    }
   },
   "outputs": [],
   "source": [
    "df=pd.concat([df_old,df]).reset_index().drop(\"index\",axis=1)"
   ]
  },
  {
   "cell_type": "code",
   "execution_count": 139,
   "metadata": {
    "ExecuteTime": {
     "end_time": "2020-03-13T06:04:55.264285Z",
     "start_time": "2020-03-13T06:04:55.246337Z"
    }
   },
   "outputs": [
    {
     "data": {
      "text/html": [
       "<div>\n",
       "<style scoped>\n",
       "    .dataframe tbody tr th:only-of-type {\n",
       "        vertical-align: middle;\n",
       "    }\n",
       "\n",
       "    .dataframe tbody tr th {\n",
       "        vertical-align: top;\n",
       "    }\n",
       "\n",
       "    .dataframe thead th {\n",
       "        text-align: right;\n",
       "    }\n",
       "</style>\n",
       "<table border=\"1\" class=\"dataframe\">\n",
       "  <thead>\n",
       "    <tr style=\"text-align: right;\">\n",
       "      <th></th>\n",
       "      <th>bundesland</th>\n",
       "      <th>faelle</th>\n",
       "      <th>tod</th>\n",
       "      <th>lat</th>\n",
       "      <th>long</th>\n",
       "      <th>datum</th>\n",
       "    </tr>\n",
       "  </thead>\n",
       "  <tbody>\n",
       "    <tr>\n",
       "      <th>0</th>\n",
       "      <td>Baden-Württemberg</td>\n",
       "      <td>277</td>\n",
       "      <td>0</td>\n",
       "      <td>48.50</td>\n",
       "      <td>9.00</td>\n",
       "      <td>2020-03-12</td>\n",
       "    </tr>\n",
       "    <tr>\n",
       "      <th>1</th>\n",
       "      <td>Bayern</td>\n",
       "      <td>366</td>\n",
       "      <td>0</td>\n",
       "      <td>48.90</td>\n",
       "      <td>11.40</td>\n",
       "      <td>2020-03-12</td>\n",
       "    </tr>\n",
       "    <tr>\n",
       "      <th>2</th>\n",
       "      <td>Berlin</td>\n",
       "      <td>90</td>\n",
       "      <td>0</td>\n",
       "      <td>53.40</td>\n",
       "      <td>13.20</td>\n",
       "      <td>2020-03-12</td>\n",
       "    </tr>\n",
       "    <tr>\n",
       "      <th>3</th>\n",
       "      <td>Brandenburg</td>\n",
       "      <td>24</td>\n",
       "      <td>0</td>\n",
       "      <td>52.40</td>\n",
       "      <td>13.00</td>\n",
       "      <td>2020-03-12</td>\n",
       "    </tr>\n",
       "    <tr>\n",
       "      <th>4</th>\n",
       "      <td>Bremen</td>\n",
       "      <td>21</td>\n",
       "      <td>0</td>\n",
       "      <td>53.10</td>\n",
       "      <td>8.80</td>\n",
       "      <td>2020-03-12</td>\n",
       "    </tr>\n",
       "    <tr>\n",
       "      <th>5</th>\n",
       "      <td>Hamburg</td>\n",
       "      <td>48</td>\n",
       "      <td>0</td>\n",
       "      <td>53.50</td>\n",
       "      <td>10.00</td>\n",
       "      <td>2020-03-12</td>\n",
       "    </tr>\n",
       "    <tr>\n",
       "      <th>6</th>\n",
       "      <td>Hessen</td>\n",
       "      <td>48</td>\n",
       "      <td>0</td>\n",
       "      <td>50.70</td>\n",
       "      <td>9.00</td>\n",
       "      <td>2020-03-12</td>\n",
       "    </tr>\n",
       "    <tr>\n",
       "      <th>7</th>\n",
       "      <td>Mecklenburg-Vorpommern</td>\n",
       "      <td>17</td>\n",
       "      <td>0</td>\n",
       "      <td>53.80</td>\n",
       "      <td>12.50</td>\n",
       "      <td>2020-03-12</td>\n",
       "    </tr>\n",
       "    <tr>\n",
       "      <th>8</th>\n",
       "      <td>Niedersachsen</td>\n",
       "      <td>75</td>\n",
       "      <td>0</td>\n",
       "      <td>53.87</td>\n",
       "      <td>9.50</td>\n",
       "      <td>2020-03-12</td>\n",
       "    </tr>\n",
       "    <tr>\n",
       "      <th>9</th>\n",
       "      <td>Nordrhein-Westfalen</td>\n",
       "      <td>484</td>\n",
       "      <td>3</td>\n",
       "      <td>51.60</td>\n",
       "      <td>7.50</td>\n",
       "      <td>2020-03-12</td>\n",
       "    </tr>\n",
       "    <tr>\n",
       "      <th>10</th>\n",
       "      <td>Rheinland-Pfalz</td>\n",
       "      <td>25</td>\n",
       "      <td>0</td>\n",
       "      <td>50.00</td>\n",
       "      <td>7.30</td>\n",
       "      <td>2020-03-12</td>\n",
       "    </tr>\n",
       "    <tr>\n",
       "      <th>11</th>\n",
       "      <td>Saarland</td>\n",
       "      <td>14</td>\n",
       "      <td>0</td>\n",
       "      <td>49.40</td>\n",
       "      <td>6.97</td>\n",
       "      <td>2020-03-12</td>\n",
       "    </tr>\n",
       "    <tr>\n",
       "      <th>12</th>\n",
       "      <td>Sachsen</td>\n",
       "      <td>26</td>\n",
       "      <td>0</td>\n",
       "      <td>51.05</td>\n",
       "      <td>13.50</td>\n",
       "      <td>2020-03-12</td>\n",
       "    </tr>\n",
       "    <tr>\n",
       "      <th>13</th>\n",
       "      <td>Sachsen-Anhalt</td>\n",
       "      <td>15</td>\n",
       "      <td>0</td>\n",
       "      <td>52.00</td>\n",
       "      <td>11.65</td>\n",
       "      <td>2020-03-12</td>\n",
       "    </tr>\n",
       "    <tr>\n",
       "      <th>14</th>\n",
       "      <td>Schleswig-Holstein</td>\n",
       "      <td>27</td>\n",
       "      <td>0</td>\n",
       "      <td>54.20</td>\n",
       "      <td>9.90</td>\n",
       "      <td>2020-03-12</td>\n",
       "    </tr>\n",
       "    <tr>\n",
       "      <th>15</th>\n",
       "      <td>Thüringen</td>\n",
       "      <td>10</td>\n",
       "      <td>0</td>\n",
       "      <td>50.85</td>\n",
       "      <td>11.13</td>\n",
       "      <td>2020-03-12</td>\n",
       "    </tr>\n",
       "    <tr>\n",
       "      <th>16</th>\n",
       "      <td>Gesamt</td>\n",
       "      <td>1567</td>\n",
       "      <td>3</td>\n",
       "      <td>51.06</td>\n",
       "      <td>10.00</td>\n",
       "      <td>2020-03-12</td>\n",
       "    </tr>\n",
       "    <tr>\n",
       "      <th>17</th>\n",
       "      <td>Baden-Württemberg</td>\n",
       "      <td>454</td>\n",
       "      <td>1</td>\n",
       "      <td>48.50</td>\n",
       "      <td>9.00</td>\n",
       "      <td>2020-03-13</td>\n",
       "    </tr>\n",
       "    <tr>\n",
       "      <th>18</th>\n",
       "      <td>Bayern</td>\n",
       "      <td>500</td>\n",
       "      <td>1</td>\n",
       "      <td>48.90</td>\n",
       "      <td>11.40</td>\n",
       "      <td>2020-03-13</td>\n",
       "    </tr>\n",
       "    <tr>\n",
       "      <th>19</th>\n",
       "      <td>Berlin</td>\n",
       "      <td>137</td>\n",
       "      <td>0</td>\n",
       "      <td>53.40</td>\n",
       "      <td>13.20</td>\n",
       "      <td>2020-03-13</td>\n",
       "    </tr>\n",
       "    <tr>\n",
       "      <th>20</th>\n",
       "      <td>Brandenburg</td>\n",
       "      <td>30</td>\n",
       "      <td>0</td>\n",
       "      <td>52.40</td>\n",
       "      <td>13.00</td>\n",
       "      <td>2020-03-13</td>\n",
       "    </tr>\n",
       "    <tr>\n",
       "      <th>21</th>\n",
       "      <td>Bremen</td>\n",
       "      <td>38</td>\n",
       "      <td>0</td>\n",
       "      <td>53.10</td>\n",
       "      <td>8.80</td>\n",
       "      <td>2020-03-13</td>\n",
       "    </tr>\n",
       "    <tr>\n",
       "      <th>22</th>\n",
       "      <td>Hamburg</td>\n",
       "      <td>88</td>\n",
       "      <td>0</td>\n",
       "      <td>53.50</td>\n",
       "      <td>10.00</td>\n",
       "      <td>2020-03-13</td>\n",
       "    </tr>\n",
       "    <tr>\n",
       "      <th>23</th>\n",
       "      <td>Hessen</td>\n",
       "      <td>99</td>\n",
       "      <td>0</td>\n",
       "      <td>50.70</td>\n",
       "      <td>9.00</td>\n",
       "      <td>2020-03-13</td>\n",
       "    </tr>\n",
       "    <tr>\n",
       "      <th>24</th>\n",
       "      <td>Mecklenburg-Vorpommern</td>\n",
       "      <td>23</td>\n",
       "      <td>0</td>\n",
       "      <td>53.80</td>\n",
       "      <td>12.50</td>\n",
       "      <td>2020-03-13</td>\n",
       "    </tr>\n",
       "    <tr>\n",
       "      <th>25</th>\n",
       "      <td>Niedersachsen</td>\n",
       "      <td>129</td>\n",
       "      <td>0</td>\n",
       "      <td>53.87</td>\n",
       "      <td>9.50</td>\n",
       "      <td>2020-03-13</td>\n",
       "    </tr>\n",
       "    <tr>\n",
       "      <th>26</th>\n",
       "      <td>Nordrhein-Westfalen</td>\n",
       "      <td>688</td>\n",
       "      <td>3</td>\n",
       "      <td>51.60</td>\n",
       "      <td>7.50</td>\n",
       "      <td>2020-03-13</td>\n",
       "    </tr>\n",
       "    <tr>\n",
       "      <th>27</th>\n",
       "      <td>Rheinland-Pfalz</td>\n",
       "      <td>52</td>\n",
       "      <td>0</td>\n",
       "      <td>50.00</td>\n",
       "      <td>7.30</td>\n",
       "      <td>2020-03-13</td>\n",
       "    </tr>\n",
       "    <tr>\n",
       "      <th>28</th>\n",
       "      <td>Saarland</td>\n",
       "      <td>14</td>\n",
       "      <td>0</td>\n",
       "      <td>49.40</td>\n",
       "      <td>6.97</td>\n",
       "      <td>2020-03-13</td>\n",
       "    </tr>\n",
       "    <tr>\n",
       "      <th>29</th>\n",
       "      <td>Sachsen</td>\n",
       "      <td>45</td>\n",
       "      <td>0</td>\n",
       "      <td>51.05</td>\n",
       "      <td>13.50</td>\n",
       "      <td>2020-03-13</td>\n",
       "    </tr>\n",
       "    <tr>\n",
       "      <th>30</th>\n",
       "      <td>Sachsen-Anhalt</td>\n",
       "      <td>27</td>\n",
       "      <td>0</td>\n",
       "      <td>52.00</td>\n",
       "      <td>11.65</td>\n",
       "      <td>2020-03-13</td>\n",
       "    </tr>\n",
       "    <tr>\n",
       "      <th>31</th>\n",
       "      <td>Schleswig-Holstein</td>\n",
       "      <td>31</td>\n",
       "      <td>0</td>\n",
       "      <td>54.20</td>\n",
       "      <td>9.90</td>\n",
       "      <td>2020-03-13</td>\n",
       "    </tr>\n",
       "    <tr>\n",
       "      <th>32</th>\n",
       "      <td>Thüringen</td>\n",
       "      <td>14</td>\n",
       "      <td>0</td>\n",
       "      <td>50.85</td>\n",
       "      <td>11.13</td>\n",
       "      <td>2020-03-13</td>\n",
       "    </tr>\n",
       "    <tr>\n",
       "      <th>33</th>\n",
       "      <td>Gesamt</td>\n",
       "      <td>2369</td>\n",
       "      <td>5</td>\n",
       "      <td>51.06</td>\n",
       "      <td>10.00</td>\n",
       "      <td>2020-03-13</td>\n",
       "    </tr>\n",
       "  </tbody>\n",
       "</table>\n",
       "</div>"
      ],
      "text/plain": [
       "                bundesland  faelle  tod    lat   long      datum\n",
       "0        Baden-Württemberg     277    0  48.50   9.00 2020-03-12\n",
       "1                   Bayern     366    0  48.90  11.40 2020-03-12\n",
       "2                   Berlin      90    0  53.40  13.20 2020-03-12\n",
       "3              Brandenburg      24    0  52.40  13.00 2020-03-12\n",
       "4                   Bremen      21    0  53.10   8.80 2020-03-12\n",
       "5                  Hamburg      48    0  53.50  10.00 2020-03-12\n",
       "6                   Hessen      48    0  50.70   9.00 2020-03-12\n",
       "7   Mecklenburg-Vorpommern      17    0  53.80  12.50 2020-03-12\n",
       "8            Niedersachsen      75    0  53.87   9.50 2020-03-12\n",
       "9      Nordrhein-Westfalen     484    3  51.60   7.50 2020-03-12\n",
       "10         Rheinland-Pfalz      25    0  50.00   7.30 2020-03-12\n",
       "11                Saarland      14    0  49.40   6.97 2020-03-12\n",
       "12                 Sachsen      26    0  51.05  13.50 2020-03-12\n",
       "13          Sachsen-Anhalt      15    0  52.00  11.65 2020-03-12\n",
       "14      Schleswig-Holstein      27    0  54.20   9.90 2020-03-12\n",
       "15               Thüringen      10    0  50.85  11.13 2020-03-12\n",
       "16                  Gesamt    1567    3  51.06  10.00 2020-03-12\n",
       "17       Baden-Württemberg     454    1  48.50   9.00 2020-03-13\n",
       "18                  Bayern     500    1  48.90  11.40 2020-03-13\n",
       "19                  Berlin     137    0  53.40  13.20 2020-03-13\n",
       "20             Brandenburg      30    0  52.40  13.00 2020-03-13\n",
       "21                  Bremen      38    0  53.10   8.80 2020-03-13\n",
       "22                 Hamburg      88    0  53.50  10.00 2020-03-13\n",
       "23                  Hessen      99    0  50.70   9.00 2020-03-13\n",
       "24  Mecklenburg-Vorpommern      23    0  53.80  12.50 2020-03-13\n",
       "25           Niedersachsen     129    0  53.87   9.50 2020-03-13\n",
       "26     Nordrhein-Westfalen     688    3  51.60   7.50 2020-03-13\n",
       "27         Rheinland-Pfalz      52    0  50.00   7.30 2020-03-13\n",
       "28                Saarland      14    0  49.40   6.97 2020-03-13\n",
       "29                 Sachsen      45    0  51.05  13.50 2020-03-13\n",
       "30          Sachsen-Anhalt      27    0  52.00  11.65 2020-03-13\n",
       "31      Schleswig-Holstein      31    0  54.20   9.90 2020-03-13\n",
       "32               Thüringen      14    0  50.85  11.13 2020-03-13\n",
       "33                  Gesamt    2369    5  51.06  10.00 2020-03-13"
      ]
     },
     "execution_count": 139,
     "metadata": {},
     "output_type": "execute_result"
    }
   ],
   "source": [
    "df"
   ]
  },
  {
   "cell_type": "code",
   "execution_count": 140,
   "metadata": {
    "ExecuteTime": {
     "end_time": "2020-03-13T06:05:22.786685Z",
     "start_time": "2020-03-13T06:05:22.778192Z"
    }
   },
   "outputs": [],
   "source": [
    "df_old.to_csv ('old_data/brd_covid_19'+str(today)+\".csv\", index = False, header=True)"
   ]
  },
  {
   "cell_type": "code",
   "execution_count": 141,
   "metadata": {
    "ExecuteTime": {
     "end_time": "2020-03-13T06:05:23.481601Z",
     "start_time": "2020-03-13T06:05:23.474309Z"
    }
   },
   "outputs": [],
   "source": [
    "df.to_csv ('brd_covid_19.csv', index = False, header=True)"
   ]
  },
  {
   "cell_type": "code",
   "execution_count": null,
   "metadata": {},
   "outputs": [],
   "source": []
  }
 ],
 "metadata": {
  "kernelspec": {
   "display_name": "Python [conda env:nf] *",
   "language": "python",
   "name": "conda-env-nf-py"
  },
  "language_info": {
   "codemirror_mode": {
    "name": "ipython",
    "version": 3
   },
   "file_extension": ".py",
   "mimetype": "text/x-python",
   "name": "python",
   "nbconvert_exporter": "python",
   "pygments_lexer": "ipython3",
   "version": "3.6.10"
  },
  "toc": {
   "base_numbering": 1,
   "nav_menu": {},
   "number_sections": true,
   "sideBar": true,
   "skip_h1_title": false,
   "title_cell": "Table of Contents",
   "title_sidebar": "Contents",
   "toc_cell": false,
   "toc_position": {},
   "toc_section_display": true,
   "toc_window_display": false
  },
  "varInspector": {
   "cols": {
    "lenName": 16,
    "lenType": 16,
    "lenVar": 40
   },
   "kernels_config": {
    "python": {
     "delete_cmd_postfix": "",
     "delete_cmd_prefix": "del ",
     "library": "var_list.py",
     "varRefreshCmd": "print(var_dic_list())"
    },
    "r": {
     "delete_cmd_postfix": ") ",
     "delete_cmd_prefix": "rm(",
     "library": "var_list.r",
     "varRefreshCmd": "cat(var_dic_list()) "
    }
   },
   "types_to_exclude": [
    "module",
    "function",
    "builtin_function_or_method",
    "instance",
    "_Feature"
   ],
   "window_display": false
  }
 },
 "nbformat": 4,
 "nbformat_minor": 4
}
