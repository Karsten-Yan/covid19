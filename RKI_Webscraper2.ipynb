{
 "cells": [
  {
   "cell_type": "code",
   "execution_count": 47,
   "metadata": {
    "ExecuteTime": {
     "end_time": "2020-03-22T12:45:51.414758Z",
     "start_time": "2020-03-22T12:45:51.410759Z"
    }
   },
   "outputs": [],
   "source": [
    "import requests\n",
    "import pandas as pd\n",
    "import re\n",
    "from bs4 import BeautifulSoup\n",
    "from datetime import date"
   ]
  },
  {
   "cell_type": "code",
   "execution_count": 48,
   "metadata": {
    "ExecuteTime": {
     "end_time": "2020-03-22T12:45:51.577331Z",
     "start_time": "2020-03-22T12:45:51.570329Z"
    }
   },
   "outputs": [],
   "source": [
    "df_old = pd.read_csv(\"brd_covid_19.csv\",parse_dates=[7])"
   ]
  },
  {
   "cell_type": "code",
   "execution_count": 49,
   "metadata": {
    "ExecuteTime": {
     "end_time": "2020-03-22T12:45:51.750373Z",
     "start_time": "2020-03-22T12:45:51.738371Z"
    }
   },
   "outputs": [],
   "source": [
    "df_old = df_old.sort_values([\"bundesland\", \"datum\"])\n",
    "\n",
    "df_old.drop_duplicates(inplace=True)\n",
    "\n",
    "df_old = df_old.reset_index().drop(\"index\",axis = 1)"
   ]
  },
  {
   "cell_type": "code",
   "execution_count": 50,
   "metadata": {
    "ExecuteTime": {
     "end_time": "2020-03-22T12:45:51.879325Z",
     "start_time": "2020-03-22T12:45:51.875323Z"
    }
   },
   "outputs": [],
   "source": [
    "today = date.today()"
   ]
  },
  {
   "cell_type": "code",
   "execution_count": 51,
   "metadata": {
    "ExecuteTime": {
     "end_time": "2020-03-22T12:45:52.020374Z",
     "start_time": "2020-03-22T12:45:52.018374Z"
    }
   },
   "outputs": [],
   "source": [
    "URL = \"https://www.rki.de/DE/Content/InfAZ/N/Neuartiges_Coronavirus/Fallzahlen.html\""
   ]
  },
  {
   "cell_type": "code",
   "execution_count": 52,
   "metadata": {
    "ExecuteTime": {
     "end_time": "2020-03-22T12:45:52.461405Z",
     "start_time": "2020-03-22T12:45:52.194328Z"
    }
   },
   "outputs": [],
   "source": [
    "page = requests.get(URL)"
   ]
  },
  {
   "cell_type": "code",
   "execution_count": 53,
   "metadata": {
    "ExecuteTime": {
     "end_time": "2020-03-22T12:45:52.518416Z",
     "start_time": "2020-03-22T12:45:52.463406Z"
    }
   },
   "outputs": [],
   "source": [
    "soup = BeautifulSoup(page.content, 'html.parser')"
   ]
  },
  {
   "cell_type": "code",
   "execution_count": 54,
   "metadata": {
    "ExecuteTime": {
     "end_time": "2020-03-22T12:45:52.597435Z",
     "start_time": "2020-03-22T12:45:52.594433Z"
    }
   },
   "outputs": [],
   "source": [
    "results = soup.find_all(\"tr\")"
   ]
  },
  {
   "cell_type": "code",
   "execution_count": 55,
   "metadata": {
    "ExecuteTime": {
     "end_time": "2020-03-22T12:45:53.108427Z",
     "start_time": "2020-03-22T12:45:53.098424Z"
    }
   },
   "outputs": [],
   "source": [
    "bundesland = []\n",
    "faelle = []\n",
    "tod = []\n",
    "neue_faelle=[]\n",
    "faelle_per_capita=[]\n",
    "for idx,elm in enumerate(results):\n",
    "    if idx > 1:\n",
    "        bundesland.append(re.sub('<[^<]+?>', '', str(elm.find_all(\"td\")[0])))\n",
    "        faelle.append(re.sub('<[^<]+?>', '', str(elm.find_all(\"td\")[1])))\n",
    "        neue_faelle.append(re.sub('<[^<]+?>', '', str(elm.find_all(\"td\")[2])))\n",
    "        faelle_per_capita.append(re.sub('<[^<]+?>', '', str(elm.find_all(\"td\")[3])))\n",
    "        tod.append(re.sub('<[^<]+?>', '', str(elm.find_all(\"td\")[4])))\n",
    "    else:\n",
    "        pass"
   ]
  },
  {
   "cell_type": "code",
   "execution_count": 56,
   "metadata": {
    "ExecuteTime": {
     "end_time": "2020-03-22T12:45:53.295160Z",
     "start_time": "2020-03-22T12:45:53.290158Z"
    }
   },
   "outputs": [],
   "source": [
    "bundesland =  [elm.replace(\"\\xad\",\"\") for elm in bundesland]\n",
    "faelle = [int(elm.replace(\".\",\"\")) for elm in faelle]\n",
    "tod = [elm.replace(\".\",\"\") for elm in tod]\n",
    "neue_faelle = [int(elm.strip(\"+\").replace(\".\",\"\")) for elm in neue_faelle]\n",
    "faelle_per_capita = [float(elm.replace(\",\",\".\")) for elm in faelle_per_capita]"
   ]
  },
  {
   "cell_type": "code",
   "execution_count": 57,
   "metadata": {
    "ExecuteTime": {
     "end_time": "2020-03-22T12:45:53.681261Z",
     "start_time": "2020-03-22T12:45:53.674259Z"
    }
   },
   "outputs": [],
   "source": [
    "lat={\"Baden-Württemberg\":48.5, \"Bayern\":48.9, \"Berlin\":52.5, \"Brandenburg\":52, \"Bremen\":53.1, \"Hamburg\":53.5, \n",
    "     \"Hessen\":50.7, \"Mecklenburg-Vorpommern\":53.8, \"Niedersachsen\":52.57, \"Nordrhein-Westfalen\":51.6,\"Rheinland-Pfalz\":50, \n",
    "     \"Saarland\":49.4, \"Sachsen\":51.05, \"Sachsen-Anhalt\":52, \"Schleswig-Holstein\":54.2, \"Thüringen\":50.85, \"Gesamt\":51.06}\n",
    "long={\"Baden-Württemberg\":9, \"Bayern\":11.4, \"Berlin\":13.4, \"Brandenburg\":13.87, \"Bremen\":8.8, \"Hamburg\":10, \n",
    "      \"Hessen\":9, \"Mecklenburg-Vorpommern\":12.5,\"Niedersachsen\":10, \"Nordrhein-Westfalen\":7.5,\"Rheinland-Pfalz\":7.3,\n",
    "      \"Saarland\":6.97,\"Sachsen\":13.5, \"Sachsen-Anhalt\":11.65,\"Schleswig-Holstein\":9.9, \"Thüringen\":11.13,\"Gesamt\":10}\n"
   ]
  },
  {
   "cell_type": "code",
   "execution_count": 58,
   "metadata": {
    "ExecuteTime": {
     "end_time": "2020-03-22T12:45:54.034534Z",
     "start_time": "2020-03-22T12:45:54.027533Z"
    }
   },
   "outputs": [],
   "source": [
    "df=pd.DataFrame(data=[bundesland,faelle,tod,neue_faelle,faelle_per_capita]).T\n",
    "    "
   ]
  },
  {
   "cell_type": "code",
   "execution_count": 59,
   "metadata": {
    "ExecuteTime": {
     "end_time": "2020-03-22T12:45:54.246283Z",
     "start_time": "2020-03-22T12:45:54.242281Z"
    }
   },
   "outputs": [],
   "source": [
    "df[\"lat\"]=\"NaN\"\n",
    "df[\"long\"]=\"NaN\"\n",
    "df[\"date\"] = today"
   ]
  },
  {
   "cell_type": "code",
   "execution_count": 60,
   "metadata": {
    "ExecuteTime": {
     "end_time": "2020-03-22T12:45:54.557042Z",
     "start_time": "2020-03-22T12:45:54.554041Z"
    }
   },
   "outputs": [],
   "source": [
    "df.columns = [\"bundesland\",\"faelle\",\"tod\",\"neue_faelle\",\"faelle_per_capita\",\"lat\",\"long\",\"datum\"]"
   ]
  },
  {
   "cell_type": "code",
   "execution_count": 61,
   "metadata": {
    "ExecuteTime": {
     "end_time": "2020-03-22T12:45:54.861534Z",
     "start_time": "2020-03-22T12:45:54.858534Z"
    }
   },
   "outputs": [],
   "source": [
    "#df.tod = df.tod.replace(to_replace = \"\", value = \"0\", regex = True)"
   ]
  },
  {
   "cell_type": "code",
   "execution_count": 62,
   "metadata": {
    "ExecuteTime": {
     "end_time": "2020-03-22T12:45:55.078114Z",
     "start_time": "2020-03-22T12:45:55.075113Z"
    }
   },
   "outputs": [],
   "source": [
    "df.datum = pd.to_datetime(df.datum)"
   ]
  },
  {
   "cell_type": "code",
   "execution_count": 63,
   "metadata": {
    "ExecuteTime": {
     "end_time": "2020-03-22T12:45:55.318499Z",
     "start_time": "2020-03-22T12:45:55.314498Z"
    }
   },
   "outputs": [
    {
     "data": {
      "text/plain": [
       "array(['Baden-Württemberg', 'Bayern', 'Berlin', 'Brandenburg', 'Bremen',\n",
       "       'Hamburg', 'Hessen', 'Mecklenburg-Vorpommern', 'Niedersachsen',\n",
       "       'Nordrhein-Westfalen', 'Rheinland-Pfalz', 'Saarland', 'Sachsen',\n",
       "       'Sachsen-Anhalt', 'Schleswig-Holstein', 'Thüringen', 'Gesamt'],\n",
       "      dtype=object)"
      ]
     },
     "execution_count": 63,
     "metadata": {},
     "output_type": "execute_result"
    }
   ],
   "source": [
    "df.bundesland.values"
   ]
  },
  {
   "cell_type": "code",
   "execution_count": 64,
   "metadata": {
    "ExecuteTime": {
     "end_time": "2020-03-22T12:45:56.023488Z",
     "start_time": "2020-03-22T12:45:56.018486Z"
    }
   },
   "outputs": [],
   "source": [
    "df.bundesland.replace(\"Schleswig Holstein\",\"Schleswig-Holstein\", inplace=True)\n",
    "lat2=[]\n",
    "long2=[]\n",
    "for elm in df.bundesland.values:\n",
    "    lat2.append(lat[elm])\n",
    "    long2.append(long[elm])"
   ]
  },
  {
   "cell_type": "code",
   "execution_count": 65,
   "metadata": {
    "ExecuteTime": {
     "end_time": "2020-03-22T12:45:56.855177Z",
     "start_time": "2020-03-22T12:45:56.850176Z"
    }
   },
   "outputs": [],
   "source": [
    "df[\"lat\"] = lat2\n",
    "df[\"long\"] = long2"
   ]
  },
  {
   "cell_type": "code",
   "execution_count": 66,
   "metadata": {
    "ExecuteTime": {
     "end_time": "2020-03-22T12:45:57.874982Z",
     "start_time": "2020-03-22T12:45:57.859978Z"
    }
   },
   "outputs": [
    {
     "data": {
      "text/html": [
       "<div>\n",
       "<style scoped>\n",
       "    .dataframe tbody tr th:only-of-type {\n",
       "        vertical-align: middle;\n",
       "    }\n",
       "\n",
       "    .dataframe tbody tr th {\n",
       "        vertical-align: top;\n",
       "    }\n",
       "\n",
       "    .dataframe thead th {\n",
       "        text-align: right;\n",
       "    }\n",
       "</style>\n",
       "<table border=\"1\" class=\"dataframe\">\n",
       "  <thead>\n",
       "    <tr style=\"text-align: right;\">\n",
       "      <th></th>\n",
       "      <th>bundesland</th>\n",
       "      <th>faelle</th>\n",
       "      <th>tod</th>\n",
       "      <th>neue_faelle</th>\n",
       "      <th>faelle_per_capita</th>\n",
       "      <th>lat</th>\n",
       "      <th>long</th>\n",
       "      <th>datum</th>\n",
       "    </tr>\n",
       "  </thead>\n",
       "  <tbody>\n",
       "    <tr>\n",
       "      <th>0</th>\n",
       "      <td>Baden-Württemberg</td>\n",
       "      <td>3807</td>\n",
       "      <td>21</td>\n",
       "      <td>139</td>\n",
       "      <td>34</td>\n",
       "      <td>48.50</td>\n",
       "      <td>9.00</td>\n",
       "      <td>2020-03-22</td>\n",
       "    </tr>\n",
       "    <tr>\n",
       "      <th>1</th>\n",
       "      <td>Bayern</td>\n",
       "      <td>3650</td>\n",
       "      <td>21</td>\n",
       "      <td>690</td>\n",
       "      <td>28</td>\n",
       "      <td>48.90</td>\n",
       "      <td>11.40</td>\n",
       "      <td>2020-03-22</td>\n",
       "    </tr>\n",
       "    <tr>\n",
       "      <th>2</th>\n",
       "      <td>Berlin</td>\n",
       "      <td>1024</td>\n",
       "      <td>1</td>\n",
       "      <td>158</td>\n",
       "      <td>27</td>\n",
       "      <td>52.50</td>\n",
       "      <td>13.40</td>\n",
       "      <td>2020-03-22</td>\n",
       "    </tr>\n",
       "    <tr>\n",
       "      <th>3</th>\n",
       "      <td>Brandenburg</td>\n",
       "      <td>274</td>\n",
       "      <td></td>\n",
       "      <td>20</td>\n",
       "      <td>11</td>\n",
       "      <td>52.00</td>\n",
       "      <td>13.87</td>\n",
       "      <td>2020-03-22</td>\n",
       "    </tr>\n",
       "    <tr>\n",
       "      <th>4</th>\n",
       "      <td>Bremen</td>\n",
       "      <td>165</td>\n",
       "      <td></td>\n",
       "      <td>23</td>\n",
       "      <td>24</td>\n",
       "      <td>53.10</td>\n",
       "      <td>8.80</td>\n",
       "      <td>2020-03-22</td>\n",
       "    </tr>\n",
       "    <tr>\n",
       "      <th>5</th>\n",
       "      <td>Hamburg</td>\n",
       "      <td>872</td>\n",
       "      <td></td>\n",
       "      <td>285</td>\n",
       "      <td>47</td>\n",
       "      <td>53.50</td>\n",
       "      <td>10.00</td>\n",
       "      <td>2020-03-22</td>\n",
       "    </tr>\n",
       "    <tr>\n",
       "      <th>6</th>\n",
       "      <td>Hessen</td>\n",
       "      <td>1175</td>\n",
       "      <td>2</td>\n",
       "      <td>95</td>\n",
       "      <td>19</td>\n",
       "      <td>50.70</td>\n",
       "      <td>9.00</td>\n",
       "      <td>2020-03-22</td>\n",
       "    </tr>\n",
       "    <tr>\n",
       "      <th>7</th>\n",
       "      <td>Mecklenburg-Vorpommern</td>\n",
       "      <td>172</td>\n",
       "      <td></td>\n",
       "      <td>7</td>\n",
       "      <td>11</td>\n",
       "      <td>53.80</td>\n",
       "      <td>12.50</td>\n",
       "      <td>2020-03-22</td>\n",
       "    </tr>\n",
       "    <tr>\n",
       "      <th>8</th>\n",
       "      <td>Niedersachsen</td>\n",
       "      <td>1306</td>\n",
       "      <td>1</td>\n",
       "      <td>283</td>\n",
       "      <td>16</td>\n",
       "      <td>52.57</td>\n",
       "      <td>10.00</td>\n",
       "      <td>2020-03-22</td>\n",
       "    </tr>\n",
       "    <tr>\n",
       "      <th>9</th>\n",
       "      <td>Nordrhein-Westfalen</td>\n",
       "      <td>3545</td>\n",
       "      <td>6</td>\n",
       "      <td>3</td>\n",
       "      <td>20</td>\n",
       "      <td>51.60</td>\n",
       "      <td>7.50</td>\n",
       "      <td>2020-03-22</td>\n",
       "    </tr>\n",
       "    <tr>\n",
       "      <th>10</th>\n",
       "      <td>Rheinland-Pfalz</td>\n",
       "      <td>1053</td>\n",
       "      <td>2</td>\n",
       "      <td>115</td>\n",
       "      <td>26</td>\n",
       "      <td>50.00</td>\n",
       "      <td>7.30</td>\n",
       "      <td>2020-03-22</td>\n",
       "    </tr>\n",
       "    <tr>\n",
       "      <th>11</th>\n",
       "      <td>Saarland</td>\n",
       "      <td>187</td>\n",
       "      <td></td>\n",
       "      <td>0</td>\n",
       "      <td>19</td>\n",
       "      <td>49.40</td>\n",
       "      <td>6.97</td>\n",
       "      <td>2020-03-22</td>\n",
       "    </tr>\n",
       "    <tr>\n",
       "      <th>12</th>\n",
       "      <td>Sachsen</td>\n",
       "      <td>606</td>\n",
       "      <td></td>\n",
       "      <td>39</td>\n",
       "      <td>15</td>\n",
       "      <td>51.05</td>\n",
       "      <td>13.50</td>\n",
       "      <td>2020-03-22</td>\n",
       "    </tr>\n",
       "    <tr>\n",
       "      <th>13</th>\n",
       "      <td>Sachsen-Anhalt</td>\n",
       "      <td>211</td>\n",
       "      <td></td>\n",
       "      <td>23</td>\n",
       "      <td>10</td>\n",
       "      <td>52.00</td>\n",
       "      <td>11.65</td>\n",
       "      <td>2020-03-22</td>\n",
       "    </tr>\n",
       "    <tr>\n",
       "      <th>14</th>\n",
       "      <td>Schleswig-Holstein</td>\n",
       "      <td>347</td>\n",
       "      <td>1</td>\n",
       "      <td>39</td>\n",
       "      <td>12</td>\n",
       "      <td>54.20</td>\n",
       "      <td>9.90</td>\n",
       "      <td>2020-03-22</td>\n",
       "    </tr>\n",
       "    <tr>\n",
       "      <th>15</th>\n",
       "      <td>Thüringen</td>\n",
       "      <td>216</td>\n",
       "      <td></td>\n",
       "      <td>29</td>\n",
       "      <td>10</td>\n",
       "      <td>50.85</td>\n",
       "      <td>11.13</td>\n",
       "      <td>2020-03-22</td>\n",
       "    </tr>\n",
       "    <tr>\n",
       "      <th>16</th>\n",
       "      <td>Gesamt</td>\n",
       "      <td>18610</td>\n",
       "      <td>55</td>\n",
       "      <td>1948</td>\n",
       "      <td>22</td>\n",
       "      <td>51.06</td>\n",
       "      <td>10.00</td>\n",
       "      <td>2020-03-22</td>\n",
       "    </tr>\n",
       "  </tbody>\n",
       "</table>\n",
       "</div>"
      ],
      "text/plain": [
       "                bundesland faelle tod neue_faelle faelle_per_capita    lat  \\\n",
       "0        Baden-Württemberg   3807  21         139                34  48.50   \n",
       "1                   Bayern   3650  21         690                28  48.90   \n",
       "2                   Berlin   1024   1         158                27  52.50   \n",
       "3              Brandenburg    274              20                11  52.00   \n",
       "4                   Bremen    165              23                24  53.10   \n",
       "5                  Hamburg    872             285                47  53.50   \n",
       "6                   Hessen   1175   2          95                19  50.70   \n",
       "7   Mecklenburg-Vorpommern    172               7                11  53.80   \n",
       "8            Niedersachsen   1306   1         283                16  52.57   \n",
       "9      Nordrhein-Westfalen   3545   6           3                20  51.60   \n",
       "10         Rheinland-Pfalz   1053   2         115                26  50.00   \n",
       "11                Saarland    187               0                19  49.40   \n",
       "12                 Sachsen    606              39                15  51.05   \n",
       "13          Sachsen-Anhalt    211              23                10  52.00   \n",
       "14      Schleswig-Holstein    347   1          39                12  54.20   \n",
       "15               Thüringen    216              29                10  50.85   \n",
       "16                  Gesamt  18610  55        1948                22  51.06   \n",
       "\n",
       "     long      datum  \n",
       "0    9.00 2020-03-22  \n",
       "1   11.40 2020-03-22  \n",
       "2   13.40 2020-03-22  \n",
       "3   13.87 2020-03-22  \n",
       "4    8.80 2020-03-22  \n",
       "5   10.00 2020-03-22  \n",
       "6    9.00 2020-03-22  \n",
       "7   12.50 2020-03-22  \n",
       "8   10.00 2020-03-22  \n",
       "9    7.50 2020-03-22  \n",
       "10   7.30 2020-03-22  \n",
       "11   6.97 2020-03-22  \n",
       "12  13.50 2020-03-22  \n",
       "13  11.65 2020-03-22  \n",
       "14   9.90 2020-03-22  \n",
       "15  11.13 2020-03-22  \n",
       "16  10.00 2020-03-22  "
      ]
     },
     "execution_count": 66,
     "metadata": {},
     "output_type": "execute_result"
    }
   ],
   "source": [
    "df"
   ]
  },
  {
   "cell_type": "code",
   "execution_count": 67,
   "metadata": {
    "ExecuteTime": {
     "end_time": "2020-03-22T12:46:50.216396Z",
     "start_time": "2020-03-22T12:46:50.209394Z"
    }
   },
   "outputs": [],
   "source": [
    "#df.lat = df.lat.astype(\"float\")\n",
    "#df.long = df.long.astype(\"float\")\n",
    "df.tod = df.tod.replace(to_replace = \"\", value = \"0\", regex = True)\n",
    "df.tod = df.tod.astype(\"int64\")\n",
    "df.faelle = df.faelle.astype(\"int64\")\n",
    "df.neue_faelle = df.neue_faelle.astype(\"int64\")\n",
    "df.faelle_per_capita = df.faelle_per_capita.astype(\"float64\")"
   ]
  },
  {
   "cell_type": "code",
   "execution_count": 70,
   "metadata": {
    "ExecuteTime": {
     "end_time": "2020-03-22T12:47:07.365269Z",
     "start_time": "2020-03-22T12:47:07.356267Z"
    }
   },
   "outputs": [
    {
     "name": "stdout",
     "output_type": "stream",
     "text": [
      "<class 'pandas.core.frame.DataFrame'>\n",
      "RangeIndex: 17 entries, 0 to 16\n",
      "Data columns (total 8 columns):\n",
      " #   Column             Non-Null Count  Dtype         \n",
      "---  ------             --------------  -----         \n",
      " 0   bundesland         17 non-null     object        \n",
      " 1   faelle             17 non-null     int64         \n",
      " 2   tod                17 non-null     int64         \n",
      " 3   neue_faelle        17 non-null     int64         \n",
      " 4   faelle_per_capita  17 non-null     float64       \n",
      " 5   lat                17 non-null     float64       \n",
      " 6   long               17 non-null     float64       \n",
      " 7   datum              17 non-null     datetime64[ns]\n",
      "dtypes: datetime64[ns](1), float64(3), int64(3), object(1)\n",
      "memory usage: 1.2+ KB\n"
     ]
    }
   ],
   "source": [
    "df.info()"
   ]
  },
  {
   "cell_type": "code",
   "execution_count": 71,
   "metadata": {
    "ExecuteTime": {
     "end_time": "2020-03-22T12:47:13.709700Z",
     "start_time": "2020-03-22T12:47:13.691695Z"
    }
   },
   "outputs": [
    {
     "data": {
      "text/html": [
       "<div>\n",
       "<style scoped>\n",
       "    .dataframe tbody tr th:only-of-type {\n",
       "        vertical-align: middle;\n",
       "    }\n",
       "\n",
       "    .dataframe tbody tr th {\n",
       "        vertical-align: top;\n",
       "    }\n",
       "\n",
       "    .dataframe thead th {\n",
       "        text-align: right;\n",
       "    }\n",
       "</style>\n",
       "<table border=\"1\" class=\"dataframe\">\n",
       "  <thead>\n",
       "    <tr style=\"text-align: right;\">\n",
       "      <th></th>\n",
       "      <th>bundesland</th>\n",
       "      <th>faelle</th>\n",
       "      <th>tod</th>\n",
       "      <th>neue_faelle</th>\n",
       "      <th>faelle_per_capita</th>\n",
       "      <th>lat</th>\n",
       "      <th>long</th>\n",
       "      <th>datum</th>\n",
       "    </tr>\n",
       "  </thead>\n",
       "  <tbody>\n",
       "    <tr>\n",
       "      <th>0</th>\n",
       "      <td>Baden-Württemberg</td>\n",
       "      <td>10</td>\n",
       "      <td>0</td>\n",
       "      <td>0</td>\n",
       "      <td>0.1</td>\n",
       "      <td>48.50</td>\n",
       "      <td>9.00</td>\n",
       "      <td>2020-02-28</td>\n",
       "    </tr>\n",
       "    <tr>\n",
       "      <th>1</th>\n",
       "      <td>Baden-Württemberg</td>\n",
       "      <td>14</td>\n",
       "      <td>0</td>\n",
       "      <td>4</td>\n",
       "      <td>0.1</td>\n",
       "      <td>48.50</td>\n",
       "      <td>9.00</td>\n",
       "      <td>2020-02-29</td>\n",
       "    </tr>\n",
       "    <tr>\n",
       "      <th>2</th>\n",
       "      <td>Baden-Württemberg</td>\n",
       "      <td>15</td>\n",
       "      <td>0</td>\n",
       "      <td>1</td>\n",
       "      <td>0.1</td>\n",
       "      <td>48.50</td>\n",
       "      <td>9.00</td>\n",
       "      <td>2020-03-01</td>\n",
       "    </tr>\n",
       "    <tr>\n",
       "      <th>3</th>\n",
       "      <td>Baden-Württemberg</td>\n",
       "      <td>19</td>\n",
       "      <td>0</td>\n",
       "      <td>4</td>\n",
       "      <td>0.2</td>\n",
       "      <td>48.50</td>\n",
       "      <td>9.00</td>\n",
       "      <td>2020-03-02</td>\n",
       "    </tr>\n",
       "    <tr>\n",
       "      <th>4</th>\n",
       "      <td>Baden-Württemberg</td>\n",
       "      <td>26</td>\n",
       "      <td>0</td>\n",
       "      <td>7</td>\n",
       "      <td>0.2</td>\n",
       "      <td>48.50</td>\n",
       "      <td>9.00</td>\n",
       "      <td>2020-03-03</td>\n",
       "    </tr>\n",
       "    <tr>\n",
       "      <th>...</th>\n",
       "      <td>...</td>\n",
       "      <td>...</td>\n",
       "      <td>...</td>\n",
       "      <td>...</td>\n",
       "      <td>...</td>\n",
       "      <td>...</td>\n",
       "      <td>...</td>\n",
       "      <td>...</td>\n",
       "    </tr>\n",
       "    <tr>\n",
       "      <th>359</th>\n",
       "      <td>Sachsen</td>\n",
       "      <td>606</td>\n",
       "      <td>0</td>\n",
       "      <td>39</td>\n",
       "      <td>15.0</td>\n",
       "      <td>51.05</td>\n",
       "      <td>13.50</td>\n",
       "      <td>2020-03-22</td>\n",
       "    </tr>\n",
       "    <tr>\n",
       "      <th>360</th>\n",
       "      <td>Sachsen-Anhalt</td>\n",
       "      <td>211</td>\n",
       "      <td>0</td>\n",
       "      <td>23</td>\n",
       "      <td>10.0</td>\n",
       "      <td>52.00</td>\n",
       "      <td>11.65</td>\n",
       "      <td>2020-03-22</td>\n",
       "    </tr>\n",
       "    <tr>\n",
       "      <th>361</th>\n",
       "      <td>Schleswig-Holstein</td>\n",
       "      <td>347</td>\n",
       "      <td>1</td>\n",
       "      <td>39</td>\n",
       "      <td>12.0</td>\n",
       "      <td>54.20</td>\n",
       "      <td>9.90</td>\n",
       "      <td>2020-03-22</td>\n",
       "    </tr>\n",
       "    <tr>\n",
       "      <th>362</th>\n",
       "      <td>Thüringen</td>\n",
       "      <td>216</td>\n",
       "      <td>0</td>\n",
       "      <td>29</td>\n",
       "      <td>10.0</td>\n",
       "      <td>50.85</td>\n",
       "      <td>11.13</td>\n",
       "      <td>2020-03-22</td>\n",
       "    </tr>\n",
       "    <tr>\n",
       "      <th>363</th>\n",
       "      <td>Gesamt</td>\n",
       "      <td>18610</td>\n",
       "      <td>55</td>\n",
       "      <td>1948</td>\n",
       "      <td>22.0</td>\n",
       "      <td>51.06</td>\n",
       "      <td>10.00</td>\n",
       "      <td>2020-03-22</td>\n",
       "    </tr>\n",
       "  </tbody>\n",
       "</table>\n",
       "<p>364 rows × 8 columns</p>\n",
       "</div>"
      ],
      "text/plain": [
       "             bundesland  faelle  tod  neue_faelle  faelle_per_capita    lat  \\\n",
       "0     Baden-Württemberg      10    0            0                0.1  48.50   \n",
       "1     Baden-Württemberg      14    0            4                0.1  48.50   \n",
       "2     Baden-Württemberg      15    0            1                0.1  48.50   \n",
       "3     Baden-Württemberg      19    0            4                0.2  48.50   \n",
       "4     Baden-Württemberg      26    0            7                0.2  48.50   \n",
       "..                  ...     ...  ...          ...                ...    ...   \n",
       "359             Sachsen     606    0           39               15.0  51.05   \n",
       "360      Sachsen-Anhalt     211    0           23               10.0  52.00   \n",
       "361  Schleswig-Holstein     347    1           39               12.0  54.20   \n",
       "362           Thüringen     216    0           29               10.0  50.85   \n",
       "363              Gesamt   18610   55         1948               22.0  51.06   \n",
       "\n",
       "      long      datum  \n",
       "0     9.00 2020-02-28  \n",
       "1     9.00 2020-02-29  \n",
       "2     9.00 2020-03-01  \n",
       "3     9.00 2020-03-02  \n",
       "4     9.00 2020-03-03  \n",
       "..     ...        ...  \n",
       "359  13.50 2020-03-22  \n",
       "360  11.65 2020-03-22  \n",
       "361   9.90 2020-03-22  \n",
       "362  11.13 2020-03-22  \n",
       "363  10.00 2020-03-22  \n",
       "\n",
       "[364 rows x 8 columns]"
      ]
     },
     "execution_count": 71,
     "metadata": {},
     "output_type": "execute_result"
    }
   ],
   "source": [
    "pd.concat([df_old,df]).reset_index().drop(\"index\",axis=1)"
   ]
  },
  {
   "cell_type": "code",
   "execution_count": 72,
   "metadata": {
    "ExecuteTime": {
     "end_time": "2020-03-22T12:47:14.152926Z",
     "start_time": "2020-03-22T12:47:14.145924Z"
    }
   },
   "outputs": [],
   "source": [
    "df=pd.concat([df_old,df]).reset_index().drop(\"index\",axis=1)"
   ]
  },
  {
   "cell_type": "code",
   "execution_count": 73,
   "metadata": {
    "ExecuteTime": {
     "end_time": "2020-03-22T12:47:15.093122Z",
     "start_time": "2020-03-22T12:47:15.076118Z"
    }
   },
   "outputs": [
    {
     "data": {
      "text/html": [
       "<div>\n",
       "<style scoped>\n",
       "    .dataframe tbody tr th:only-of-type {\n",
       "        vertical-align: middle;\n",
       "    }\n",
       "\n",
       "    .dataframe tbody tr th {\n",
       "        vertical-align: top;\n",
       "    }\n",
       "\n",
       "    .dataframe thead th {\n",
       "        text-align: right;\n",
       "    }\n",
       "</style>\n",
       "<table border=\"1\" class=\"dataframe\">\n",
       "  <thead>\n",
       "    <tr style=\"text-align: right;\">\n",
       "      <th></th>\n",
       "      <th>bundesland</th>\n",
       "      <th>faelle</th>\n",
       "      <th>tod</th>\n",
       "      <th>neue_faelle</th>\n",
       "      <th>faelle_per_capita</th>\n",
       "      <th>lat</th>\n",
       "      <th>long</th>\n",
       "      <th>datum</th>\n",
       "    </tr>\n",
       "  </thead>\n",
       "  <tbody>\n",
       "    <tr>\n",
       "      <th>23</th>\n",
       "      <td>Bayern</td>\n",
       "      <td>15</td>\n",
       "      <td>0</td>\n",
       "      <td>0</td>\n",
       "      <td>0.10</td>\n",
       "      <td>48.9</td>\n",
       "      <td>11.4</td>\n",
       "      <td>2020-02-28</td>\n",
       "    </tr>\n",
       "    <tr>\n",
       "      <th>24</th>\n",
       "      <td>Bayern</td>\n",
       "      <td>15</td>\n",
       "      <td>0</td>\n",
       "      <td>0</td>\n",
       "      <td>0.10</td>\n",
       "      <td>48.9</td>\n",
       "      <td>11.4</td>\n",
       "      <td>2020-02-29</td>\n",
       "    </tr>\n",
       "    <tr>\n",
       "      <th>25</th>\n",
       "      <td>Bayern</td>\n",
       "      <td>19</td>\n",
       "      <td>0</td>\n",
       "      <td>4</td>\n",
       "      <td>0.10</td>\n",
       "      <td>48.9</td>\n",
       "      <td>11.4</td>\n",
       "      <td>2020-03-01</td>\n",
       "    </tr>\n",
       "    <tr>\n",
       "      <th>26</th>\n",
       "      <td>Bayern</td>\n",
       "      <td>25</td>\n",
       "      <td>0</td>\n",
       "      <td>6</td>\n",
       "      <td>0.20</td>\n",
       "      <td>48.9</td>\n",
       "      <td>11.4</td>\n",
       "      <td>2020-03-02</td>\n",
       "    </tr>\n",
       "    <tr>\n",
       "      <th>27</th>\n",
       "      <td>Bayern</td>\n",
       "      <td>35</td>\n",
       "      <td>0</td>\n",
       "      <td>10</td>\n",
       "      <td>0.30</td>\n",
       "      <td>48.9</td>\n",
       "      <td>11.4</td>\n",
       "      <td>2020-03-03</td>\n",
       "    </tr>\n",
       "    <tr>\n",
       "      <th>28</th>\n",
       "      <td>Bayern</td>\n",
       "      <td>48</td>\n",
       "      <td>0</td>\n",
       "      <td>13</td>\n",
       "      <td>0.40</td>\n",
       "      <td>48.9</td>\n",
       "      <td>11.4</td>\n",
       "      <td>2020-03-04</td>\n",
       "    </tr>\n",
       "    <tr>\n",
       "      <th>29</th>\n",
       "      <td>Bayern</td>\n",
       "      <td>52</td>\n",
       "      <td>0</td>\n",
       "      <td>4</td>\n",
       "      <td>0.40</td>\n",
       "      <td>48.9</td>\n",
       "      <td>11.4</td>\n",
       "      <td>2020-03-05</td>\n",
       "    </tr>\n",
       "    <tr>\n",
       "      <th>30</th>\n",
       "      <td>Bayern</td>\n",
       "      <td>79</td>\n",
       "      <td>0</td>\n",
       "      <td>27</td>\n",
       "      <td>0.60</td>\n",
       "      <td>48.9</td>\n",
       "      <td>11.4</td>\n",
       "      <td>2020-03-06</td>\n",
       "    </tr>\n",
       "    <tr>\n",
       "      <th>31</th>\n",
       "      <td>Bayern</td>\n",
       "      <td>117</td>\n",
       "      <td>0</td>\n",
       "      <td>38</td>\n",
       "      <td>0.90</td>\n",
       "      <td>48.9</td>\n",
       "      <td>11.4</td>\n",
       "      <td>2020-03-07</td>\n",
       "    </tr>\n",
       "    <tr>\n",
       "      <th>32</th>\n",
       "      <td>Bayern</td>\n",
       "      <td>148</td>\n",
       "      <td>0</td>\n",
       "      <td>31</td>\n",
       "      <td>1.10</td>\n",
       "      <td>48.9</td>\n",
       "      <td>11.4</td>\n",
       "      <td>2020-03-08</td>\n",
       "    </tr>\n",
       "    <tr>\n",
       "      <th>33</th>\n",
       "      <td>Bayern</td>\n",
       "      <td>256</td>\n",
       "      <td>0</td>\n",
       "      <td>108</td>\n",
       "      <td>2.00</td>\n",
       "      <td>48.9</td>\n",
       "      <td>11.4</td>\n",
       "      <td>2020-03-09</td>\n",
       "    </tr>\n",
       "    <tr>\n",
       "      <th>34</th>\n",
       "      <td>Bayern</td>\n",
       "      <td>314</td>\n",
       "      <td>0</td>\n",
       "      <td>58</td>\n",
       "      <td>2.40</td>\n",
       "      <td>48.9</td>\n",
       "      <td>11.4</td>\n",
       "      <td>2020-03-10</td>\n",
       "    </tr>\n",
       "    <tr>\n",
       "      <th>35</th>\n",
       "      <td>Bayern</td>\n",
       "      <td>366</td>\n",
       "      <td>0</td>\n",
       "      <td>52</td>\n",
       "      <td>2.80</td>\n",
       "      <td>48.9</td>\n",
       "      <td>11.4</td>\n",
       "      <td>2020-03-11</td>\n",
       "    </tr>\n",
       "    <tr>\n",
       "      <th>36</th>\n",
       "      <td>Bayern</td>\n",
       "      <td>500</td>\n",
       "      <td>1</td>\n",
       "      <td>134</td>\n",
       "      <td>3.80</td>\n",
       "      <td>48.9</td>\n",
       "      <td>11.4</td>\n",
       "      <td>2020-03-12</td>\n",
       "    </tr>\n",
       "    <tr>\n",
       "      <th>37</th>\n",
       "      <td>Bayern</td>\n",
       "      <td>558</td>\n",
       "      <td>1</td>\n",
       "      <td>58</td>\n",
       "      <td>4.30</td>\n",
       "      <td>48.9</td>\n",
       "      <td>11.4</td>\n",
       "      <td>2020-03-13</td>\n",
       "    </tr>\n",
       "    <tr>\n",
       "      <th>38</th>\n",
       "      <td>Bayern</td>\n",
       "      <td>681</td>\n",
       "      <td>1</td>\n",
       "      <td>123</td>\n",
       "      <td>5.20</td>\n",
       "      <td>48.9</td>\n",
       "      <td>11.4</td>\n",
       "      <td>2020-03-14</td>\n",
       "    </tr>\n",
       "    <tr>\n",
       "      <th>39</th>\n",
       "      <td>Bayern</td>\n",
       "      <td>886</td>\n",
       "      <td>4</td>\n",
       "      <td>205</td>\n",
       "      <td>6.80</td>\n",
       "      <td>48.9</td>\n",
       "      <td>11.4</td>\n",
       "      <td>2020-03-15</td>\n",
       "    </tr>\n",
       "    <tr>\n",
       "      <th>40</th>\n",
       "      <td>Bayern</td>\n",
       "      <td>1067</td>\n",
       "      <td>5</td>\n",
       "      <td>181</td>\n",
       "      <td>8.20</td>\n",
       "      <td>48.9</td>\n",
       "      <td>11.4</td>\n",
       "      <td>2020-03-16</td>\n",
       "    </tr>\n",
       "    <tr>\n",
       "      <th>41</th>\n",
       "      <td>Bayern</td>\n",
       "      <td>1109</td>\n",
       "      <td>4</td>\n",
       "      <td>144</td>\n",
       "      <td>8.50</td>\n",
       "      <td>48.9</td>\n",
       "      <td>11.4</td>\n",
       "      <td>2020-03-17</td>\n",
       "    </tr>\n",
       "    <tr>\n",
       "      <th>42</th>\n",
       "      <td>Bayern</td>\n",
       "      <td>1243</td>\n",
       "      <td>4</td>\n",
       "      <td>134</td>\n",
       "      <td>9.50</td>\n",
       "      <td>48.9</td>\n",
       "      <td>11.4</td>\n",
       "      <td>2020-03-18</td>\n",
       "    </tr>\n",
       "    <tr>\n",
       "      <th>43</th>\n",
       "      <td>Bayern</td>\n",
       "      <td>1692</td>\n",
       "      <td>8</td>\n",
       "      <td>449</td>\n",
       "      <td>12.94</td>\n",
       "      <td>48.9</td>\n",
       "      <td>11.4</td>\n",
       "      <td>2020-03-19</td>\n",
       "    </tr>\n",
       "    <tr>\n",
       "      <th>44</th>\n",
       "      <td>Bayern</td>\n",
       "      <td>2401</td>\n",
       "      <td>12</td>\n",
       "      <td>709</td>\n",
       "      <td>18.00</td>\n",
       "      <td>48.9</td>\n",
       "      <td>11.4</td>\n",
       "      <td>2020-03-20</td>\n",
       "    </tr>\n",
       "    <tr>\n",
       "      <th>45</th>\n",
       "      <td>Bayern</td>\n",
       "      <td>2960</td>\n",
       "      <td>19</td>\n",
       "      <td>559</td>\n",
       "      <td>23.00</td>\n",
       "      <td>48.9</td>\n",
       "      <td>11.4</td>\n",
       "      <td>2020-03-21</td>\n",
       "    </tr>\n",
       "    <tr>\n",
       "      <th>348</th>\n",
       "      <td>Bayern</td>\n",
       "      <td>3650</td>\n",
       "      <td>21</td>\n",
       "      <td>690</td>\n",
       "      <td>28.00</td>\n",
       "      <td>48.9</td>\n",
       "      <td>11.4</td>\n",
       "      <td>2020-03-22</td>\n",
       "    </tr>\n",
       "  </tbody>\n",
       "</table>\n",
       "</div>"
      ],
      "text/plain": [
       "    bundesland  faelle  tod  neue_faelle  faelle_per_capita   lat  long  \\\n",
       "23      Bayern      15    0            0               0.10  48.9  11.4   \n",
       "24      Bayern      15    0            0               0.10  48.9  11.4   \n",
       "25      Bayern      19    0            4               0.10  48.9  11.4   \n",
       "26      Bayern      25    0            6               0.20  48.9  11.4   \n",
       "27      Bayern      35    0           10               0.30  48.9  11.4   \n",
       "28      Bayern      48    0           13               0.40  48.9  11.4   \n",
       "29      Bayern      52    0            4               0.40  48.9  11.4   \n",
       "30      Bayern      79    0           27               0.60  48.9  11.4   \n",
       "31      Bayern     117    0           38               0.90  48.9  11.4   \n",
       "32      Bayern     148    0           31               1.10  48.9  11.4   \n",
       "33      Bayern     256    0          108               2.00  48.9  11.4   \n",
       "34      Bayern     314    0           58               2.40  48.9  11.4   \n",
       "35      Bayern     366    0           52               2.80  48.9  11.4   \n",
       "36      Bayern     500    1          134               3.80  48.9  11.4   \n",
       "37      Bayern     558    1           58               4.30  48.9  11.4   \n",
       "38      Bayern     681    1          123               5.20  48.9  11.4   \n",
       "39      Bayern     886    4          205               6.80  48.9  11.4   \n",
       "40      Bayern    1067    5          181               8.20  48.9  11.4   \n",
       "41      Bayern    1109    4          144               8.50  48.9  11.4   \n",
       "42      Bayern    1243    4          134               9.50  48.9  11.4   \n",
       "43      Bayern    1692    8          449              12.94  48.9  11.4   \n",
       "44      Bayern    2401   12          709              18.00  48.9  11.4   \n",
       "45      Bayern    2960   19          559              23.00  48.9  11.4   \n",
       "348     Bayern    3650   21          690              28.00  48.9  11.4   \n",
       "\n",
       "         datum  \n",
       "23  2020-02-28  \n",
       "24  2020-02-29  \n",
       "25  2020-03-01  \n",
       "26  2020-03-02  \n",
       "27  2020-03-03  \n",
       "28  2020-03-04  \n",
       "29  2020-03-05  \n",
       "30  2020-03-06  \n",
       "31  2020-03-07  \n",
       "32  2020-03-08  \n",
       "33  2020-03-09  \n",
       "34  2020-03-10  \n",
       "35  2020-03-11  \n",
       "36  2020-03-12  \n",
       "37  2020-03-13  \n",
       "38  2020-03-14  \n",
       "39  2020-03-15  \n",
       "40  2020-03-16  \n",
       "41  2020-03-17  \n",
       "42  2020-03-18  \n",
       "43  2020-03-19  \n",
       "44  2020-03-20  \n",
       "45  2020-03-21  \n",
       "348 2020-03-22  "
      ]
     },
     "execution_count": 73,
     "metadata": {},
     "output_type": "execute_result"
    }
   ],
   "source": [
    "df[df[\"bundesland\"]==\"Bayern\"]"
   ]
  },
  {
   "cell_type": "code",
   "execution_count": 74,
   "metadata": {
    "ExecuteTime": {
     "end_time": "2020-03-22T12:47:17.838788Z",
     "start_time": "2020-03-22T12:47:17.826785Z"
    }
   },
   "outputs": [],
   "source": [
    "df_old.to_csv ('old_data/brd_covid_19'+str(today)+\".csv\", index = False, header=True)"
   ]
  },
  {
   "cell_type": "code",
   "execution_count": 75,
   "metadata": {
    "ExecuteTime": {
     "end_time": "2020-03-22T12:47:18.211820Z",
     "start_time": "2020-03-22T12:47:18.201818Z"
    }
   },
   "outputs": [],
   "source": [
    "df.to_csv ('brd_covid_19.csv', index = False, header=True)"
   ]
  },
  {
   "cell_type": "code",
   "execution_count": null,
   "metadata": {},
   "outputs": [],
   "source": []
  }
 ],
 "metadata": {
  "kernelspec": {
   "display_name": "Python 3",
   "language": "python",
   "name": "python3"
  },
  "language_info": {
   "codemirror_mode": {
    "name": "ipython",
    "version": 3
   },
   "file_extension": ".py",
   "mimetype": "text/x-python",
   "name": "python",
   "nbconvert_exporter": "python",
   "pygments_lexer": "ipython3",
   "version": "3.7.6"
  },
  "toc": {
   "base_numbering": 1,
   "nav_menu": {},
   "number_sections": true,
   "sideBar": true,
   "skip_h1_title": false,
   "title_cell": "Table of Contents",
   "title_sidebar": "Contents",
   "toc_cell": false,
   "toc_position": {},
   "toc_section_display": true,
   "toc_window_display": true
  },
  "varInspector": {
   "cols": {
    "lenName": 16,
    "lenType": 16,
    "lenVar": 40
   },
   "kernels_config": {
    "python": {
     "delete_cmd_postfix": "",
     "delete_cmd_prefix": "del ",
     "library": "var_list.py",
     "varRefreshCmd": "print(var_dic_list())"
    },
    "r": {
     "delete_cmd_postfix": ") ",
     "delete_cmd_prefix": "rm(",
     "library": "var_list.r",
     "varRefreshCmd": "cat(var_dic_list()) "
    }
   },
   "types_to_exclude": [
    "module",
    "function",
    "builtin_function_or_method",
    "instance",
    "_Feature"
   ],
   "window_display": false
  }
 },
 "nbformat": 4,
 "nbformat_minor": 4
}
