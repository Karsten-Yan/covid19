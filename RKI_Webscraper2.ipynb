{
 "cells": [
  {
   "cell_type": "code",
   "execution_count": 1,
   "metadata": {
    "ExecuteTime": {
     "end_time": "2020-03-16T06:26:55.623991Z",
     "start_time": "2020-03-16T06:26:54.738273Z"
    }
   },
   "outputs": [],
   "source": [
    "import requests\n",
    "import pandas as pd\n",
    "import re\n",
    "from bs4 import BeautifulSoup\n",
    "from datetime import date"
   ]
  },
  {
   "cell_type": "code",
   "execution_count": 2,
   "metadata": {
    "ExecuteTime": {
     "end_time": "2020-03-16T06:26:55.793612Z",
     "start_time": "2020-03-16T06:26:55.775637Z"
    }
   },
   "outputs": [],
   "source": [
    "df_old = pd.read_csv(\"brd_covid_19.csv\",parse_dates=[5])"
   ]
  },
  {
   "cell_type": "code",
   "execution_count": 3,
   "metadata": {
    "ExecuteTime": {
     "end_time": "2020-03-16T06:26:56.731109Z",
     "start_time": "2020-03-16T06:26:56.706403Z"
    }
   },
   "outputs": [
    {
     "data": {
      "text/html": [
       "<div>\n",
       "<style scoped>\n",
       "    .dataframe tbody tr th:only-of-type {\n",
       "        vertical-align: middle;\n",
       "    }\n",
       "\n",
       "    .dataframe tbody tr th {\n",
       "        vertical-align: top;\n",
       "    }\n",
       "\n",
       "    .dataframe thead th {\n",
       "        text-align: right;\n",
       "    }\n",
       "</style>\n",
       "<table border=\"1\" class=\"dataframe\">\n",
       "  <thead>\n",
       "    <tr style=\"text-align: right;\">\n",
       "      <th></th>\n",
       "      <th>bundesland</th>\n",
       "      <th>faelle</th>\n",
       "      <th>tod</th>\n",
       "      <th>lat</th>\n",
       "      <th>long</th>\n",
       "      <th>datum</th>\n",
       "    </tr>\n",
       "  </thead>\n",
       "  <tbody>\n",
       "    <tr>\n",
       "      <th>237</th>\n",
       "      <td>Thüringen</td>\n",
       "      <td>46</td>\n",
       "      <td>0</td>\n",
       "      <td>50.85</td>\n",
       "      <td>11.13</td>\n",
       "      <td>2020-03-15</td>\n",
       "    </tr>\n",
       "    <tr>\n",
       "      <th>220</th>\n",
       "      <td>Thüringen</td>\n",
       "      <td>29</td>\n",
       "      <td>0</td>\n",
       "      <td>50.85</td>\n",
       "      <td>11.13</td>\n",
       "      <td>2020-03-14</td>\n",
       "    </tr>\n",
       "    <tr>\n",
       "      <th>32</th>\n",
       "      <td>Thüringen</td>\n",
       "      <td>14</td>\n",
       "      <td>0</td>\n",
       "      <td>50.85</td>\n",
       "      <td>11.13</td>\n",
       "      <td>2020-03-13</td>\n",
       "    </tr>\n",
       "    <tr>\n",
       "      <th>15</th>\n",
       "      <td>Thüringen</td>\n",
       "      <td>10</td>\n",
       "      <td>0</td>\n",
       "      <td>50.85</td>\n",
       "      <td>11.13</td>\n",
       "      <td>2020-03-12</td>\n",
       "    </tr>\n",
       "    <tr>\n",
       "      <th>203</th>\n",
       "      <td>Thüringen</td>\n",
       "      <td>10</td>\n",
       "      <td>0</td>\n",
       "      <td>50.85</td>\n",
       "      <td>11.13</td>\n",
       "      <td>2020-03-11</td>\n",
       "    </tr>\n",
       "    <tr>\n",
       "      <th>186</th>\n",
       "      <td>Thüringen</td>\n",
       "      <td>2</td>\n",
       "      <td>0</td>\n",
       "      <td>50.85</td>\n",
       "      <td>11.13</td>\n",
       "      <td>2020-03-10</td>\n",
       "    </tr>\n",
       "    <tr>\n",
       "      <th>170</th>\n",
       "      <td>Thüringen</td>\n",
       "      <td>2</td>\n",
       "      <td>0</td>\n",
       "      <td>50.85</td>\n",
       "      <td>11.13</td>\n",
       "      <td>2020-03-09</td>\n",
       "    </tr>\n",
       "    <tr>\n",
       "      <th>154</th>\n",
       "      <td>Thüringen</td>\n",
       "      <td>2</td>\n",
       "      <td>0</td>\n",
       "      <td>50.85</td>\n",
       "      <td>11.13</td>\n",
       "      <td>2020-03-08</td>\n",
       "    </tr>\n",
       "    <tr>\n",
       "      <th>138</th>\n",
       "      <td>Thüringen</td>\n",
       "      <td>1</td>\n",
       "      <td>0</td>\n",
       "      <td>50.85</td>\n",
       "      <td>11.13</td>\n",
       "      <td>2020-03-07</td>\n",
       "    </tr>\n",
       "    <tr>\n",
       "      <th>122</th>\n",
       "      <td>Thüringen</td>\n",
       "      <td>1</td>\n",
       "      <td>0</td>\n",
       "      <td>50.85</td>\n",
       "      <td>11.13</td>\n",
       "      <td>2020-03-06</td>\n",
       "    </tr>\n",
       "    <tr>\n",
       "      <th>106</th>\n",
       "      <td>Thüringen</td>\n",
       "      <td>1</td>\n",
       "      <td>0</td>\n",
       "      <td>50.85</td>\n",
       "      <td>11.13</td>\n",
       "      <td>2020-03-05</td>\n",
       "    </tr>\n",
       "    <tr>\n",
       "      <th>90</th>\n",
       "      <td>Thüringen</td>\n",
       "      <td>1</td>\n",
       "      <td>0</td>\n",
       "      <td>50.85</td>\n",
       "      <td>11.13</td>\n",
       "      <td>2020-03-04</td>\n",
       "    </tr>\n",
       "    <tr>\n",
       "      <th>74</th>\n",
       "      <td>Thüringen</td>\n",
       "      <td>1</td>\n",
       "      <td>0</td>\n",
       "      <td>50.85</td>\n",
       "      <td>11.13</td>\n",
       "      <td>2020-03-03</td>\n",
       "    </tr>\n",
       "    <tr>\n",
       "      <th>236</th>\n",
       "      <td>Schleswig-Holstein</td>\n",
       "      <td>60</td>\n",
       "      <td>0</td>\n",
       "      <td>54.20</td>\n",
       "      <td>9.90</td>\n",
       "      <td>2020-03-15</td>\n",
       "    </tr>\n",
       "    <tr>\n",
       "      <th>219</th>\n",
       "      <td>Schleswig-Holstein</td>\n",
       "      <td>48</td>\n",
       "      <td>0</td>\n",
       "      <td>54.20</td>\n",
       "      <td>9.90</td>\n",
       "      <td>2020-03-14</td>\n",
       "    </tr>\n",
       "    <tr>\n",
       "      <th>31</th>\n",
       "      <td>Schleswig-Holstein</td>\n",
       "      <td>31</td>\n",
       "      <td>0</td>\n",
       "      <td>54.20</td>\n",
       "      <td>9.90</td>\n",
       "      <td>2020-03-13</td>\n",
       "    </tr>\n",
       "    <tr>\n",
       "      <th>14</th>\n",
       "      <td>Schleswig-Holstein</td>\n",
       "      <td>27</td>\n",
       "      <td>0</td>\n",
       "      <td>54.20</td>\n",
       "      <td>9.90</td>\n",
       "      <td>2020-03-12</td>\n",
       "    </tr>\n",
       "    <tr>\n",
       "      <th>202</th>\n",
       "      <td>Schleswig-Holstein</td>\n",
       "      <td>27</td>\n",
       "      <td>0</td>\n",
       "      <td>54.20</td>\n",
       "      <td>9.90</td>\n",
       "      <td>2020-03-11</td>\n",
       "    </tr>\n",
       "    <tr>\n",
       "      <th>185</th>\n",
       "      <td>Schleswig-Holstein</td>\n",
       "      <td>9</td>\n",
       "      <td>0</td>\n",
       "      <td>54.20</td>\n",
       "      <td>9.90</td>\n",
       "      <td>2020-03-10</td>\n",
       "    </tr>\n",
       "    <tr>\n",
       "      <th>169</th>\n",
       "      <td>Schleswig-Holstein</td>\n",
       "      <td>9</td>\n",
       "      <td>0</td>\n",
       "      <td>54.20</td>\n",
       "      <td>9.90</td>\n",
       "      <td>2020-03-09</td>\n",
       "    </tr>\n",
       "  </tbody>\n",
       "</table>\n",
       "</div>"
      ],
      "text/plain": [
       "             bundesland  faelle  tod    lat   long      datum\n",
       "237           Thüringen      46    0  50.85  11.13 2020-03-15\n",
       "220           Thüringen      29    0  50.85  11.13 2020-03-14\n",
       "32            Thüringen      14    0  50.85  11.13 2020-03-13\n",
       "15            Thüringen      10    0  50.85  11.13 2020-03-12\n",
       "203           Thüringen      10    0  50.85  11.13 2020-03-11\n",
       "186           Thüringen       2    0  50.85  11.13 2020-03-10\n",
       "170           Thüringen       2    0  50.85  11.13 2020-03-09\n",
       "154           Thüringen       2    0  50.85  11.13 2020-03-08\n",
       "138           Thüringen       1    0  50.85  11.13 2020-03-07\n",
       "122           Thüringen       1    0  50.85  11.13 2020-03-06\n",
       "106           Thüringen       1    0  50.85  11.13 2020-03-05\n",
       "90            Thüringen       1    0  50.85  11.13 2020-03-04\n",
       "74            Thüringen       1    0  50.85  11.13 2020-03-03\n",
       "236  Schleswig-Holstein      60    0  54.20   9.90 2020-03-15\n",
       "219  Schleswig-Holstein      48    0  54.20   9.90 2020-03-14\n",
       "31   Schleswig-Holstein      31    0  54.20   9.90 2020-03-13\n",
       "14   Schleswig-Holstein      27    0  54.20   9.90 2020-03-12\n",
       "202  Schleswig-Holstein      27    0  54.20   9.90 2020-03-11\n",
       "185  Schleswig-Holstein       9    0  54.20   9.90 2020-03-10\n",
       "169  Schleswig-Holstein       9    0  54.20   9.90 2020-03-09"
      ]
     },
     "execution_count": 3,
     "metadata": {},
     "output_type": "execute_result"
    }
   ],
   "source": [
    "df_old.sort_values([\"bundesland\",\"datum\"], ascending = False).head(20)"
   ]
  },
  {
   "cell_type": "code",
   "execution_count": 4,
   "metadata": {
    "ExecuteTime": {
     "end_time": "2020-03-16T06:27:08.653234Z",
     "start_time": "2020-03-16T06:27:08.647824Z"
    }
   },
   "outputs": [],
   "source": [
    "today = pd.Timestamp(date.today())"
   ]
  },
  {
   "cell_type": "code",
   "execution_count": 5,
   "metadata": {
    "ExecuteTime": {
     "end_time": "2020-03-16T06:27:09.210650Z",
     "start_time": "2020-03-16T06:27:09.207168Z"
    }
   },
   "outputs": [],
   "source": [
    "URL = \"https://www.rki.de/DE/Content/InfAZ/N/Neuartiges_Coronavirus/Fallzahlen.html\""
   ]
  },
  {
   "cell_type": "code",
   "execution_count": 6,
   "metadata": {
    "ExecuteTime": {
     "end_time": "2020-03-16T06:27:10.204891Z",
     "start_time": "2020-03-16T06:27:10.012728Z"
    }
   },
   "outputs": [],
   "source": [
    "page = requests.get(URL)"
   ]
  },
  {
   "cell_type": "code",
   "execution_count": 7,
   "metadata": {
    "ExecuteTime": {
     "end_time": "2020-03-16T06:27:10.751026Z",
     "start_time": "2020-03-16T06:27:10.687490Z"
    }
   },
   "outputs": [],
   "source": [
    "soup = BeautifulSoup(page.content, 'html.parser')"
   ]
  },
  {
   "cell_type": "code",
   "execution_count": 8,
   "metadata": {
    "ExecuteTime": {
     "end_time": "2020-03-16T06:27:11.382220Z",
     "start_time": "2020-03-16T06:27:11.377646Z"
    }
   },
   "outputs": [],
   "source": [
    "results = soup.find_all(\"tr\")"
   ]
  },
  {
   "cell_type": "code",
   "execution_count": 9,
   "metadata": {
    "ExecuteTime": {
     "end_time": "2020-03-16T06:27:12.270236Z",
     "start_time": "2020-03-16T06:27:12.260443Z"
    }
   },
   "outputs": [],
   "source": [
    "bundesland = []\n",
    "faelle = []\n",
    "tod = []\n",
    "for idx,elm in enumerate(results):\n",
    "    if idx > 0:\n",
    "        bundesland.append(re.sub('<[^<]+?>', '', str(elm.find_all(\"td\")[0])))\n",
    "        faelle.append(re.sub('<[^<]+?>', '', str(elm.find_all(\"td\")[1])).split()[0])\n",
    "        if len(re.sub('<[^<]+?>', '', str(elm.find_all(\"td\")[1])).split()) > 1:\n",
    "            tod.append(re.sub('<[^<]+?>', '', str(elm.find_all(\"td\")[1])).split()[1].strip(\"(\").strip(\")\"))\n",
    "        else:\n",
    "            tod.append(\"0\")\n",
    "    else:\n",
    "        pass"
   ]
  },
  {
   "cell_type": "code",
   "execution_count": 10,
   "metadata": {
    "ExecuteTime": {
     "end_time": "2020-03-16T06:27:12.947665Z",
     "start_time": "2020-03-16T06:27:12.942024Z"
    }
   },
   "outputs": [],
   "source": [
    "lat={\"Baden-Württemberg\":48.5, \"Bayern\":48.9, \"Berlin\":52.5, \"Brandenburg\":52, \"Bremen\":53.1, \"Hamburg\":53.5, \n",
    "     \"Hessen\":50.7, \"Mecklenburg-Vorpommern\":53.8, \"Niedersachsen\":52.57, \"Nordrhein-Westfalen\":51.6,\"Rheinland-Pfalz\":50, \n",
    "     \"Saarland\":49.4, \"Sachsen\":51.05, \"Sachsen-Anhalt\":52, \"Schleswig-Holstein\":54.2, \"Thüringen\":50.85, \"Gesamt\":51.06}\n",
    "long={\"Baden-Württemberg\":9, \"Bayern\":11.4, \"Berlin\":13.4, \"Brandenburg\":13.87, \"Bremen\":8.8, \"Hamburg\":10, \n",
    "      \"Hessen\":9, \"Mecklenburg-Vorpommern\":12.5,\"Niedersachsen\":10, \"Nordrhein-Westfalen\":7.5,\"Rheinland-Pfalz\":7.3,\n",
    "      \"Saarland\":6.97,\"Sachsen\":13.5, \"Sachsen-Anhalt\":11.65,\"Schleswig-Holstein\":9.9, \"Thüringen\":11.13,\"Gesamt\":10}\n"
   ]
  },
  {
   "cell_type": "code",
   "execution_count": 11,
   "metadata": {
    "ExecuteTime": {
     "end_time": "2020-03-16T06:27:13.605650Z",
     "start_time": "2020-03-16T06:27:13.601097Z"
    }
   },
   "outputs": [],
   "source": [
    "df=pd.DataFrame(data=[bundesland,faelle,tod]).T\n",
    "    "
   ]
  },
  {
   "cell_type": "code",
   "execution_count": 12,
   "metadata": {
    "ExecuteTime": {
     "end_time": "2020-03-16T06:27:14.325962Z",
     "start_time": "2020-03-16T06:27:14.320832Z"
    }
   },
   "outputs": [],
   "source": [
    "df[\"lat\"]=\"NaN\"\n",
    "df[\"long\"]=\"NaN\"\n",
    "df[\"date\"] = today"
   ]
  },
  {
   "cell_type": "code",
   "execution_count": 13,
   "metadata": {
    "ExecuteTime": {
     "end_time": "2020-03-16T06:27:15.039240Z",
     "start_time": "2020-03-16T06:27:15.036054Z"
    }
   },
   "outputs": [],
   "source": [
    "df.columns = [\"bundesland\",\"faelle\",\"tod\",\"lat\",\"long\",\"datum\"]"
   ]
  },
  {
   "cell_type": "code",
   "execution_count": 14,
   "metadata": {
    "ExecuteTime": {
     "end_time": "2020-03-16T06:27:15.749262Z",
     "start_time": "2020-03-16T06:27:15.743603Z"
    }
   },
   "outputs": [],
   "source": [
    "df.tod = df.tod.replace(to_replace = \"\", value = \"0\", regex = True)"
   ]
  },
  {
   "cell_type": "code",
   "execution_count": 15,
   "metadata": {
    "ExecuteTime": {
     "end_time": "2020-03-16T06:27:16.474056Z",
     "start_time": "2020-03-16T06:27:16.466954Z"
    }
   },
   "outputs": [],
   "source": [
    "df.datum = pd.to_datetime(df.datum)"
   ]
  },
  {
   "cell_type": "code",
   "execution_count": 16,
   "metadata": {
    "ExecuteTime": {
     "end_time": "2020-03-16T06:27:17.198754Z",
     "start_time": "2020-03-16T06:27:17.191442Z"
    }
   },
   "outputs": [],
   "source": [
    "df.bundesland.replace(\"Schleswig Holstein\",\"Schleswig-Holstein\", inplace=True)\n",
    "lat2=[]\n",
    "long2=[]\n",
    "for elm in df.bundesland.values:\n",
    "    lat2.append(lat[elm])\n",
    "    long2.append(long[elm])"
   ]
  },
  {
   "cell_type": "code",
   "execution_count": 17,
   "metadata": {
    "ExecuteTime": {
     "end_time": "2020-03-16T06:27:17.928846Z",
     "start_time": "2020-03-16T06:27:17.923413Z"
    }
   },
   "outputs": [],
   "source": [
    "df[\"lat\"] = lat2\n",
    "df[\"long\"] = long2"
   ]
  },
  {
   "cell_type": "code",
   "execution_count": 18,
   "metadata": {
    "ExecuteTime": {
     "end_time": "2020-03-16T06:27:19.459768Z",
     "start_time": "2020-03-16T06:27:18.641762Z"
    }
   },
   "outputs": [
    {
     "name": "stderr",
     "output_type": "stream",
     "text": [
      "/Users/karstenyan/opt/anaconda3/envs/nf/lib/python3.6/site-packages/ipykernel_launcher.py:2: SettingWithCopyWarning: \n",
      "A value is trying to be set on a copy of a slice from a DataFrame\n",
      "\n",
      "See the caveats in the documentation: http://pandas.pydata.org/pandas-docs/stable/indexing.html#indexing-view-versus-copy\n",
      "  \n",
      "/Users/karstenyan/opt/anaconda3/envs/nf/lib/python3.6/site-packages/ipykernel_launcher.py:5: SettingWithCopyWarning: \n",
      "A value is trying to be set on a copy of a slice from a DataFrame\n",
      "\n",
      "See the caveats in the documentation: http://pandas.pydata.org/pandas-docs/stable/indexing.html#indexing-view-versus-copy\n",
      "  \"\"\"\n"
     ]
    }
   ],
   "source": [
    "for idx,elm in enumerate(df.faelle):\n",
    "    df.faelle[idx] = elm.replace(\".\",\"\")\n",
    "\n",
    "for idx,elm in enumerate(df.tod):\n",
    "    df.tod[idx] = elm.replace(\".\",\"\")"
   ]
  },
  {
   "cell_type": "code",
   "execution_count": 19,
   "metadata": {
    "ExecuteTime": {
     "end_time": "2020-03-16T06:27:20.177493Z",
     "start_time": "2020-03-16T06:27:20.166581Z"
    }
   },
   "outputs": [
    {
     "name": "stdout",
     "output_type": "stream",
     "text": [
      "<class 'pandas.core.frame.DataFrame'>\n",
      "RangeIndex: 17 entries, 0 to 16\n",
      "Data columns (total 6 columns):\n",
      "bundesland    17 non-null object\n",
      "faelle        17 non-null object\n",
      "tod           17 non-null object\n",
      "lat           17 non-null float64\n",
      "long          17 non-null float64\n",
      "datum         17 non-null datetime64[ns]\n",
      "dtypes: datetime64[ns](1), float64(2), object(3)\n",
      "memory usage: 896.0+ bytes\n"
     ]
    }
   ],
   "source": [
    "df.info()"
   ]
  },
  {
   "cell_type": "code",
   "execution_count": 20,
   "metadata": {
    "ExecuteTime": {
     "end_time": "2020-03-16T06:27:24.297907Z",
     "start_time": "2020-03-16T06:27:24.271541Z"
    }
   },
   "outputs": [],
   "source": [
    "#df.lat = df.lat.astype(\"float\")\n",
    "#df.long = df.long.astype(\"float\")\n",
    "df.tod = df.tod.astype(\"int64\")\n",
    "df.faelle = df.faelle.astype(\"int64\")"
   ]
  },
  {
   "cell_type": "code",
   "execution_count": 21,
   "metadata": {
    "ExecuteTime": {
     "end_time": "2020-03-16T06:27:25.230118Z",
     "start_time": "2020-03-16T06:27:25.216968Z"
    }
   },
   "outputs": [],
   "source": [
    "df=pd.concat([df_old,df]).reset_index().drop(\"index\",axis=1)"
   ]
  },
  {
   "cell_type": "code",
   "execution_count": 22,
   "metadata": {
    "ExecuteTime": {
     "end_time": "2020-03-16T06:27:26.018833Z",
     "start_time": "2020-03-16T06:27:26.007087Z"
    }
   },
   "outputs": [
    {
     "data": {
      "text/html": [
       "<div>\n",
       "<style scoped>\n",
       "    .dataframe tbody tr th:only-of-type {\n",
       "        vertical-align: middle;\n",
       "    }\n",
       "\n",
       "    .dataframe tbody tr th {\n",
       "        vertical-align: top;\n",
       "    }\n",
       "\n",
       "    .dataframe thead th {\n",
       "        text-align: right;\n",
       "    }\n",
       "</style>\n",
       "<table border=\"1\" class=\"dataframe\">\n",
       "  <thead>\n",
       "    <tr style=\"text-align: right;\">\n",
       "      <th></th>\n",
       "      <th>bundesland</th>\n",
       "      <th>faelle</th>\n",
       "      <th>tod</th>\n",
       "      <th>lat</th>\n",
       "      <th>long</th>\n",
       "      <th>datum</th>\n",
       "    </tr>\n",
       "  </thead>\n",
       "  <tbody>\n",
       "    <tr>\n",
       "      <th>239</th>\n",
       "      <td>Baden-Württemberg</td>\n",
       "      <td>827</td>\n",
       "      <td>3</td>\n",
       "      <td>48.50</td>\n",
       "      <td>9.00</td>\n",
       "      <td>2020-03-16</td>\n",
       "    </tr>\n",
       "    <tr>\n",
       "      <th>240</th>\n",
       "      <td>Bayern</td>\n",
       "      <td>886</td>\n",
       "      <td>4</td>\n",
       "      <td>48.90</td>\n",
       "      <td>11.40</td>\n",
       "      <td>2020-03-16</td>\n",
       "    </tr>\n",
       "    <tr>\n",
       "      <th>241</th>\n",
       "      <td>Berlin</td>\n",
       "      <td>265</td>\n",
       "      <td>0</td>\n",
       "      <td>52.50</td>\n",
       "      <td>13.40</td>\n",
       "      <td>2020-03-16</td>\n",
       "    </tr>\n",
       "    <tr>\n",
       "      <th>242</th>\n",
       "      <td>Brandenburg</td>\n",
       "      <td>84</td>\n",
       "      <td>0</td>\n",
       "      <td>52.00</td>\n",
       "      <td>13.87</td>\n",
       "      <td>2020-03-16</td>\n",
       "    </tr>\n",
       "    <tr>\n",
       "      <th>243</th>\n",
       "      <td>Bremen</td>\n",
       "      <td>53</td>\n",
       "      <td>0</td>\n",
       "      <td>53.10</td>\n",
       "      <td>8.80</td>\n",
       "      <td>2020-03-16</td>\n",
       "    </tr>\n",
       "    <tr>\n",
       "      <th>244</th>\n",
       "      <td>Hamburg</td>\n",
       "      <td>162</td>\n",
       "      <td>0</td>\n",
       "      <td>53.50</td>\n",
       "      <td>10.00</td>\n",
       "      <td>2020-03-16</td>\n",
       "    </tr>\n",
       "    <tr>\n",
       "      <th>245</th>\n",
       "      <td>Hessen</td>\n",
       "      <td>286</td>\n",
       "      <td>0</td>\n",
       "      <td>50.70</td>\n",
       "      <td>9.00</td>\n",
       "      <td>2020-03-16</td>\n",
       "    </tr>\n",
       "    <tr>\n",
       "      <th>246</th>\n",
       "      <td>Mecklenburg-Vorpommern</td>\n",
       "      <td>50</td>\n",
       "      <td>0</td>\n",
       "      <td>53.80</td>\n",
       "      <td>12.50</td>\n",
       "      <td>2020-03-16</td>\n",
       "    </tr>\n",
       "    <tr>\n",
       "      <th>247</th>\n",
       "      <td>Niedersachsen</td>\n",
       "      <td>287</td>\n",
       "      <td>0</td>\n",
       "      <td>52.57</td>\n",
       "      <td>10.00</td>\n",
       "      <td>2020-03-16</td>\n",
       "    </tr>\n",
       "    <tr>\n",
       "      <th>248</th>\n",
       "      <td>Nordrhein-Westfalen</td>\n",
       "      <td>1407</td>\n",
       "      <td>5</td>\n",
       "      <td>51.60</td>\n",
       "      <td>7.50</td>\n",
       "      <td>2020-03-16</td>\n",
       "    </tr>\n",
       "    <tr>\n",
       "      <th>249</th>\n",
       "      <td>Rheinland-Pfalz</td>\n",
       "      <td>168</td>\n",
       "      <td>0</td>\n",
       "      <td>50.00</td>\n",
       "      <td>7.30</td>\n",
       "      <td>2020-03-16</td>\n",
       "    </tr>\n",
       "    <tr>\n",
       "      <th>250</th>\n",
       "      <td>Saarland</td>\n",
       "      <td>32</td>\n",
       "      <td>0</td>\n",
       "      <td>49.40</td>\n",
       "      <td>6.97</td>\n",
       "      <td>2020-03-16</td>\n",
       "    </tr>\n",
       "    <tr>\n",
       "      <th>251</th>\n",
       "      <td>Sachsen</td>\n",
       "      <td>130</td>\n",
       "      <td>0</td>\n",
       "      <td>51.05</td>\n",
       "      <td>13.50</td>\n",
       "      <td>2020-03-16</td>\n",
       "    </tr>\n",
       "    <tr>\n",
       "      <th>252</th>\n",
       "      <td>Sachsen-Anhalt</td>\n",
       "      <td>47</td>\n",
       "      <td>0</td>\n",
       "      <td>52.00</td>\n",
       "      <td>11.65</td>\n",
       "      <td>2020-03-16</td>\n",
       "    </tr>\n",
       "    <tr>\n",
       "      <th>253</th>\n",
       "      <td>Schleswig-Holstein</td>\n",
       "      <td>103</td>\n",
       "      <td>0</td>\n",
       "      <td>54.20</td>\n",
       "      <td>9.90</td>\n",
       "      <td>2020-03-16</td>\n",
       "    </tr>\n",
       "    <tr>\n",
       "      <th>254</th>\n",
       "      <td>Thüringen</td>\n",
       "      <td>51</td>\n",
       "      <td>0</td>\n",
       "      <td>50.85</td>\n",
       "      <td>11.13</td>\n",
       "      <td>2020-03-16</td>\n",
       "    </tr>\n",
       "    <tr>\n",
       "      <th>255</th>\n",
       "      <td>Gesamt</td>\n",
       "      <td>4838</td>\n",
       "      <td>12</td>\n",
       "      <td>51.06</td>\n",
       "      <td>10.00</td>\n",
       "      <td>2020-03-16</td>\n",
       "    </tr>\n",
       "  </tbody>\n",
       "</table>\n",
       "</div>"
      ],
      "text/plain": [
       "                 bundesland  faelle  tod    lat   long      datum\n",
       "239       Baden-Württemberg     827    3  48.50   9.00 2020-03-16\n",
       "240                  Bayern     886    4  48.90  11.40 2020-03-16\n",
       "241                  Berlin     265    0  52.50  13.40 2020-03-16\n",
       "242             Brandenburg      84    0  52.00  13.87 2020-03-16\n",
       "243                  Bremen      53    0  53.10   8.80 2020-03-16\n",
       "244                 Hamburg     162    0  53.50  10.00 2020-03-16\n",
       "245                  Hessen     286    0  50.70   9.00 2020-03-16\n",
       "246  Mecklenburg-Vorpommern      50    0  53.80  12.50 2020-03-16\n",
       "247           Niedersachsen     287    0  52.57  10.00 2020-03-16\n",
       "248     Nordrhein-Westfalen    1407    5  51.60   7.50 2020-03-16\n",
       "249         Rheinland-Pfalz     168    0  50.00   7.30 2020-03-16\n",
       "250                Saarland      32    0  49.40   6.97 2020-03-16\n",
       "251                 Sachsen     130    0  51.05  13.50 2020-03-16\n",
       "252          Sachsen-Anhalt      47    0  52.00  11.65 2020-03-16\n",
       "253      Schleswig-Holstein     103    0  54.20   9.90 2020-03-16\n",
       "254               Thüringen      51    0  50.85  11.13 2020-03-16\n",
       "255                  Gesamt    4838   12  51.06  10.00 2020-03-16"
      ]
     },
     "execution_count": 22,
     "metadata": {},
     "output_type": "execute_result"
    }
   ],
   "source": [
    "df[df[\"datum\"]==today]"
   ]
  },
  {
   "cell_type": "code",
   "execution_count": 23,
   "metadata": {
    "ExecuteTime": {
     "end_time": "2020-03-16T06:27:37.419106Z",
     "start_time": "2020-03-16T06:27:37.407833Z"
    }
   },
   "outputs": [],
   "source": [
    "df_old.to_csv ('old_data/brd_covid_19'+str(today)+\".csv\", index = False, header=True)"
   ]
  },
  {
   "cell_type": "code",
   "execution_count": 24,
   "metadata": {
    "ExecuteTime": {
     "end_time": "2020-03-16T06:27:38.238698Z",
     "start_time": "2020-03-16T06:27:38.230082Z"
    }
   },
   "outputs": [],
   "source": [
    "df.to_csv ('brd_covid_19.csv', index = False, header=True)"
   ]
  },
  {
   "cell_type": "code",
   "execution_count": null,
   "metadata": {},
   "outputs": [],
   "source": []
  }
 ],
 "metadata": {
  "kernelspec": {
   "display_name": "Python [conda env:nf] *",
   "language": "python",
   "name": "conda-env-nf-py"
  },
  "language_info": {
   "codemirror_mode": {
    "name": "ipython",
    "version": 3
   },
   "file_extension": ".py",
   "mimetype": "text/x-python",
   "name": "python",
   "nbconvert_exporter": "python",
   "pygments_lexer": "ipython3",
   "version": "3.6.10"
  },
  "toc": {
   "base_numbering": 1,
   "nav_menu": {},
   "number_sections": true,
   "sideBar": true,
   "skip_h1_title": false,
   "title_cell": "Table of Contents",
   "title_sidebar": "Contents",
   "toc_cell": false,
   "toc_position": {},
   "toc_section_display": true,
   "toc_window_display": false
  },
  "varInspector": {
   "cols": {
    "lenName": 16,
    "lenType": 16,
    "lenVar": 40
   },
   "kernels_config": {
    "python": {
     "delete_cmd_postfix": "",
     "delete_cmd_prefix": "del ",
     "library": "var_list.py",
     "varRefreshCmd": "print(var_dic_list())"
    },
    "r": {
     "delete_cmd_postfix": ") ",
     "delete_cmd_prefix": "rm(",
     "library": "var_list.r",
     "varRefreshCmd": "cat(var_dic_list()) "
    }
   },
   "types_to_exclude": [
    "module",
    "function",
    "builtin_function_or_method",
    "instance",
    "_Feature"
   ],
   "window_display": false
  }
 },
 "nbformat": 4,
 "nbformat_minor": 4
}
