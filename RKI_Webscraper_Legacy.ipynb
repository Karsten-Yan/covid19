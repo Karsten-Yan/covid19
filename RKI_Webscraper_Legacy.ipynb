{
 "cells": [
  {
   "cell_type": "code",
   "execution_count": 4,
   "metadata": {
    "ExecuteTime": {
     "end_time": "2020-03-16T22:06:48.413578Z",
     "start_time": "2020-03-16T22:06:47.495768Z"
    }
   },
   "outputs": [],
   "source": [
    "import pprint\n",
    "import requests\n",
    "import pandas as pd\n",
    "import re\n",
    "from bs4 import BeautifulSoup\n",
    "from datetime import date"
   ]
  },
  {
   "cell_type": "code",
   "execution_count": 5,
   "metadata": {
    "ExecuteTime": {
     "end_time": "2020-03-16T22:06:51.128540Z",
     "start_time": "2020-03-16T22:06:51.125202Z"
    }
   },
   "outputs": [],
   "source": [
    "#df_old = pd.read_csv(\"brd_covid_19.csv\",parse_dates=[5])"
   ]
  },
  {
   "cell_type": "code",
   "execution_count": 387,
   "metadata": {
    "ExecuteTime": {
     "end_time": "2020-03-16T22:37:52.435766Z",
     "start_time": "2020-03-16T22:37:52.431387Z"
    }
   },
   "outputs": [],
   "source": [
    "today = \"2020-03-12\""
   ]
  },
  {
   "cell_type": "code",
   "execution_count": 388,
   "metadata": {
    "ExecuteTime": {
     "end_time": "2020-03-16T22:37:52.601610Z",
     "start_time": "2020-03-16T22:37:52.598527Z"
    }
   },
   "outputs": [],
   "source": [
    "URL = \"https://web.archive.org/web/20200312200602/https://www.rki.de/DE/Content/InfAZ/N/Neuartiges_Coronavirus/Fallzahlen.html\""
   ]
  },
  {
   "cell_type": "code",
   "execution_count": 389,
   "metadata": {
    "ExecuteTime": {
     "end_time": "2020-03-16T22:37:54.712338Z",
     "start_time": "2020-03-16T22:37:52.870613Z"
    }
   },
   "outputs": [],
   "source": [
    "page = requests.get(URL)"
   ]
  },
  {
   "cell_type": "code",
   "execution_count": 390,
   "metadata": {
    "ExecuteTime": {
     "end_time": "2020-03-16T22:37:54.858659Z",
     "start_time": "2020-03-16T22:37:54.799651Z"
    }
   },
   "outputs": [],
   "source": [
    "soup = BeautifulSoup(page.content, 'html.parser')"
   ]
  },
  {
   "cell_type": "code",
   "execution_count": 391,
   "metadata": {
    "ExecuteTime": {
     "end_time": "2020-03-16T22:37:55.044787Z",
     "start_time": "2020-03-16T22:37:55.034265Z"
    }
   },
   "outputs": [],
   "source": [
    "results = soup.find_all(\"tr\")"
   ]
  },
  {
   "cell_type": "code",
   "execution_count": 392,
   "metadata": {
    "ExecuteTime": {
     "end_time": "2020-03-16T22:37:55.160659Z",
     "start_time": "2020-03-16T22:37:55.151145Z"
    }
   },
   "outputs": [],
   "source": [
    "bundesland = []\n",
    "faelle = []\n",
    "tod = []\n",
    "for idx,elm in enumerate(results):\n",
    "    if idx > 0:\n",
    "        bundesland.append(re.sub('<[^<]+?>', '', str(elm.find_all(\"td\")[0])))\n",
    "        faelle.append(re.sub('<[^<]+?>', '', str(elm.find_all(\"td\")[1])))\n",
    "        #tod.append(0)\n",
    "        tod.append(re.sub('<[^<]+?>', '', str(elm.find_all(\"td\")[2])))\n",
    "    else:\n",
    "        pass"
   ]
  },
  {
   "cell_type": "code",
   "execution_count": 393,
   "metadata": {
    "ExecuteTime": {
     "end_time": "2020-03-16T22:37:55.261931Z",
     "start_time": "2020-03-16T22:37:55.257867Z"
    }
   },
   "outputs": [],
   "source": [
    "#tod = [0,0,0,0,0,0,0,0,0,2,0,0,0,0,0]"
   ]
  },
  {
   "cell_type": "code",
   "execution_count": 394,
   "metadata": {
    "ExecuteTime": {
     "end_time": "2020-03-16T22:37:55.365810Z",
     "start_time": "2020-03-16T22:37:55.360905Z"
    }
   },
   "outputs": [
    {
     "data": {
      "text/plain": [
       "['0',\n",
       " '0',\n",
       " '0',\n",
       " '0',\n",
       " '0',\n",
       " '0',\n",
       " '0',\n",
       " '0',\n",
       " '0',\n",
       " '3',\n",
       " '0',\n",
       " '0',\n",
       " '0',\n",
       " '',\n",
       " '0',\n",
       " '0',\n",
       " '3']"
      ]
     },
     "execution_count": 394,
     "metadata": {},
     "output_type": "execute_result"
    }
   ],
   "source": [
    "tod"
   ]
  },
  {
   "cell_type": "code",
   "execution_count": 395,
   "metadata": {
    "ExecuteTime": {
     "end_time": "2020-03-16T22:37:58.748266Z",
     "start_time": "2020-03-16T22:37:58.740059Z"
    }
   },
   "outputs": [],
   "source": [
    "lat={\"Baden-Württemberg\":48.5, \"Bayern\":48.9, \"Berlin\":52.5, \"Brandenburg\":52, \"Bremen\":53.1, \"Hamburg\":53.5, \n",
    "     \"Hessen\":50.7, \"Mecklenburg-Vorpommern\":53.8, \"Niedersachsen\":52.57, \"Nordrhein-Westfalen\":51.6,\"Rheinland-Pfalz\":50, \n",
    "     \"Saarland\":49.4, \"Sachsen\":51.05, \"Sachsen-Anhalt\":52, \"Schleswig-Holstein\":54.2, \"Thüringen\":50.85, \"Gesamt\":51.06}\n",
    "long={\"Baden-Württemberg\":9, \"Bayern\":11.4, \"Berlin\":13.4, \"Brandenburg\":13.87, \"Bremen\":8.8, \"Hamburg\":10, \n",
    "      \"Hessen\":9, \"Mecklenburg-Vorpommern\":12.5,\"Niedersachsen\":10, \"Nordrhein-Westfalen\":7.5,\"Rheinland-Pfalz\":7.3,\n",
    "      \"Saarland\":6.97,\"Sachsen\":13.5, \"Sachsen-Anhalt\":11.65,\"Schleswig-Holstein\":9.9, \"Thüringen\":11.13,\"Gesamt\":10}\n"
   ]
  },
  {
   "cell_type": "code",
   "execution_count": 396,
   "metadata": {
    "ExecuteTime": {
     "end_time": "2020-03-16T22:37:58.928810Z",
     "start_time": "2020-03-16T22:37:58.923459Z"
    }
   },
   "outputs": [],
   "source": [
    "#lat=[48.5, 48.9, 53.4, 52.4, 53.1, 53.5, 50.7, 53.8, 53.87, 51.6,50, 49.4, 51.05, 52, 54.2, 50.85, 51.06]\n",
    "#long=[9, 11.4, 13.2, 13, 8.8, 10, 9, 12.5,9.5, 7.5,7.3, 6.97,13.5, 11.65,9.9, 11.13,10]\n"
   ]
  },
  {
   "cell_type": "code",
   "execution_count": 397,
   "metadata": {
    "ExecuteTime": {
     "end_time": "2020-03-16T22:37:59.122277Z",
     "start_time": "2020-03-16T22:37:59.116392Z"
    }
   },
   "outputs": [],
   "source": [
    "df=pd.DataFrame(data=[bundesland,faelle,tod]).T\n",
    "    "
   ]
  },
  {
   "cell_type": "code",
   "execution_count": 398,
   "metadata": {
    "ExecuteTime": {
     "end_time": "2020-03-16T22:37:59.430983Z",
     "start_time": "2020-03-16T22:37:59.418853Z"
    }
   },
   "outputs": [
    {
     "data": {
      "text/html": [
       "<div>\n",
       "<style scoped>\n",
       "    .dataframe tbody tr th:only-of-type {\n",
       "        vertical-align: middle;\n",
       "    }\n",
       "\n",
       "    .dataframe tbody tr th {\n",
       "        vertical-align: top;\n",
       "    }\n",
       "\n",
       "    .dataframe thead th {\n",
       "        text-align: right;\n",
       "    }\n",
       "</style>\n",
       "<table border=\"1\" class=\"dataframe\">\n",
       "  <thead>\n",
       "    <tr style=\"text-align: right;\">\n",
       "      <th></th>\n",
       "      <th>0</th>\n",
       "      <th>1</th>\n",
       "      <th>2</th>\n",
       "    </tr>\n",
       "  </thead>\n",
       "  <tbody>\n",
       "    <tr>\n",
       "      <th>0</th>\n",
       "      <td>Baden-Württemberg</td>\n",
       "      <td>277</td>\n",
       "      <td>0</td>\n",
       "    </tr>\n",
       "    <tr>\n",
       "      <th>1</th>\n",
       "      <td>Bayern</td>\n",
       "      <td>366</td>\n",
       "      <td>0</td>\n",
       "    </tr>\n",
       "    <tr>\n",
       "      <th>2</th>\n",
       "      <td>Berlin</td>\n",
       "      <td>90</td>\n",
       "      <td>0</td>\n",
       "    </tr>\n",
       "    <tr>\n",
       "      <th>3</th>\n",
       "      <td>Brandenburg</td>\n",
       "      <td>24</td>\n",
       "      <td>0</td>\n",
       "    </tr>\n",
       "    <tr>\n",
       "      <th>4</th>\n",
       "      <td>Bremen</td>\n",
       "      <td>21</td>\n",
       "      <td>0</td>\n",
       "    </tr>\n",
       "    <tr>\n",
       "      <th>5</th>\n",
       "      <td>Hamburg</td>\n",
       "      <td>48</td>\n",
       "      <td>0</td>\n",
       "    </tr>\n",
       "    <tr>\n",
       "      <th>6</th>\n",
       "      <td>Hessen</td>\n",
       "      <td>48</td>\n",
       "      <td>0</td>\n",
       "    </tr>\n",
       "    <tr>\n",
       "      <th>7</th>\n",
       "      <td>Mecklenburg-Vorpommern</td>\n",
       "      <td>17</td>\n",
       "      <td>0</td>\n",
       "    </tr>\n",
       "    <tr>\n",
       "      <th>8</th>\n",
       "      <td>Niedersachsen</td>\n",
       "      <td>75</td>\n",
       "      <td>0</td>\n",
       "    </tr>\n",
       "    <tr>\n",
       "      <th>9</th>\n",
       "      <td>Nordrhein-Westfalen</td>\n",
       "      <td>484</td>\n",
       "      <td>3</td>\n",
       "    </tr>\n",
       "    <tr>\n",
       "      <th>10</th>\n",
       "      <td>Rheinland-Pfalz</td>\n",
       "      <td>25</td>\n",
       "      <td>0</td>\n",
       "    </tr>\n",
       "    <tr>\n",
       "      <th>11</th>\n",
       "      <td>Saarland</td>\n",
       "      <td>14</td>\n",
       "      <td>0</td>\n",
       "    </tr>\n",
       "    <tr>\n",
       "      <th>12</th>\n",
       "      <td>Sachsen</td>\n",
       "      <td>26</td>\n",
       "      <td>0</td>\n",
       "    </tr>\n",
       "    <tr>\n",
       "      <th>13</th>\n",
       "      <td>Sachsen-Anhalt</td>\n",
       "      <td>15</td>\n",
       "      <td></td>\n",
       "    </tr>\n",
       "    <tr>\n",
       "      <th>14</th>\n",
       "      <td>Schleswig-Holstein</td>\n",
       "      <td>27</td>\n",
       "      <td>0</td>\n",
       "    </tr>\n",
       "    <tr>\n",
       "      <th>15</th>\n",
       "      <td>Thüringen</td>\n",
       "      <td>10</td>\n",
       "      <td>0</td>\n",
       "    </tr>\n",
       "    <tr>\n",
       "      <th>16</th>\n",
       "      <td>Gesamt</td>\n",
       "      <td>1.567</td>\n",
       "      <td>3</td>\n",
       "    </tr>\n",
       "  </tbody>\n",
       "</table>\n",
       "</div>"
      ],
      "text/plain": [
       "                         0      1  2\n",
       "0        Baden-Württemberg    277  0\n",
       "1                   Bayern    366  0\n",
       "2                   Berlin     90  0\n",
       "3              Brandenburg     24  0\n",
       "4                   Bremen     21  0\n",
       "5                  Hamburg     48  0\n",
       "6                   Hessen     48  0\n",
       "7   Mecklenburg-Vorpommern     17  0\n",
       "8            Niedersachsen     75  0\n",
       "9      Nordrhein-Westfalen    484  3\n",
       "10         Rheinland-Pfalz     25  0\n",
       "11                Saarland     14  0\n",
       "12                 Sachsen     26  0\n",
       "13          Sachsen-Anhalt     15   \n",
       "14      Schleswig-Holstein     27  0\n",
       "15               Thüringen     10  0\n",
       "16                  Gesamt  1.567  3"
      ]
     },
     "execution_count": 398,
     "metadata": {},
     "output_type": "execute_result"
    }
   ],
   "source": [
    "df"
   ]
  },
  {
   "cell_type": "code",
   "execution_count": 399,
   "metadata": {
    "ExecuteTime": {
     "end_time": "2020-03-16T22:37:59.983281Z",
     "start_time": "2020-03-16T22:37:59.975890Z"
    }
   },
   "outputs": [],
   "source": [
    "df[\"lat\"]=\"NaN\"\n",
    "df[\"long\"]=\"NaN\""
   ]
  },
  {
   "cell_type": "code",
   "execution_count": 400,
   "metadata": {
    "ExecuteTime": {
     "end_time": "2020-03-16T22:38:00.388246Z",
     "start_time": "2020-03-16T22:38:00.383668Z"
    }
   },
   "outputs": [],
   "source": [
    "df[\"date\"] = today"
   ]
  },
  {
   "cell_type": "code",
   "execution_count": 401,
   "metadata": {
    "ExecuteTime": {
     "end_time": "2020-03-16T22:38:00.789842Z",
     "start_time": "2020-03-16T22:38:00.782677Z"
    }
   },
   "outputs": [],
   "source": [
    "df.columns = [\"bundesland\",\"faelle\",\"tod\",\"lat\",\"long\",\"datum\"]"
   ]
  },
  {
   "cell_type": "code",
   "execution_count": 402,
   "metadata": {
    "ExecuteTime": {
     "end_time": "2020-03-16T22:38:01.348003Z",
     "start_time": "2020-03-16T22:38:01.344329Z"
    }
   },
   "outputs": [],
   "source": [
    "#df.drop(13, inplace=True)"
   ]
  },
  {
   "cell_type": "code",
   "execution_count": 403,
   "metadata": {
    "ExecuteTime": {
     "end_time": "2020-03-16T22:38:01.844545Z",
     "start_time": "2020-03-16T22:38:01.828894Z"
    }
   },
   "outputs": [
    {
     "data": {
      "text/html": [
       "<div>\n",
       "<style scoped>\n",
       "    .dataframe tbody tr th:only-of-type {\n",
       "        vertical-align: middle;\n",
       "    }\n",
       "\n",
       "    .dataframe tbody tr th {\n",
       "        vertical-align: top;\n",
       "    }\n",
       "\n",
       "    .dataframe thead th {\n",
       "        text-align: right;\n",
       "    }\n",
       "</style>\n",
       "<table border=\"1\" class=\"dataframe\">\n",
       "  <thead>\n",
       "    <tr style=\"text-align: right;\">\n",
       "      <th></th>\n",
       "      <th>bundesland</th>\n",
       "      <th>faelle</th>\n",
       "      <th>tod</th>\n",
       "      <th>lat</th>\n",
       "      <th>long</th>\n",
       "      <th>datum</th>\n",
       "    </tr>\n",
       "  </thead>\n",
       "  <tbody>\n",
       "    <tr>\n",
       "      <th>0</th>\n",
       "      <td>Baden-Württemberg</td>\n",
       "      <td>277</td>\n",
       "      <td>0</td>\n",
       "      <td>NaN</td>\n",
       "      <td>NaN</td>\n",
       "      <td>2020-03-11</td>\n",
       "    </tr>\n",
       "    <tr>\n",
       "      <th>1</th>\n",
       "      <td>Bayern</td>\n",
       "      <td>366</td>\n",
       "      <td>0</td>\n",
       "      <td>NaN</td>\n",
       "      <td>NaN</td>\n",
       "      <td>2020-03-11</td>\n",
       "    </tr>\n",
       "    <tr>\n",
       "      <th>2</th>\n",
       "      <td>Berlin</td>\n",
       "      <td>90</td>\n",
       "      <td>0</td>\n",
       "      <td>NaN</td>\n",
       "      <td>NaN</td>\n",
       "      <td>2020-03-11</td>\n",
       "    </tr>\n",
       "    <tr>\n",
       "      <th>3</th>\n",
       "      <td>Brandenburg</td>\n",
       "      <td>24</td>\n",
       "      <td>0</td>\n",
       "      <td>NaN</td>\n",
       "      <td>NaN</td>\n",
       "      <td>2020-03-11</td>\n",
       "    </tr>\n",
       "    <tr>\n",
       "      <th>4</th>\n",
       "      <td>Bremen</td>\n",
       "      <td>21</td>\n",
       "      <td>0</td>\n",
       "      <td>NaN</td>\n",
       "      <td>NaN</td>\n",
       "      <td>2020-03-11</td>\n",
       "    </tr>\n",
       "    <tr>\n",
       "      <th>5</th>\n",
       "      <td>Hamburg</td>\n",
       "      <td>48</td>\n",
       "      <td>0</td>\n",
       "      <td>NaN</td>\n",
       "      <td>NaN</td>\n",
       "      <td>2020-03-11</td>\n",
       "    </tr>\n",
       "    <tr>\n",
       "      <th>6</th>\n",
       "      <td>Hessen</td>\n",
       "      <td>48</td>\n",
       "      <td>0</td>\n",
       "      <td>NaN</td>\n",
       "      <td>NaN</td>\n",
       "      <td>2020-03-11</td>\n",
       "    </tr>\n",
       "    <tr>\n",
       "      <th>7</th>\n",
       "      <td>Mecklenburg-Vorpommern</td>\n",
       "      <td>17</td>\n",
       "      <td>0</td>\n",
       "      <td>NaN</td>\n",
       "      <td>NaN</td>\n",
       "      <td>2020-03-11</td>\n",
       "    </tr>\n",
       "    <tr>\n",
       "      <th>8</th>\n",
       "      <td>Niedersachsen</td>\n",
       "      <td>75</td>\n",
       "      <td>0</td>\n",
       "      <td>NaN</td>\n",
       "      <td>NaN</td>\n",
       "      <td>2020-03-11</td>\n",
       "    </tr>\n",
       "    <tr>\n",
       "      <th>9</th>\n",
       "      <td>Nordrhein-Westfalen</td>\n",
       "      <td>484</td>\n",
       "      <td>3</td>\n",
       "      <td>NaN</td>\n",
       "      <td>NaN</td>\n",
       "      <td>2020-03-11</td>\n",
       "    </tr>\n",
       "    <tr>\n",
       "      <th>10</th>\n",
       "      <td>Rheinland-Pfalz</td>\n",
       "      <td>25</td>\n",
       "      <td>0</td>\n",
       "      <td>NaN</td>\n",
       "      <td>NaN</td>\n",
       "      <td>2020-03-11</td>\n",
       "    </tr>\n",
       "    <tr>\n",
       "      <th>11</th>\n",
       "      <td>Saarland</td>\n",
       "      <td>14</td>\n",
       "      <td>0</td>\n",
       "      <td>NaN</td>\n",
       "      <td>NaN</td>\n",
       "      <td>2020-03-11</td>\n",
       "    </tr>\n",
       "    <tr>\n",
       "      <th>12</th>\n",
       "      <td>Sachsen</td>\n",
       "      <td>26</td>\n",
       "      <td>0</td>\n",
       "      <td>NaN</td>\n",
       "      <td>NaN</td>\n",
       "      <td>2020-03-11</td>\n",
       "    </tr>\n",
       "    <tr>\n",
       "      <th>13</th>\n",
       "      <td>Sachsen-Anhalt</td>\n",
       "      <td>15</td>\n",
       "      <td></td>\n",
       "      <td>NaN</td>\n",
       "      <td>NaN</td>\n",
       "      <td>2020-03-11</td>\n",
       "    </tr>\n",
       "    <tr>\n",
       "      <th>14</th>\n",
       "      <td>Schleswig-Holstein</td>\n",
       "      <td>27</td>\n",
       "      <td>0</td>\n",
       "      <td>NaN</td>\n",
       "      <td>NaN</td>\n",
       "      <td>2020-03-11</td>\n",
       "    </tr>\n",
       "    <tr>\n",
       "      <th>15</th>\n",
       "      <td>Thüringen</td>\n",
       "      <td>10</td>\n",
       "      <td>0</td>\n",
       "      <td>NaN</td>\n",
       "      <td>NaN</td>\n",
       "      <td>2020-03-11</td>\n",
       "    </tr>\n",
       "    <tr>\n",
       "      <th>16</th>\n",
       "      <td>Gesamt</td>\n",
       "      <td>1.567</td>\n",
       "      <td>3</td>\n",
       "      <td>NaN</td>\n",
       "      <td>NaN</td>\n",
       "      <td>2020-03-11</td>\n",
       "    </tr>\n",
       "  </tbody>\n",
       "</table>\n",
       "</div>"
      ],
      "text/plain": [
       "                bundesland faelle tod  lat long       datum\n",
       "0        Baden-Württemberg    277   0  NaN  NaN  2020-03-11\n",
       "1                   Bayern    366   0  NaN  NaN  2020-03-11\n",
       "2                   Berlin     90   0  NaN  NaN  2020-03-11\n",
       "3              Brandenburg     24   0  NaN  NaN  2020-03-11\n",
       "4                   Bremen     21   0  NaN  NaN  2020-03-11\n",
       "5                  Hamburg     48   0  NaN  NaN  2020-03-11\n",
       "6                   Hessen     48   0  NaN  NaN  2020-03-11\n",
       "7   Mecklenburg-Vorpommern     17   0  NaN  NaN  2020-03-11\n",
       "8            Niedersachsen     75   0  NaN  NaN  2020-03-11\n",
       "9      Nordrhein-Westfalen    484   3  NaN  NaN  2020-03-11\n",
       "10         Rheinland-Pfalz     25   0  NaN  NaN  2020-03-11\n",
       "11                Saarland     14   0  NaN  NaN  2020-03-11\n",
       "12                 Sachsen     26   0  NaN  NaN  2020-03-11\n",
       "13          Sachsen-Anhalt     15      NaN  NaN  2020-03-11\n",
       "14      Schleswig-Holstein     27   0  NaN  NaN  2020-03-11\n",
       "15               Thüringen     10   0  NaN  NaN  2020-03-11\n",
       "16                  Gesamt  1.567   3  NaN  NaN  2020-03-11"
      ]
     },
     "execution_count": 403,
     "metadata": {},
     "output_type": "execute_result"
    }
   ],
   "source": [
    "df"
   ]
  },
  {
   "cell_type": "code",
   "execution_count": 404,
   "metadata": {
    "ExecuteTime": {
     "end_time": "2020-03-16T22:38:04.371268Z",
     "start_time": "2020-03-16T22:38:04.359974Z"
    }
   },
   "outputs": [],
   "source": [
    "df = df[df.bundesland != \"Repatriierte\"].copy()\n",
    "df.bundesland.replace(\"Schleswig Holstein\",\"Schleswig-Holstein\", inplace=True)\n",
    "\n",
    "lat2=[]\n",
    "long2=[]\n",
    "for elm in df.bundesland.values:\n",
    "    lat2.append(lat[elm])\n",
    "    long2.append(long[elm])"
   ]
  },
  {
   "cell_type": "code",
   "execution_count": 405,
   "metadata": {
    "ExecuteTime": {
     "end_time": "2020-03-16T22:38:04.686730Z",
     "start_time": "2020-03-16T22:38:04.681911Z"
    }
   },
   "outputs": [],
   "source": [
    "df[\"lat\"] = lat2\n",
    "df[\"long\"] = long2"
   ]
  },
  {
   "cell_type": "code",
   "execution_count": 406,
   "metadata": {
    "ExecuteTime": {
     "end_time": "2020-03-16T22:38:04.882923Z",
     "start_time": "2020-03-16T22:38:04.867365Z"
    }
   },
   "outputs": [
    {
     "data": {
      "text/html": [
       "<div>\n",
       "<style scoped>\n",
       "    .dataframe tbody tr th:only-of-type {\n",
       "        vertical-align: middle;\n",
       "    }\n",
       "\n",
       "    .dataframe tbody tr th {\n",
       "        vertical-align: top;\n",
       "    }\n",
       "\n",
       "    .dataframe thead th {\n",
       "        text-align: right;\n",
       "    }\n",
       "</style>\n",
       "<table border=\"1\" class=\"dataframe\">\n",
       "  <thead>\n",
       "    <tr style=\"text-align: right;\">\n",
       "      <th></th>\n",
       "      <th>bundesland</th>\n",
       "      <th>faelle</th>\n",
       "      <th>tod</th>\n",
       "      <th>lat</th>\n",
       "      <th>long</th>\n",
       "      <th>datum</th>\n",
       "    </tr>\n",
       "  </thead>\n",
       "  <tbody>\n",
       "    <tr>\n",
       "      <th>0</th>\n",
       "      <td>Baden-Württemberg</td>\n",
       "      <td>277</td>\n",
       "      <td>0</td>\n",
       "      <td>48.50</td>\n",
       "      <td>9.00</td>\n",
       "      <td>2020-03-11</td>\n",
       "    </tr>\n",
       "    <tr>\n",
       "      <th>1</th>\n",
       "      <td>Bayern</td>\n",
       "      <td>366</td>\n",
       "      <td>0</td>\n",
       "      <td>48.90</td>\n",
       "      <td>11.40</td>\n",
       "      <td>2020-03-11</td>\n",
       "    </tr>\n",
       "    <tr>\n",
       "      <th>2</th>\n",
       "      <td>Berlin</td>\n",
       "      <td>90</td>\n",
       "      <td>0</td>\n",
       "      <td>52.50</td>\n",
       "      <td>13.40</td>\n",
       "      <td>2020-03-11</td>\n",
       "    </tr>\n",
       "    <tr>\n",
       "      <th>3</th>\n",
       "      <td>Brandenburg</td>\n",
       "      <td>24</td>\n",
       "      <td>0</td>\n",
       "      <td>52.00</td>\n",
       "      <td>13.87</td>\n",
       "      <td>2020-03-11</td>\n",
       "    </tr>\n",
       "    <tr>\n",
       "      <th>4</th>\n",
       "      <td>Bremen</td>\n",
       "      <td>21</td>\n",
       "      <td>0</td>\n",
       "      <td>53.10</td>\n",
       "      <td>8.80</td>\n",
       "      <td>2020-03-11</td>\n",
       "    </tr>\n",
       "    <tr>\n",
       "      <th>5</th>\n",
       "      <td>Hamburg</td>\n",
       "      <td>48</td>\n",
       "      <td>0</td>\n",
       "      <td>53.50</td>\n",
       "      <td>10.00</td>\n",
       "      <td>2020-03-11</td>\n",
       "    </tr>\n",
       "    <tr>\n",
       "      <th>6</th>\n",
       "      <td>Hessen</td>\n",
       "      <td>48</td>\n",
       "      <td>0</td>\n",
       "      <td>50.70</td>\n",
       "      <td>9.00</td>\n",
       "      <td>2020-03-11</td>\n",
       "    </tr>\n",
       "    <tr>\n",
       "      <th>7</th>\n",
       "      <td>Mecklenburg-Vorpommern</td>\n",
       "      <td>17</td>\n",
       "      <td>0</td>\n",
       "      <td>53.80</td>\n",
       "      <td>12.50</td>\n",
       "      <td>2020-03-11</td>\n",
       "    </tr>\n",
       "    <tr>\n",
       "      <th>8</th>\n",
       "      <td>Niedersachsen</td>\n",
       "      <td>75</td>\n",
       "      <td>0</td>\n",
       "      <td>52.57</td>\n",
       "      <td>10.00</td>\n",
       "      <td>2020-03-11</td>\n",
       "    </tr>\n",
       "    <tr>\n",
       "      <th>9</th>\n",
       "      <td>Nordrhein-Westfalen</td>\n",
       "      <td>484</td>\n",
       "      <td>3</td>\n",
       "      <td>51.60</td>\n",
       "      <td>7.50</td>\n",
       "      <td>2020-03-11</td>\n",
       "    </tr>\n",
       "    <tr>\n",
       "      <th>10</th>\n",
       "      <td>Rheinland-Pfalz</td>\n",
       "      <td>25</td>\n",
       "      <td>0</td>\n",
       "      <td>50.00</td>\n",
       "      <td>7.30</td>\n",
       "      <td>2020-03-11</td>\n",
       "    </tr>\n",
       "    <tr>\n",
       "      <th>11</th>\n",
       "      <td>Saarland</td>\n",
       "      <td>14</td>\n",
       "      <td>0</td>\n",
       "      <td>49.40</td>\n",
       "      <td>6.97</td>\n",
       "      <td>2020-03-11</td>\n",
       "    </tr>\n",
       "    <tr>\n",
       "      <th>12</th>\n",
       "      <td>Sachsen</td>\n",
       "      <td>26</td>\n",
       "      <td>0</td>\n",
       "      <td>51.05</td>\n",
       "      <td>13.50</td>\n",
       "      <td>2020-03-11</td>\n",
       "    </tr>\n",
       "    <tr>\n",
       "      <th>13</th>\n",
       "      <td>Sachsen-Anhalt</td>\n",
       "      <td>15</td>\n",
       "      <td></td>\n",
       "      <td>52.00</td>\n",
       "      <td>11.65</td>\n",
       "      <td>2020-03-11</td>\n",
       "    </tr>\n",
       "    <tr>\n",
       "      <th>14</th>\n",
       "      <td>Schleswig-Holstein</td>\n",
       "      <td>27</td>\n",
       "      <td>0</td>\n",
       "      <td>54.20</td>\n",
       "      <td>9.90</td>\n",
       "      <td>2020-03-11</td>\n",
       "    </tr>\n",
       "    <tr>\n",
       "      <th>15</th>\n",
       "      <td>Thüringen</td>\n",
       "      <td>10</td>\n",
       "      <td>0</td>\n",
       "      <td>50.85</td>\n",
       "      <td>11.13</td>\n",
       "      <td>2020-03-11</td>\n",
       "    </tr>\n",
       "    <tr>\n",
       "      <th>16</th>\n",
       "      <td>Gesamt</td>\n",
       "      <td>1.567</td>\n",
       "      <td>3</td>\n",
       "      <td>51.06</td>\n",
       "      <td>10.00</td>\n",
       "      <td>2020-03-11</td>\n",
       "    </tr>\n",
       "  </tbody>\n",
       "</table>\n",
       "</div>"
      ],
      "text/plain": [
       "                bundesland faelle tod    lat   long       datum\n",
       "0        Baden-Württemberg    277   0  48.50   9.00  2020-03-11\n",
       "1                   Bayern    366   0  48.90  11.40  2020-03-11\n",
       "2                   Berlin     90   0  52.50  13.40  2020-03-11\n",
       "3              Brandenburg     24   0  52.00  13.87  2020-03-11\n",
       "4                   Bremen     21   0  53.10   8.80  2020-03-11\n",
       "5                  Hamburg     48   0  53.50  10.00  2020-03-11\n",
       "6                   Hessen     48   0  50.70   9.00  2020-03-11\n",
       "7   Mecklenburg-Vorpommern     17   0  53.80  12.50  2020-03-11\n",
       "8            Niedersachsen     75   0  52.57  10.00  2020-03-11\n",
       "9      Nordrhein-Westfalen    484   3  51.60   7.50  2020-03-11\n",
       "10         Rheinland-Pfalz     25   0  50.00   7.30  2020-03-11\n",
       "11                Saarland     14   0  49.40   6.97  2020-03-11\n",
       "12                 Sachsen     26   0  51.05  13.50  2020-03-11\n",
       "13          Sachsen-Anhalt     15      52.00  11.65  2020-03-11\n",
       "14      Schleswig-Holstein     27   0  54.20   9.90  2020-03-11\n",
       "15               Thüringen     10   0  50.85  11.13  2020-03-11\n",
       "16                  Gesamt  1.567   3  51.06  10.00  2020-03-11"
      ]
     },
     "execution_count": 406,
     "metadata": {},
     "output_type": "execute_result"
    }
   ],
   "source": [
    "df"
   ]
  },
  {
   "cell_type": "code",
   "execution_count": 407,
   "metadata": {
    "ExecuteTime": {
     "end_time": "2020-03-16T22:38:05.224095Z",
     "start_time": "2020-03-16T22:38:05.218662Z"
    }
   },
   "outputs": [],
   "source": [
    "df.tod = df.tod.replace(to_replace = \"\", value = \"0\", regex = True)"
   ]
  },
  {
   "cell_type": "code",
   "execution_count": 408,
   "metadata": {
    "ExecuteTime": {
     "end_time": "2020-03-16T22:38:05.866375Z",
     "start_time": "2020-03-16T22:38:05.860632Z"
    }
   },
   "outputs": [],
   "source": [
    "df.datum = pd.to_datetime(df.datum)"
   ]
  },
  {
   "cell_type": "code",
   "execution_count": 409,
   "metadata": {
    "ExecuteTime": {
     "end_time": "2020-03-16T22:38:06.242214Z",
     "start_time": "2020-03-16T22:38:06.231855Z"
    }
   },
   "outputs": [
    {
     "name": "stdout",
     "output_type": "stream",
     "text": [
      "<class 'pandas.core.frame.DataFrame'>\n",
      "Int64Index: 17 entries, 0 to 16\n",
      "Data columns (total 6 columns):\n",
      "bundesland    17 non-null object\n",
      "faelle        17 non-null object\n",
      "tod           17 non-null object\n",
      "lat           17 non-null float64\n",
      "long          17 non-null float64\n",
      "datum         17 non-null datetime64[ns]\n",
      "dtypes: datetime64[ns](1), float64(2), object(3)\n",
      "memory usage: 952.0+ bytes\n"
     ]
    }
   ],
   "source": [
    "df.info()"
   ]
  },
  {
   "cell_type": "code",
   "execution_count": 410,
   "metadata": {
    "ExecuteTime": {
     "end_time": "2020-03-16T22:38:07.613849Z",
     "start_time": "2020-03-16T22:38:06.671674Z"
    }
   },
   "outputs": [
    {
     "name": "stderr",
     "output_type": "stream",
     "text": [
      "/Users/karstenyan/opt/anaconda3/envs/nf/lib/python3.6/site-packages/ipykernel_launcher.py:2: SettingWithCopyWarning: \n",
      "A value is trying to be set on a copy of a slice from a DataFrame\n",
      "\n",
      "See the caveats in the documentation: http://pandas.pydata.org/pandas-docs/stable/indexing.html#indexing-view-versus-copy\n",
      "  \n"
     ]
    }
   ],
   "source": [
    "for idx,elm in enumerate(df.faelle):\n",
    "    df.faelle[idx] = elm.replace(\".\",\"\")\n",
    "\n",
    "#for idx,elm in enumerate(df.tod):\n",
    "    #df.tod[idx] = elm.replace(\".\",\"\")"
   ]
  },
  {
   "cell_type": "code",
   "execution_count": 411,
   "metadata": {
    "ExecuteTime": {
     "end_time": "2020-03-16T22:38:07.706604Z",
     "start_time": "2020-03-16T22:38:07.702184Z"
    }
   },
   "outputs": [],
   "source": [
    "#df.lat = df.lat.astype(\"float\")\n",
    "#df.long = df.long.astype(\"float\")\n",
    "df.tod = df.tod.astype(\"int64\")\n",
    "df.faelle = df.faelle.astype(\"int64\")"
   ]
  },
  {
   "cell_type": "code",
   "execution_count": 412,
   "metadata": {
    "ExecuteTime": {
     "end_time": "2020-03-16T22:38:07.799117Z",
     "start_time": "2020-03-16T22:38:07.796261Z"
    }
   },
   "outputs": [],
   "source": [
    "#df=pd.concat([df_old,df]).reset_index().drop(\"index\",axis=1)"
   ]
  },
  {
   "cell_type": "code",
   "execution_count": 413,
   "metadata": {
    "ExecuteTime": {
     "end_time": "2020-03-16T22:38:08.579842Z",
     "start_time": "2020-03-16T22:38:08.569462Z"
    }
   },
   "outputs": [
    {
     "name": "stdout",
     "output_type": "stream",
     "text": [
      "<class 'pandas.core.frame.DataFrame'>\n",
      "Int64Index: 17 entries, 0 to 16\n",
      "Data columns (total 6 columns):\n",
      "bundesland    17 non-null object\n",
      "faelle        17 non-null int64\n",
      "tod           17 non-null int64\n",
      "lat           17 non-null float64\n",
      "long          17 non-null float64\n",
      "datum         17 non-null datetime64[ns]\n",
      "dtypes: datetime64[ns](1), float64(2), int64(2), object(1)\n",
      "memory usage: 1.6+ KB\n"
     ]
    }
   ],
   "source": [
    "df.info()"
   ]
  },
  {
   "cell_type": "code",
   "execution_count": 414,
   "metadata": {
    "ExecuteTime": {
     "end_time": "2020-03-16T22:38:09.099907Z",
     "start_time": "2020-03-16T22:38:09.084392Z"
    }
   },
   "outputs": [
    {
     "data": {
      "text/html": [
       "<div>\n",
       "<style scoped>\n",
       "    .dataframe tbody tr th:only-of-type {\n",
       "        vertical-align: middle;\n",
       "    }\n",
       "\n",
       "    .dataframe tbody tr th {\n",
       "        vertical-align: top;\n",
       "    }\n",
       "\n",
       "    .dataframe thead th {\n",
       "        text-align: right;\n",
       "    }\n",
       "</style>\n",
       "<table border=\"1\" class=\"dataframe\">\n",
       "  <thead>\n",
       "    <tr style=\"text-align: right;\">\n",
       "      <th></th>\n",
       "      <th>bundesland</th>\n",
       "      <th>faelle</th>\n",
       "      <th>tod</th>\n",
       "      <th>lat</th>\n",
       "      <th>long</th>\n",
       "      <th>datum</th>\n",
       "    </tr>\n",
       "  </thead>\n",
       "  <tbody>\n",
       "    <tr>\n",
       "      <th>0</th>\n",
       "      <td>Baden-Württemberg</td>\n",
       "      <td>277</td>\n",
       "      <td>0</td>\n",
       "      <td>48.50</td>\n",
       "      <td>9.00</td>\n",
       "      <td>2020-03-11</td>\n",
       "    </tr>\n",
       "    <tr>\n",
       "      <th>1</th>\n",
       "      <td>Bayern</td>\n",
       "      <td>366</td>\n",
       "      <td>0</td>\n",
       "      <td>48.90</td>\n",
       "      <td>11.40</td>\n",
       "      <td>2020-03-11</td>\n",
       "    </tr>\n",
       "    <tr>\n",
       "      <th>2</th>\n",
       "      <td>Berlin</td>\n",
       "      <td>90</td>\n",
       "      <td>0</td>\n",
       "      <td>52.50</td>\n",
       "      <td>13.40</td>\n",
       "      <td>2020-03-11</td>\n",
       "    </tr>\n",
       "    <tr>\n",
       "      <th>3</th>\n",
       "      <td>Brandenburg</td>\n",
       "      <td>24</td>\n",
       "      <td>0</td>\n",
       "      <td>52.00</td>\n",
       "      <td>13.87</td>\n",
       "      <td>2020-03-11</td>\n",
       "    </tr>\n",
       "    <tr>\n",
       "      <th>4</th>\n",
       "      <td>Bremen</td>\n",
       "      <td>21</td>\n",
       "      <td>0</td>\n",
       "      <td>53.10</td>\n",
       "      <td>8.80</td>\n",
       "      <td>2020-03-11</td>\n",
       "    </tr>\n",
       "    <tr>\n",
       "      <th>5</th>\n",
       "      <td>Hamburg</td>\n",
       "      <td>48</td>\n",
       "      <td>0</td>\n",
       "      <td>53.50</td>\n",
       "      <td>10.00</td>\n",
       "      <td>2020-03-11</td>\n",
       "    </tr>\n",
       "    <tr>\n",
       "      <th>6</th>\n",
       "      <td>Hessen</td>\n",
       "      <td>48</td>\n",
       "      <td>0</td>\n",
       "      <td>50.70</td>\n",
       "      <td>9.00</td>\n",
       "      <td>2020-03-11</td>\n",
       "    </tr>\n",
       "    <tr>\n",
       "      <th>7</th>\n",
       "      <td>Mecklenburg-Vorpommern</td>\n",
       "      <td>17</td>\n",
       "      <td>0</td>\n",
       "      <td>53.80</td>\n",
       "      <td>12.50</td>\n",
       "      <td>2020-03-11</td>\n",
       "    </tr>\n",
       "    <tr>\n",
       "      <th>8</th>\n",
       "      <td>Niedersachsen</td>\n",
       "      <td>75</td>\n",
       "      <td>0</td>\n",
       "      <td>52.57</td>\n",
       "      <td>10.00</td>\n",
       "      <td>2020-03-11</td>\n",
       "    </tr>\n",
       "    <tr>\n",
       "      <th>9</th>\n",
       "      <td>Nordrhein-Westfalen</td>\n",
       "      <td>484</td>\n",
       "      <td>3</td>\n",
       "      <td>51.60</td>\n",
       "      <td>7.50</td>\n",
       "      <td>2020-03-11</td>\n",
       "    </tr>\n",
       "    <tr>\n",
       "      <th>10</th>\n",
       "      <td>Rheinland-Pfalz</td>\n",
       "      <td>25</td>\n",
       "      <td>0</td>\n",
       "      <td>50.00</td>\n",
       "      <td>7.30</td>\n",
       "      <td>2020-03-11</td>\n",
       "    </tr>\n",
       "    <tr>\n",
       "      <th>11</th>\n",
       "      <td>Saarland</td>\n",
       "      <td>14</td>\n",
       "      <td>0</td>\n",
       "      <td>49.40</td>\n",
       "      <td>6.97</td>\n",
       "      <td>2020-03-11</td>\n",
       "    </tr>\n",
       "    <tr>\n",
       "      <th>12</th>\n",
       "      <td>Sachsen</td>\n",
       "      <td>26</td>\n",
       "      <td>0</td>\n",
       "      <td>51.05</td>\n",
       "      <td>13.50</td>\n",
       "      <td>2020-03-11</td>\n",
       "    </tr>\n",
       "    <tr>\n",
       "      <th>13</th>\n",
       "      <td>Sachsen-Anhalt</td>\n",
       "      <td>15</td>\n",
       "      <td>0</td>\n",
       "      <td>52.00</td>\n",
       "      <td>11.65</td>\n",
       "      <td>2020-03-11</td>\n",
       "    </tr>\n",
       "    <tr>\n",
       "      <th>14</th>\n",
       "      <td>Schleswig-Holstein</td>\n",
       "      <td>27</td>\n",
       "      <td>0</td>\n",
       "      <td>54.20</td>\n",
       "      <td>9.90</td>\n",
       "      <td>2020-03-11</td>\n",
       "    </tr>\n",
       "    <tr>\n",
       "      <th>15</th>\n",
       "      <td>Thüringen</td>\n",
       "      <td>10</td>\n",
       "      <td>0</td>\n",
       "      <td>50.85</td>\n",
       "      <td>11.13</td>\n",
       "      <td>2020-03-11</td>\n",
       "    </tr>\n",
       "    <tr>\n",
       "      <th>16</th>\n",
       "      <td>Gesamt</td>\n",
       "      <td>1567</td>\n",
       "      <td>3</td>\n",
       "      <td>51.06</td>\n",
       "      <td>10.00</td>\n",
       "      <td>2020-03-11</td>\n",
       "    </tr>\n",
       "  </tbody>\n",
       "</table>\n",
       "</div>"
      ],
      "text/plain": [
       "                bundesland  faelle  tod    lat   long      datum\n",
       "0        Baden-Württemberg     277    0  48.50   9.00 2020-03-11\n",
       "1                   Bayern     366    0  48.90  11.40 2020-03-11\n",
       "2                   Berlin      90    0  52.50  13.40 2020-03-11\n",
       "3              Brandenburg      24    0  52.00  13.87 2020-03-11\n",
       "4                   Bremen      21    0  53.10   8.80 2020-03-11\n",
       "5                  Hamburg      48    0  53.50  10.00 2020-03-11\n",
       "6                   Hessen      48    0  50.70   9.00 2020-03-11\n",
       "7   Mecklenburg-Vorpommern      17    0  53.80  12.50 2020-03-11\n",
       "8            Niedersachsen      75    0  52.57  10.00 2020-03-11\n",
       "9      Nordrhein-Westfalen     484    3  51.60   7.50 2020-03-11\n",
       "10         Rheinland-Pfalz      25    0  50.00   7.30 2020-03-11\n",
       "11                Saarland      14    0  49.40   6.97 2020-03-11\n",
       "12                 Sachsen      26    0  51.05  13.50 2020-03-11\n",
       "13          Sachsen-Anhalt      15    0  52.00  11.65 2020-03-11\n",
       "14      Schleswig-Holstein      27    0  54.20   9.90 2020-03-11\n",
       "15               Thüringen      10    0  50.85  11.13 2020-03-11\n",
       "16                  Gesamt    1567    3  51.06  10.00 2020-03-11"
      ]
     },
     "execution_count": 414,
     "metadata": {},
     "output_type": "execute_result"
    }
   ],
   "source": [
    "df"
   ]
  },
  {
   "cell_type": "code",
   "execution_count": 415,
   "metadata": {
    "ExecuteTime": {
     "end_time": "2020-03-16T22:38:12.559264Z",
     "start_time": "2020-03-16T22:38:12.552824Z"
    }
   },
   "outputs": [],
   "source": [
    "df.to_csv ('old_data/brd_covid_19'+str(today)+\".csv\", index = False, header=True)"
   ]
  },
  {
   "cell_type": "code",
   "execution_count": 141,
   "metadata": {
    "ExecuteTime": {
     "end_time": "2020-03-13T06:05:23.481601Z",
     "start_time": "2020-03-13T06:05:23.474309Z"
    }
   },
   "outputs": [],
   "source": [
    "#df.to_csv ('brd_covid_19.csv', index = False, header=True)"
   ]
  },
  {
   "cell_type": "code",
   "execution_count": null,
   "metadata": {},
   "outputs": [],
   "source": []
  }
 ],
 "metadata": {
  "kernelspec": {
   "display_name": "Python 3",
   "language": "python",
   "name": "python3"
  },
  "language_info": {
   "codemirror_mode": {
    "name": "ipython",
    "version": 3
   },
   "file_extension": ".py",
   "mimetype": "text/x-python",
   "name": "python",
   "nbconvert_exporter": "python",
   "pygments_lexer": "ipython3",
   "version": "3.7.6"
  },
  "toc": {
   "base_numbering": 1,
   "nav_menu": {},
   "number_sections": true,
   "sideBar": true,
   "skip_h1_title": false,
   "title_cell": "Table of Contents",
   "title_sidebar": "Contents",
   "toc_cell": false,
   "toc_position": {},
   "toc_section_display": true,
   "toc_window_display": false
  },
  "varInspector": {
   "cols": {
    "lenName": 16,
    "lenType": 16,
    "lenVar": 40
   },
   "kernels_config": {
    "python": {
     "delete_cmd_postfix": "",
     "delete_cmd_prefix": "del ",
     "library": "var_list.py",
     "varRefreshCmd": "print(var_dic_list())"
    },
    "r": {
     "delete_cmd_postfix": ") ",
     "delete_cmd_prefix": "rm(",
     "library": "var_list.r",
     "varRefreshCmd": "cat(var_dic_list()) "
    }
   },
   "types_to_exclude": [
    "module",
    "function",
    "builtin_function_or_method",
    "instance",
    "_Feature"
   ],
   "window_display": false
  }
 },
 "nbformat": 4,
 "nbformat_minor": 4
}
