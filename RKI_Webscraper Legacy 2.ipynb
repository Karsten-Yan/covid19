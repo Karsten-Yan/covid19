{
 "cells": [
  {
   "cell_type": "code",
   "execution_count": 4,
   "metadata": {
    "ExecuteTime": {
     "end_time": "2020-03-16T22:41:33.127732Z",
     "start_time": "2020-03-16T22:41:32.467798Z"
    }
   },
   "outputs": [],
   "source": [
    "import requests\n",
    "import pandas as pd\n",
    "import re\n",
    "from bs4 import BeautifulSoup\n",
    "from datetime import date"
   ]
  },
  {
   "cell_type": "code",
   "execution_count": 109,
   "metadata": {
    "ExecuteTime": {
     "end_time": "2020-03-16T22:49:32.727881Z",
     "start_time": "2020-03-16T22:49:32.724782Z"
    }
   },
   "outputs": [],
   "source": [
    "today = \"2020-03-16\""
   ]
  },
  {
   "cell_type": "code",
   "execution_count": 110,
   "metadata": {
    "ExecuteTime": {
     "end_time": "2020-03-16T22:49:33.032503Z",
     "start_time": "2020-03-16T22:49:33.027529Z"
    }
   },
   "outputs": [],
   "source": [
    "URL = \"https://web.archive.org/web/20200316221106/https://www.rki.de/DE/Content/InfAZ/N/Neuartiges_Coronavirus/Fallzahlen.html\"\n"
   ]
  },
  {
   "cell_type": "code",
   "execution_count": 111,
   "metadata": {
    "ExecuteTime": {
     "end_time": "2020-03-16T22:49:35.659750Z",
     "start_time": "2020-03-16T22:49:33.295905Z"
    }
   },
   "outputs": [],
   "source": [
    "page = requests.get(URL)"
   ]
  },
  {
   "cell_type": "code",
   "execution_count": 112,
   "metadata": {
    "ExecuteTime": {
     "end_time": "2020-03-16T22:49:35.809856Z",
     "start_time": "2020-03-16T22:49:35.755795Z"
    }
   },
   "outputs": [],
   "source": [
    "soup = BeautifulSoup(page.content, 'html.parser')"
   ]
  },
  {
   "cell_type": "code",
   "execution_count": 113,
   "metadata": {
    "ExecuteTime": {
     "end_time": "2020-03-16T22:49:35.909671Z",
     "start_time": "2020-03-16T22:49:35.905315Z"
    }
   },
   "outputs": [],
   "source": [
    "results = soup.find_all(\"tr\")"
   ]
  },
  {
   "cell_type": "code",
   "execution_count": 115,
   "metadata": {
    "ExecuteTime": {
     "end_time": "2020-03-16T22:49:40.275732Z",
     "start_time": "2020-03-16T22:49:40.269245Z"
    }
   },
   "outputs": [
    {
     "data": {
      "text/plain": [
       "<tr class=\"even\"><td colspan=\"1\" rowspan=\"1\">Baden-Württemberg</td><td class=\"center\" colspan=\"1\" rowspan=\"1\">1.105 (3)</td><td class=\"center\" colspan=\"1\" rowspan=\"1\">1.062 (3)</td><td colspan=\"1\" rowspan=\"1\"></td></tr>"
      ]
     },
     "execution_count": 115,
     "metadata": {},
     "output_type": "execute_result"
    }
   ],
   "source": [
    "results[1]"
   ]
  },
  {
   "cell_type": "code",
   "execution_count": 116,
   "metadata": {
    "ExecuteTime": {
     "end_time": "2020-03-16T22:49:45.630426Z",
     "start_time": "2020-03-16T22:49:45.618408Z"
    }
   },
   "outputs": [],
   "source": [
    "bundesland = []\n",
    "faelle = []\n",
    "tod = []\n",
    "for idx,elm in enumerate(results):\n",
    "    if idx > 0:\n",
    "        bundesland.append(re.sub('<[^<]+?>', '', str(elm.find_all(\"td\")[0])))\n",
    "        faelle.append(re.sub('<[^<]+?>', '', str(elm.find_all(\"td\")[1])).split()[0])\n",
    "        if len(re.sub('<[^<]+?>', '', str(elm.find_all(\"td\")[1])).split()) > 1:\n",
    "            tod.append(re.sub('<[^<]+?>', '', str(elm.find_all(\"td\")[1])).split()[1].strip(\"(\").strip(\")\"))\n",
    "        else:\n",
    "            tod.append(\"0\")\n",
    "    else:\n",
    "        pass"
   ]
  },
  {
   "cell_type": "code",
   "execution_count": 117,
   "metadata": {
    "ExecuteTime": {
     "end_time": "2020-03-16T22:49:46.953741Z",
     "start_time": "2020-03-16T22:49:46.946373Z"
    }
   },
   "outputs": [
    {
     "data": {
      "text/plain": [
       "['1.105',\n",
       " '1.067',\n",
       " '300',\n",
       " '94',\n",
       " '56',\n",
       " '260',\n",
       " '342',\n",
       " '51',\n",
       " '391',\n",
       " '1.541',\n",
       " '325',\n",
       " '85',\n",
       " '140',\n",
       " '77',\n",
       " '123',\n",
       " '55',\n",
       " '6.012']"
      ]
     },
     "execution_count": 117,
     "metadata": {},
     "output_type": "execute_result"
    }
   ],
   "source": [
    "faelle"
   ]
  },
  {
   "cell_type": "code",
   "execution_count": 118,
   "metadata": {
    "ExecuteTime": {
     "end_time": "2020-03-16T22:49:48.944169Z",
     "start_time": "2020-03-16T22:49:48.937140Z"
    }
   },
   "outputs": [],
   "source": [
    "lat={\"Baden-Württemberg\":48.5, \"Bayern\":48.9, \"Berlin\":52.5, \"Brandenburg\":52, \"Bremen\":53.1, \"Hamburg\":53.5, \n",
    "     \"Hessen\":50.7, \"Mecklenburg-Vorpommern\":53.8, \"Niedersachsen\":52.57, \"Nordrhein-Westfalen\":51.6,\"Rheinland-Pfalz\":50, \n",
    "     \"Saarland\":49.4, \"Sachsen\":51.05, \"Sachsen-Anhalt\":52, \"Schleswig-Holstein\":54.2, \"Thüringen\":50.85, \"Gesamt\":51.06}\n",
    "long={\"Baden-Württemberg\":9, \"Bayern\":11.4, \"Berlin\":13.4, \"Brandenburg\":13.87, \"Bremen\":8.8, \"Hamburg\":10, \n",
    "      \"Hessen\":9, \"Mecklenburg-Vorpommern\":12.5,\"Niedersachsen\":10, \"Nordrhein-Westfalen\":7.5,\"Rheinland-Pfalz\":7.3,\n",
    "      \"Saarland\":6.97,\"Sachsen\":13.5, \"Sachsen-Anhalt\":11.65,\"Schleswig-Holstein\":9.9, \"Thüringen\":11.13,\"Gesamt\":10}\n"
   ]
  },
  {
   "cell_type": "code",
   "execution_count": 119,
   "metadata": {
    "ExecuteTime": {
     "end_time": "2020-03-16T22:49:49.315899Z",
     "start_time": "2020-03-16T22:49:49.310156Z"
    }
   },
   "outputs": [],
   "source": [
    "df=pd.DataFrame(data=[bundesland,faelle,tod]).T\n",
    "    "
   ]
  },
  {
   "cell_type": "code",
   "execution_count": 120,
   "metadata": {
    "ExecuteTime": {
     "end_time": "2020-03-16T22:49:49.730294Z",
     "start_time": "2020-03-16T22:49:49.724114Z"
    }
   },
   "outputs": [],
   "source": [
    "df[\"lat\"]=\"NaN\"\n",
    "df[\"long\"]=\"NaN\"\n",
    "df[\"date\"] = today"
   ]
  },
  {
   "cell_type": "code",
   "execution_count": 121,
   "metadata": {
    "ExecuteTime": {
     "end_time": "2020-03-16T22:49:49.913776Z",
     "start_time": "2020-03-16T22:49:49.909001Z"
    }
   },
   "outputs": [],
   "source": [
    "df.columns = [\"bundesland\",\"faelle\",\"tod\",\"lat\",\"long\",\"datum\"]"
   ]
  },
  {
   "cell_type": "code",
   "execution_count": 122,
   "metadata": {
    "ExecuteTime": {
     "end_time": "2020-03-16T22:49:50.065184Z",
     "start_time": "2020-03-16T22:49:50.059681Z"
    }
   },
   "outputs": [],
   "source": [
    "df.tod = df.tod.replace(to_replace = \"\", value = \"0\", regex = True)"
   ]
  },
  {
   "cell_type": "code",
   "execution_count": 123,
   "metadata": {
    "ExecuteTime": {
     "end_time": "2020-03-16T22:49:50.232408Z",
     "start_time": "2020-03-16T22:49:50.227171Z"
    }
   },
   "outputs": [],
   "source": [
    "df.datum = pd.to_datetime(df.datum)"
   ]
  },
  {
   "cell_type": "code",
   "execution_count": 124,
   "metadata": {
    "ExecuteTime": {
     "end_time": "2020-03-16T22:49:50.433135Z",
     "start_time": "2020-03-16T22:49:50.426048Z"
    }
   },
   "outputs": [],
   "source": [
    "df.bundesland.replace(\"Schleswig Holstein\",\"Schleswig-Holstein\", inplace=True)\n",
    "lat2=[]\n",
    "long2=[]\n",
    "for elm in df.bundesland.values:\n",
    "    lat2.append(lat[elm])\n",
    "    long2.append(long[elm])"
   ]
  },
  {
   "cell_type": "code",
   "execution_count": 125,
   "metadata": {
    "ExecuteTime": {
     "end_time": "2020-03-16T22:49:51.242424Z",
     "start_time": "2020-03-16T22:49:51.236391Z"
    }
   },
   "outputs": [],
   "source": [
    "df[\"lat\"] = lat2\n",
    "df[\"long\"] = long2"
   ]
  },
  {
   "cell_type": "code",
   "execution_count": 126,
   "metadata": {
    "ExecuteTime": {
     "end_time": "2020-03-16T22:49:51.602797Z",
     "start_time": "2020-03-16T22:49:51.585577Z"
    }
   },
   "outputs": [
    {
     "data": {
      "text/html": [
       "<div>\n",
       "<style scoped>\n",
       "    .dataframe tbody tr th:only-of-type {\n",
       "        vertical-align: middle;\n",
       "    }\n",
       "\n",
       "    .dataframe tbody tr th {\n",
       "        vertical-align: top;\n",
       "    }\n",
       "\n",
       "    .dataframe thead th {\n",
       "        text-align: right;\n",
       "    }\n",
       "</style>\n",
       "<table border=\"1\" class=\"dataframe\">\n",
       "  <thead>\n",
       "    <tr style=\"text-align: right;\">\n",
       "      <th></th>\n",
       "      <th>bundesland</th>\n",
       "      <th>faelle</th>\n",
       "      <th>tod</th>\n",
       "      <th>lat</th>\n",
       "      <th>long</th>\n",
       "      <th>datum</th>\n",
       "    </tr>\n",
       "  </thead>\n",
       "  <tbody>\n",
       "    <tr>\n",
       "      <th>0</th>\n",
       "      <td>Baden-Württemberg</td>\n",
       "      <td>1.105</td>\n",
       "      <td>3</td>\n",
       "      <td>48.50</td>\n",
       "      <td>9.00</td>\n",
       "      <td>2020-03-16</td>\n",
       "    </tr>\n",
       "    <tr>\n",
       "      <th>1</th>\n",
       "      <td>Bayern</td>\n",
       "      <td>1.067</td>\n",
       "      <td>5</td>\n",
       "      <td>48.90</td>\n",
       "      <td>11.40</td>\n",
       "      <td>2020-03-16</td>\n",
       "    </tr>\n",
       "    <tr>\n",
       "      <th>2</th>\n",
       "      <td>Berlin</td>\n",
       "      <td>300</td>\n",
       "      <td>0</td>\n",
       "      <td>52.50</td>\n",
       "      <td>13.40</td>\n",
       "      <td>2020-03-16</td>\n",
       "    </tr>\n",
       "    <tr>\n",
       "      <th>3</th>\n",
       "      <td>Brandenburg</td>\n",
       "      <td>94</td>\n",
       "      <td>0</td>\n",
       "      <td>52.00</td>\n",
       "      <td>13.87</td>\n",
       "      <td>2020-03-16</td>\n",
       "    </tr>\n",
       "    <tr>\n",
       "      <th>4</th>\n",
       "      <td>Bremen</td>\n",
       "      <td>56</td>\n",
       "      <td>0</td>\n",
       "      <td>53.10</td>\n",
       "      <td>8.80</td>\n",
       "      <td>2020-03-16</td>\n",
       "    </tr>\n",
       "    <tr>\n",
       "      <th>5</th>\n",
       "      <td>Hamburg</td>\n",
       "      <td>260</td>\n",
       "      <td>0</td>\n",
       "      <td>53.50</td>\n",
       "      <td>10.00</td>\n",
       "      <td>2020-03-16</td>\n",
       "    </tr>\n",
       "    <tr>\n",
       "      <th>6</th>\n",
       "      <td>Hessen</td>\n",
       "      <td>342</td>\n",
       "      <td>0</td>\n",
       "      <td>50.70</td>\n",
       "      <td>9.00</td>\n",
       "      <td>2020-03-16</td>\n",
       "    </tr>\n",
       "    <tr>\n",
       "      <th>7</th>\n",
       "      <td>Mecklenburg-Vorpommern</td>\n",
       "      <td>51</td>\n",
       "      <td>0</td>\n",
       "      <td>53.80</td>\n",
       "      <td>12.50</td>\n",
       "      <td>2020-03-16</td>\n",
       "    </tr>\n",
       "    <tr>\n",
       "      <th>8</th>\n",
       "      <td>Niedersachsen</td>\n",
       "      <td>391</td>\n",
       "      <td>0</td>\n",
       "      <td>52.57</td>\n",
       "      <td>10.00</td>\n",
       "      <td>2020-03-16</td>\n",
       "    </tr>\n",
       "    <tr>\n",
       "      <th>9</th>\n",
       "      <td>Nordrhein-Westfalen</td>\n",
       "      <td>1.541</td>\n",
       "      <td>5</td>\n",
       "      <td>51.60</td>\n",
       "      <td>7.50</td>\n",
       "      <td>2020-03-16</td>\n",
       "    </tr>\n",
       "    <tr>\n",
       "      <th>10</th>\n",
       "      <td>Rheinland-Pfalz</td>\n",
       "      <td>325</td>\n",
       "      <td>0</td>\n",
       "      <td>50.00</td>\n",
       "      <td>7.30</td>\n",
       "      <td>2020-03-16</td>\n",
       "    </tr>\n",
       "    <tr>\n",
       "      <th>11</th>\n",
       "      <td>Saarland</td>\n",
       "      <td>85</td>\n",
       "      <td>0</td>\n",
       "      <td>49.40</td>\n",
       "      <td>6.97</td>\n",
       "      <td>2020-03-16</td>\n",
       "    </tr>\n",
       "    <tr>\n",
       "      <th>12</th>\n",
       "      <td>Sachsen</td>\n",
       "      <td>140</td>\n",
       "      <td>0</td>\n",
       "      <td>51.05</td>\n",
       "      <td>13.50</td>\n",
       "      <td>2020-03-16</td>\n",
       "    </tr>\n",
       "    <tr>\n",
       "      <th>13</th>\n",
       "      <td>Sachsen-Anhalt</td>\n",
       "      <td>77</td>\n",
       "      <td>0</td>\n",
       "      <td>52.00</td>\n",
       "      <td>11.65</td>\n",
       "      <td>2020-03-16</td>\n",
       "    </tr>\n",
       "    <tr>\n",
       "      <th>14</th>\n",
       "      <td>Schleswig-Holstein</td>\n",
       "      <td>123</td>\n",
       "      <td>0</td>\n",
       "      <td>54.20</td>\n",
       "      <td>9.90</td>\n",
       "      <td>2020-03-16</td>\n",
       "    </tr>\n",
       "    <tr>\n",
       "      <th>15</th>\n",
       "      <td>Thüringen</td>\n",
       "      <td>55</td>\n",
       "      <td>0</td>\n",
       "      <td>50.85</td>\n",
       "      <td>11.13</td>\n",
       "      <td>2020-03-16</td>\n",
       "    </tr>\n",
       "    <tr>\n",
       "      <th>16</th>\n",
       "      <td>Gesamt</td>\n",
       "      <td>6.012</td>\n",
       "      <td>13</td>\n",
       "      <td>51.06</td>\n",
       "      <td>10.00</td>\n",
       "      <td>2020-03-16</td>\n",
       "    </tr>\n",
       "  </tbody>\n",
       "</table>\n",
       "</div>"
      ],
      "text/plain": [
       "                bundesland faelle tod    lat   long      datum\n",
       "0        Baden-Württemberg  1.105   3  48.50   9.00 2020-03-16\n",
       "1                   Bayern  1.067   5  48.90  11.40 2020-03-16\n",
       "2                   Berlin    300   0  52.50  13.40 2020-03-16\n",
       "3              Brandenburg     94   0  52.00  13.87 2020-03-16\n",
       "4                   Bremen     56   0  53.10   8.80 2020-03-16\n",
       "5                  Hamburg    260   0  53.50  10.00 2020-03-16\n",
       "6                   Hessen    342   0  50.70   9.00 2020-03-16\n",
       "7   Mecklenburg-Vorpommern     51   0  53.80  12.50 2020-03-16\n",
       "8            Niedersachsen    391   0  52.57  10.00 2020-03-16\n",
       "9      Nordrhein-Westfalen  1.541   5  51.60   7.50 2020-03-16\n",
       "10         Rheinland-Pfalz    325   0  50.00   7.30 2020-03-16\n",
       "11                Saarland     85   0  49.40   6.97 2020-03-16\n",
       "12                 Sachsen    140   0  51.05  13.50 2020-03-16\n",
       "13          Sachsen-Anhalt     77   0  52.00  11.65 2020-03-16\n",
       "14      Schleswig-Holstein    123   0  54.20   9.90 2020-03-16\n",
       "15               Thüringen     55   0  50.85  11.13 2020-03-16\n",
       "16                  Gesamt  6.012  13  51.06  10.00 2020-03-16"
      ]
     },
     "execution_count": 126,
     "metadata": {},
     "output_type": "execute_result"
    }
   ],
   "source": [
    "df"
   ]
  },
  {
   "cell_type": "code",
   "execution_count": 127,
   "metadata": {
    "ExecuteTime": {
     "end_time": "2020-03-16T22:49:53.063715Z",
     "start_time": "2020-03-16T22:49:52.012814Z"
    }
   },
   "outputs": [
    {
     "name": "stderr",
     "output_type": "stream",
     "text": [
      "/Users/karstenyan/opt/anaconda3/envs/nf/lib/python3.6/site-packages/ipykernel_launcher.py:2: SettingWithCopyWarning: \n",
      "A value is trying to be set on a copy of a slice from a DataFrame\n",
      "\n",
      "See the caveats in the documentation: http://pandas.pydata.org/pandas-docs/stable/indexing.html#indexing-view-versus-copy\n",
      "  \n",
      "/Users/karstenyan/opt/anaconda3/envs/nf/lib/python3.6/site-packages/ipykernel_launcher.py:5: SettingWithCopyWarning: \n",
      "A value is trying to be set on a copy of a slice from a DataFrame\n",
      "\n",
      "See the caveats in the documentation: http://pandas.pydata.org/pandas-docs/stable/indexing.html#indexing-view-versus-copy\n",
      "  \"\"\"\n"
     ]
    }
   ],
   "source": [
    "for idx,elm in enumerate(df.faelle):\n",
    "    df.faelle[idx] = elm.replace(\".\",\"\")\n",
    "\n",
    "for idx,elm in enumerate(df.tod):\n",
    "    df.tod[idx] = elm.replace(\".\",\"\")"
   ]
  },
  {
   "cell_type": "code",
   "execution_count": 128,
   "metadata": {
    "ExecuteTime": {
     "end_time": "2020-03-16T22:49:54.082507Z",
     "start_time": "2020-03-16T22:49:54.073469Z"
    }
   },
   "outputs": [
    {
     "name": "stdout",
     "output_type": "stream",
     "text": [
      "<class 'pandas.core.frame.DataFrame'>\n",
      "RangeIndex: 17 entries, 0 to 16\n",
      "Data columns (total 6 columns):\n",
      "bundesland    17 non-null object\n",
      "faelle        17 non-null object\n",
      "tod           17 non-null object\n",
      "lat           17 non-null float64\n",
      "long          17 non-null float64\n",
      "datum         17 non-null datetime64[ns]\n",
      "dtypes: datetime64[ns](1), float64(2), object(3)\n",
      "memory usage: 896.0+ bytes\n"
     ]
    }
   ],
   "source": [
    "df.info()"
   ]
  },
  {
   "cell_type": "code",
   "execution_count": 129,
   "metadata": {
    "ExecuteTime": {
     "end_time": "2020-03-16T22:49:56.460709Z",
     "start_time": "2020-03-16T22:49:56.455334Z"
    }
   },
   "outputs": [],
   "source": [
    "#df.lat = df.lat.astype(\"float\")\n",
    "#df.long = df.long.astype(\"float\")\n",
    "df.tod = df.tod.astype(\"int64\")\n",
    "df.faelle = df.faelle.astype(\"int64\")"
   ]
  },
  {
   "cell_type": "code",
   "execution_count": 130,
   "metadata": {
    "ExecuteTime": {
     "end_time": "2020-03-16T22:49:57.223888Z",
     "start_time": "2020-03-16T22:49:57.206991Z"
    }
   },
   "outputs": [
    {
     "data": {
      "text/html": [
       "<div>\n",
       "<style scoped>\n",
       "    .dataframe tbody tr th:only-of-type {\n",
       "        vertical-align: middle;\n",
       "    }\n",
       "\n",
       "    .dataframe tbody tr th {\n",
       "        vertical-align: top;\n",
       "    }\n",
       "\n",
       "    .dataframe thead th {\n",
       "        text-align: right;\n",
       "    }\n",
       "</style>\n",
       "<table border=\"1\" class=\"dataframe\">\n",
       "  <thead>\n",
       "    <tr style=\"text-align: right;\">\n",
       "      <th></th>\n",
       "      <th>bundesland</th>\n",
       "      <th>faelle</th>\n",
       "      <th>tod</th>\n",
       "      <th>lat</th>\n",
       "      <th>long</th>\n",
       "      <th>datum</th>\n",
       "    </tr>\n",
       "  </thead>\n",
       "  <tbody>\n",
       "    <tr>\n",
       "      <th>0</th>\n",
       "      <td>Baden-Württemberg</td>\n",
       "      <td>1105</td>\n",
       "      <td>3</td>\n",
       "      <td>48.50</td>\n",
       "      <td>9.00</td>\n",
       "      <td>2020-03-16</td>\n",
       "    </tr>\n",
       "    <tr>\n",
       "      <th>1</th>\n",
       "      <td>Bayern</td>\n",
       "      <td>1067</td>\n",
       "      <td>5</td>\n",
       "      <td>48.90</td>\n",
       "      <td>11.40</td>\n",
       "      <td>2020-03-16</td>\n",
       "    </tr>\n",
       "    <tr>\n",
       "      <th>2</th>\n",
       "      <td>Berlin</td>\n",
       "      <td>300</td>\n",
       "      <td>0</td>\n",
       "      <td>52.50</td>\n",
       "      <td>13.40</td>\n",
       "      <td>2020-03-16</td>\n",
       "    </tr>\n",
       "    <tr>\n",
       "      <th>3</th>\n",
       "      <td>Brandenburg</td>\n",
       "      <td>94</td>\n",
       "      <td>0</td>\n",
       "      <td>52.00</td>\n",
       "      <td>13.87</td>\n",
       "      <td>2020-03-16</td>\n",
       "    </tr>\n",
       "    <tr>\n",
       "      <th>4</th>\n",
       "      <td>Bremen</td>\n",
       "      <td>56</td>\n",
       "      <td>0</td>\n",
       "      <td>53.10</td>\n",
       "      <td>8.80</td>\n",
       "      <td>2020-03-16</td>\n",
       "    </tr>\n",
       "    <tr>\n",
       "      <th>5</th>\n",
       "      <td>Hamburg</td>\n",
       "      <td>260</td>\n",
       "      <td>0</td>\n",
       "      <td>53.50</td>\n",
       "      <td>10.00</td>\n",
       "      <td>2020-03-16</td>\n",
       "    </tr>\n",
       "    <tr>\n",
       "      <th>6</th>\n",
       "      <td>Hessen</td>\n",
       "      <td>342</td>\n",
       "      <td>0</td>\n",
       "      <td>50.70</td>\n",
       "      <td>9.00</td>\n",
       "      <td>2020-03-16</td>\n",
       "    </tr>\n",
       "    <tr>\n",
       "      <th>7</th>\n",
       "      <td>Mecklenburg-Vorpommern</td>\n",
       "      <td>51</td>\n",
       "      <td>0</td>\n",
       "      <td>53.80</td>\n",
       "      <td>12.50</td>\n",
       "      <td>2020-03-16</td>\n",
       "    </tr>\n",
       "    <tr>\n",
       "      <th>8</th>\n",
       "      <td>Niedersachsen</td>\n",
       "      <td>391</td>\n",
       "      <td>0</td>\n",
       "      <td>52.57</td>\n",
       "      <td>10.00</td>\n",
       "      <td>2020-03-16</td>\n",
       "    </tr>\n",
       "    <tr>\n",
       "      <th>9</th>\n",
       "      <td>Nordrhein-Westfalen</td>\n",
       "      <td>1541</td>\n",
       "      <td>5</td>\n",
       "      <td>51.60</td>\n",
       "      <td>7.50</td>\n",
       "      <td>2020-03-16</td>\n",
       "    </tr>\n",
       "    <tr>\n",
       "      <th>10</th>\n",
       "      <td>Rheinland-Pfalz</td>\n",
       "      <td>325</td>\n",
       "      <td>0</td>\n",
       "      <td>50.00</td>\n",
       "      <td>7.30</td>\n",
       "      <td>2020-03-16</td>\n",
       "    </tr>\n",
       "    <tr>\n",
       "      <th>11</th>\n",
       "      <td>Saarland</td>\n",
       "      <td>85</td>\n",
       "      <td>0</td>\n",
       "      <td>49.40</td>\n",
       "      <td>6.97</td>\n",
       "      <td>2020-03-16</td>\n",
       "    </tr>\n",
       "    <tr>\n",
       "      <th>12</th>\n",
       "      <td>Sachsen</td>\n",
       "      <td>140</td>\n",
       "      <td>0</td>\n",
       "      <td>51.05</td>\n",
       "      <td>13.50</td>\n",
       "      <td>2020-03-16</td>\n",
       "    </tr>\n",
       "    <tr>\n",
       "      <th>13</th>\n",
       "      <td>Sachsen-Anhalt</td>\n",
       "      <td>77</td>\n",
       "      <td>0</td>\n",
       "      <td>52.00</td>\n",
       "      <td>11.65</td>\n",
       "      <td>2020-03-16</td>\n",
       "    </tr>\n",
       "    <tr>\n",
       "      <th>14</th>\n",
       "      <td>Schleswig-Holstein</td>\n",
       "      <td>123</td>\n",
       "      <td>0</td>\n",
       "      <td>54.20</td>\n",
       "      <td>9.90</td>\n",
       "      <td>2020-03-16</td>\n",
       "    </tr>\n",
       "    <tr>\n",
       "      <th>15</th>\n",
       "      <td>Thüringen</td>\n",
       "      <td>55</td>\n",
       "      <td>0</td>\n",
       "      <td>50.85</td>\n",
       "      <td>11.13</td>\n",
       "      <td>2020-03-16</td>\n",
       "    </tr>\n",
       "    <tr>\n",
       "      <th>16</th>\n",
       "      <td>Gesamt</td>\n",
       "      <td>6012</td>\n",
       "      <td>13</td>\n",
       "      <td>51.06</td>\n",
       "      <td>10.00</td>\n",
       "      <td>2020-03-16</td>\n",
       "    </tr>\n",
       "  </tbody>\n",
       "</table>\n",
       "</div>"
      ],
      "text/plain": [
       "                bundesland  faelle  tod    lat   long      datum\n",
       "0        Baden-Württemberg    1105    3  48.50   9.00 2020-03-16\n",
       "1                   Bayern    1067    5  48.90  11.40 2020-03-16\n",
       "2                   Berlin     300    0  52.50  13.40 2020-03-16\n",
       "3              Brandenburg      94    0  52.00  13.87 2020-03-16\n",
       "4                   Bremen      56    0  53.10   8.80 2020-03-16\n",
       "5                  Hamburg     260    0  53.50  10.00 2020-03-16\n",
       "6                   Hessen     342    0  50.70   9.00 2020-03-16\n",
       "7   Mecklenburg-Vorpommern      51    0  53.80  12.50 2020-03-16\n",
       "8            Niedersachsen     391    0  52.57  10.00 2020-03-16\n",
       "9      Nordrhein-Westfalen    1541    5  51.60   7.50 2020-03-16\n",
       "10         Rheinland-Pfalz     325    0  50.00   7.30 2020-03-16\n",
       "11                Saarland      85    0  49.40   6.97 2020-03-16\n",
       "12                 Sachsen     140    0  51.05  13.50 2020-03-16\n",
       "13          Sachsen-Anhalt      77    0  52.00  11.65 2020-03-16\n",
       "14      Schleswig-Holstein     123    0  54.20   9.90 2020-03-16\n",
       "15               Thüringen      55    0  50.85  11.13 2020-03-16\n",
       "16                  Gesamt    6012   13  51.06  10.00 2020-03-16"
      ]
     },
     "execution_count": 130,
     "metadata": {},
     "output_type": "execute_result"
    }
   ],
   "source": [
    "df[df[\"datum\"]==today]"
   ]
  },
  {
   "cell_type": "code",
   "execution_count": 131,
   "metadata": {
    "ExecuteTime": {
     "end_time": "2020-03-16T22:50:01.694670Z",
     "start_time": "2020-03-16T22:50:01.687449Z"
    }
   },
   "outputs": [],
   "source": [
    "df.to_csv ('old_data/brd_covid_19'+str(today)+\".csv\", index = False, header=True)"
   ]
  },
  {
   "cell_type": "code",
   "execution_count": null,
   "metadata": {},
   "outputs": [],
   "source": []
  }
 ],
 "metadata": {
  "kernelspec": {
   "display_name": "Python [conda env:nf] *",
   "language": "python",
   "name": "conda-env-nf-py"
  },
  "language_info": {
   "codemirror_mode": {
    "name": "ipython",
    "version": 3
   },
   "file_extension": ".py",
   "mimetype": "text/x-python",
   "name": "python",
   "nbconvert_exporter": "python",
   "pygments_lexer": "ipython3",
   "version": "3.6.10"
  },
  "toc": {
   "base_numbering": 1,
   "nav_menu": {},
   "number_sections": true,
   "sideBar": true,
   "skip_h1_title": false,
   "title_cell": "Table of Contents",
   "title_sidebar": "Contents",
   "toc_cell": false,
   "toc_position": {},
   "toc_section_display": true,
   "toc_window_display": false
  },
  "varInspector": {
   "cols": {
    "lenName": 16,
    "lenType": 16,
    "lenVar": 40
   },
   "kernels_config": {
    "python": {
     "delete_cmd_postfix": "",
     "delete_cmd_prefix": "del ",
     "library": "var_list.py",
     "varRefreshCmd": "print(var_dic_list())"
    },
    "r": {
     "delete_cmd_postfix": ") ",
     "delete_cmd_prefix": "rm(",
     "library": "var_list.r",
     "varRefreshCmd": "cat(var_dic_list()) "
    }
   },
   "types_to_exclude": [
    "module",
    "function",
    "builtin_function_or_method",
    "instance",
    "_Feature"
   ],
   "window_display": false
  }
 },
 "nbformat": 4,
 "nbformat_minor": 4
}
